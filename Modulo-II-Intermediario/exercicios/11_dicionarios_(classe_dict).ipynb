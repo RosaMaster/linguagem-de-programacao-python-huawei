{
 "cells": [
  {
   "cell_type": "markdown",
   "metadata": {},
   "source": [
    "### Dicionários (classe dict)"
   ]
  },
  {
   "cell_type": "code",
   "execution_count": 4,
   "metadata": {},
   "outputs": [
    {
     "name": "stdout",
     "output_type": "stream",
     "text": [
      "('AC', 'Acre', 'Rio Branco', 21.4)\n",
      "Acre\n",
      "R B\n",
      "21.4\n",
      "\n",
      "\n",
      "('MT', 'Mato Grosso', 'Cuiabá', 233.4)\n",
      "Mato Grosso\n",
      "M G\n",
      "233.4\n",
      "\n",
      "\n",
      "[('AC', 'Acre', 'Rio Branco', 21.4), ('CE', 'Ceará', 'Fortaleza', 194.9), ('MT', 'Mato Grosso', 'Cuiabá', 233.4), ('PR', 'Paraná', 'Curitiba', 549.9), ('SP', 'São Paulo', 'São Paulo', 2719.8)]\n"
     ]
    }
   ],
   "source": [
    "# Exemplo de lista\n",
    "\n",
    "lista = [\n",
    "    ('AC', 'Acre', 'Rio Branco', 21.4),\n",
    "    ('CE', 'Ceará', 'Fortaleza', 194.9),\n",
    "    ('MT', 'Mato Grosso', 'Cuiabá', 233.4),\n",
    "    ('PR', 'Paraná', 'Curitiba', 549.9),\n",
    "    ('SP', 'São Paulo', 'São Paulo', 2719.8)\n",
    "]\n",
    "\n",
    "print(lista[0])\n",
    "print(lista[0][1])\n",
    "print(lista[0][2][0], lista[0][2][4])\n",
    "print(lista[0][3])\n",
    "\n",
    "print(\"\\n\")\n",
    "\n",
    "print(lista[2])\n",
    "print(lista[2][1])\n",
    "print(lista[2][1][0], lista[2][1][5])\n",
    "print(lista[2][3])\n",
    "\n",
    "print(\"\\n\")\n",
    "\n",
    "print(lista)"
   ]
  },
  {
   "cell_type": "code",
   "execution_count": null,
   "metadata": {},
   "outputs": [
    {
     "name": "stdout",
     "output_type": "stream",
     "text": [
      "('Mato Grosso', 'Cuiabá', 233.4)\n",
      "Cuiabá\n",
      "M G\n",
      "233.4\n",
      "\n",
      "\n",
      "('São Paulo', 'São Paulo', 2719.8)\n",
      "São Paulo\n",
      "S P\n",
      "2719.8\n",
      "\n",
      "\n",
      "{'AC': ('Acre', 'Rio Branco', 21.4), 'CE': ('Ceará', 'Fortaleza', 194.9), 'MT': ('Mato Grosso', 'Cuiabá', 233.4), 'PR': ('Paraná', 'Curitiba', 549.9), 'SP': ('São Paulo', 'São Paulo', 2719.8)}\n"
     ]
    }
   ],
   "source": [
    "'''\n",
    "| KEY | ESTADO      | CAPITAL    | POPULAÇÃO |\n",
    "| --- | ----------- | ---------- | --------- |\n",
    "| AC  | Acre        | Rio Branco | 21.4      |\n",
    "| CE  | Ceará       | Fortaleza  | 194.9     |\n",
    "| MT  | Mato Grosso | Cuiabá     | 233.4     |\n",
    "| PR  | Paraná      | Curitiba   | 549.9     |\n",
    "| SP  | São Paulo   | São Paulo  | 2719.8    |\n",
    "'''\n",
    "\n",
    "# Exemplo de dicionário\n",
    "\n",
    "dicionario = {\n",
    "    'AC': ('Acre', 'Rio Branco', 21.4),\n",
    "    'CE': ('Ceará', 'Fortaleza', 194.9),\n",
    "    'MT': ('Mato Grosso', 'Cuiabá', 233.4),\n",
    "    'PR': ('Paraná', 'Curitiba', 549.9),\n",
    "    'SP': ('São Paulo', 'São Paulo', 2719.8)\n",
    "}\n",
    "\n",
    "# get valor de uma chave\n",
    "print(dicionario.get('MT'))\n",
    "\n",
    "# get valor de uma chave e de um índice\n",
    "print(dicionario.get('MT')[1])\n",
    "\n",
    "# get valor de uma chave e de um índice e de um índice\n",
    "print(dicionario.get('MT')[0][0], dicionario.get('MT')[0][5])\n",
    "\n",
    "# get valor de uma chave e de um índice\n",
    "print(dicionario.get('MT')[2])\n",
    "\n",
    "print(\"\\n\")\n",
    "\n",
    "# get valor de uma chave e de um índice\n",
    "print(dicionario.get('SP'))\n",
    "\n",
    "# get valor de uma chave e de um índice\n",
    "print(dicionario.get('SP')[1])\n",
    "\n",
    "# get valor de uma chave e de um índice e de um índice\n",
    "print(dicionario.get('SP')[0][0], dicionario.get('SP')[0][4])\n",
    "\n",
    "# get valor de uma chave e de um índice\n",
    "print(dicionario.get('SP')[2])\n",
    "\n",
    "print(\"\\n\")\n",
    "\n",
    "print(dicionario)"
   ]
  },
  {
   "cell_type": "code",
   "execution_count": 6,
   "metadata": {},
   "outputs": [
    {
     "name": "stdout",
     "output_type": "stream",
     "text": [
      "('PR', 'Paraná', 'Curitiba', 549.9)\n",
      "Acre\n",
      "M G\n",
      "233.4\n",
      "\n",
      "\n",
      "{1: ('AC', 'Acre', 'Rio Branco', 21.4), 2: ('CE', 'Ceará', 'Fortaleza', 194.9), 3: ('MT', 'Mato Grosso', 'Cuiabá', 233.4), 99: ('PR', 'Paraná', 'Curitiba', 549.9), 55: ('SP', 'São Paulo', 'São Paulo', 2719.8)}\n"
     ]
    }
   ],
   "source": [
    "# Exemplo de dicionário\n",
    "\n",
    "dicionario = {\n",
    "    1: ('AC', 'Acre', 'Rio Branco', 21.4),\n",
    "    2: ('CE', 'Ceará', 'Fortaleza', 194.9),\n",
    "    3: ('MT', 'Mato Grosso', 'Cuiabá', 233.4),\n",
    "    99: ('PR', 'Paraná', 'Curitiba', 549.9),\n",
    "    55: ('SP', 'São Paulo', 'São Paulo', 2719.8)\n",
    "}\n",
    "\n",
    "# get valor de uma chave\n",
    "print(dicionario.get(99))\n",
    "\n",
    "# get valor de uma chave e de um índice\n",
    "print(dicionario.get(1)[1])\n",
    "\n",
    "# get valor de uma chave e de um índice e de um índice\n",
    "print(dicionario.get(3)[1][0], dicionario.get(3)[1][5])\n",
    "\n",
    "# get valor de uma chave e de um índice\n",
    "print(dicionario.get(3)[3])\n",
    "\n",
    "print(\"\\n\")\n",
    "\n",
    "print(dicionario)"
   ]
  }
 ],
 "metadata": {
  "kernelspec": {
   "display_name": "Python 3",
   "language": "python",
   "name": "python3"
  },
  "language_info": {
   "codemirror_mode": {
    "name": "ipython",
    "version": 3
   },
   "file_extension": ".py",
   "mimetype": "text/x-python",
   "name": "python",
   "nbconvert_exporter": "python",
   "pygments_lexer": "ipython3",
   "version": "3.12.2"
  }
 },
 "nbformat": 4,
 "nbformat_minor": 2
}
