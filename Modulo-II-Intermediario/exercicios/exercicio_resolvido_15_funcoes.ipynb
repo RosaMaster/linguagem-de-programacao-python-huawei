{
 "cells": [
  {
   "cell_type": "markdown",
   "metadata": {},
   "source": []
  },
  {
   "cell_type": "code",
   "execution_count": null,
   "metadata": {},
   "outputs": [],
   "source": [
    "def CalcDigito(cod):\n",
    "    s = str(cod)    # transforma o código em string para usar como iterador\n",
    "    peso = 2\n",
    "    dv = 0\n",
    "    for a in s:     # processa cada algarismo em s\n",
    "        dv += peso * int(a)   # converte o algarismo para int, multiplica pelo peso e acumula\n",
    "        peso += 1   # incrementa o peso\n",
    "    return dv % 7\n",
    "\n",
    "codigo = int(input('Digite o código: '))\n",
    "while codigo > 0:\n",
    "    digito = CalcDigito(codigo)\n",
    "    print(f'Código: {codigo} -> dígito: {digito}')\n",
    "    codigo = int(input('Digite o código: '))\n",
    "print('\\nFim do Programa')"
   ]
  }
 ],
 "metadata": {
  "language_info": {
   "name": "python"
  }
 },
 "nbformat": 4,
 "nbformat_minor": 2
}
