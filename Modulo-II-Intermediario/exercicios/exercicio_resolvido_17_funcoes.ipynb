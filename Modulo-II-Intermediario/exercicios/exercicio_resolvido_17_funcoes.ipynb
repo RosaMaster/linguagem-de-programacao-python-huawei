{
 "cells": [
  {
   "cell_type": "markdown",
   "metadata": {},
   "source": []
  },
  {
   "cell_type": "code",
   "execution_count": null,
   "metadata": {},
   "outputs": [],
   "source": [
    "def CalculaMedia(pNotas):\n",
    "    '''Recebe o string pNotas, faz a separação dos valores, calcula e retorna a média'''\n",
    "    pNotas = pNotas.split()          # o objeto pNotas recebido também será usado como retorno da função\n",
    "    for i in range(len(pNotas)):     # converte as notas lidas para float\n",
    "        pNotas[i] = float(pNotas[i])\n",
    "    media = pNotas[0] * 0.3 + pNotas[1] * 0.3 + pNotas[2] * 0.3 + pNotas[3] * 0.1\n",
    "    situacao = 'APROVADO' if media >= 7 else 'REPROVADO'\n",
    "    pNotas.append(media)             # acrescenta media na lista de retorno\n",
    "    pNotas.append(situacao)          # acrescenta situacao na lista de retorno\n",
    "    return pNotas\n",
    "\n",
    "notas = input('Digite 4 notas (P1 P2 P3 NT): ')\n",
    "resultado = CalculaMedia(notas) # chama a função passando o string lido e retornando uma lista com resultados\n",
    "print(f'P1 = {resultado[0]:.1f}; ', end='')\n",
    "print(f'P2 = {resultado[1]:.1f}; ', end='')\n",
    "print(f'P3 = {resultado[2]:.1f}; ', end='')\n",
    "print(f'NT = {resultado[3]:.1f} -> ', end='')\n",
    "print(f'Média = {resultado[4]:.1f} ', end='')\n",
    "print(f'Situação: {resultado[5]}')"
   ]
  }
 ],
 "metadata": {
  "language_info": {
   "name": "python"
  }
 },
 "nbformat": 4,
 "nbformat_minor": 2
}
