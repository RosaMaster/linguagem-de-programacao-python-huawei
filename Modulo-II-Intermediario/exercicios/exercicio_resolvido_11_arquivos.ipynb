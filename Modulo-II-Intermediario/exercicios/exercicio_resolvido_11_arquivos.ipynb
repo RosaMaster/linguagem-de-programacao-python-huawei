{
 "cells": [
  {
   "cell_type": "markdown",
   "metadata": {},
   "source": [
    "##### exercício 11 - Utilizando caracteres especiais em arquivos\n",
    "\n",
    "sintaxe função `open()`\n",
    "~~~Python\n",
    "open(filename, mode, encoding=ANSI)\n",
    "~~~\n",
    "\n",
    "<br>\n",
    "\n",
    "| **modo de abrir** | **descrição**                                              |\n",
    "| ----------------- | ---------------------------------------------------------- |\n",
    "| `r`               | leitura (padrão)                                           |\n",
    "| `w`               | escrita (cria um novo arquivo ou sobrescreve um existente) |\n",
    "| `a`               | anexar (adiciona ao final do arquivo)                      |\n",
    "| `b`               | modo binário                                               |\n",
    "| `t`               | modo texto (padrão)                                        |\n",
    "| `x`               | criação (falha se o arquivo já existir)                    |\n",
    "\n",
    "\n",
    "| **ENCODING** |\n",
    "| ------------ |\n",
    "| `ANSI`       |\n",
    "| `UTF-8`      |"
   ]
  },
  {
   "cell_type": "markdown",
   "metadata": {},
   "source": [
    "#### Utilizando ANSI"
   ]
  },
  {
   "cell_type": "code",
   "execution_count": null,
   "metadata": {},
   "outputs": [
    {
     "name": "stdout",
     "output_type": "stream",
     "text": [
      "Etapa de gravação! - Write\n",
      "\n",
      "Gravação - Sucesso!\n",
      "\n",
      "Etapa de leitura! - Read\n",
      "\n",
      "Gravação de Arquivo!\n",
      "Acentos: á, é, í, ó, ú, Á, É, Í, Ó, Ú, ç, Ç, ã, Ã\n"
     ]
    }
   ],
   "source": [
    "codigoGrvacao = 'ANSI'\n",
    "codigoLeitura = 'ANSI'\n",
    "\n",
    "print(\"Etapa de gravação! - Write\\n\")\n",
    "arquivo = open(\"./../DATA/saida_exercicio_11_codificacao_teste01.txt\", \"w\", encoding=codigoGrvacao)\n",
    "arquivo.write(\"Gravação de Arquivo!\\n\")\n",
    "arquivo.write(\"Acentos: á, é, í, ó, ú, Á, É, Í, Ó, Ú, ç, Ç, ã, Ã\\n\")\n",
    "arquivo.close()\n",
    "print(\"Gravação - Sucesso!\\n\")\n",
    "\n",
    "print(\"Etapa de leitura! - Read\\n\")\n",
    "arquivo = open(\"./../DATA/saida_exercicio_11_codificacao_teste01.txt\", \"r\", encoding=codigoLeitura)\n",
    "s = arquivo.readline()\n",
    "print(s.strip())\n",
    "s = arquivo.readline()\n",
    "print(s.rstrip())\n",
    "arquivo.close()"
   ]
  },
  {
   "cell_type": "markdown",
   "metadata": {},
   "source": [
    "#### Utilizando UTF-8"
   ]
  },
  {
   "cell_type": "code",
   "execution_count": null,
   "metadata": {},
   "outputs": [
    {
     "name": "stdout",
     "output_type": "stream",
     "text": [
      "Etapa de gravação! - Write\n",
      "\n",
      "Gravação - Sucesso!\n",
      "\n",
      "Etapa de leitura! - Read\n",
      "\n",
      "Gravação de Arquivo!\n",
      "Acentos: á, é, í, ó, ú, Á, É, Í, Ó, Ú, ç, Ç, ã, Ã\n"
     ]
    }
   ],
   "source": [
    "codigoGrvacao = 'UTF-8'\n",
    "codigoLeitura = 'UTF-8'\n",
    "\n",
    "print(\"Etapa de gravação! - Write\\n\")\n",
    "arquivo = open(\"./../DATA/saida_exercicio_11_codificacao_teste02.txt\", \"w\", encoding=codigoGrvacao)\n",
    "arquivo.write(\"Gravação de Arquivo!\\n\")\n",
    "arquivo.write(\"Acentos: á, é, í, ó, ú, Á, É, Í, Ó, Ú, ç, Ç, ã, Ã\\n\")\n",
    "arquivo.close()\n",
    "print(\"Gravação - Sucesso!\\n\")\n",
    "\n",
    "print(\"Etapa de leitura! - Read\\n\")\n",
    "arquivo = open(\"./../DATA/saida_exercicio_11_codificacao_teste02.txt\", \"r\", encoding=codigoLeitura)\n",
    "s = arquivo.readline()\n",
    "print(s.strip())\n",
    "s = arquivo.readline()\n",
    "print(s.rstrip())\n",
    "arquivo.close()"
   ]
  },
  {
   "cell_type": "markdown",
   "metadata": {},
   "source": [
    "### UTF-8  -->  ANSI\n",
    "\n",
    "`retorna caracteres diferentes do escrito`"
   ]
  },
  {
   "cell_type": "code",
   "execution_count": null,
   "metadata": {},
   "outputs": [
    {
     "name": "stdout",
     "output_type": "stream",
     "text": [
      "Etapa de leitura! - Read\n",
      "\n",
      "GravaÃ§Ã£o de Arquivo!\n",
      "Acentos: Ã¡, Ã©, Ã­, Ã³, Ãº, Ã, Ã‰, Ã, Ã“, Ãš, Ã§, Ã‡, Ã£, Ãƒ\n"
     ]
    }
   ],
   "source": [
    "codigoLeitura = 'ANSI'\n",
    "print(\"Etapa de leitura! - Read\\n\")\n",
    "arquivo = open(\"./../DATA/saida_exercicio_11_codificacao_teste02.txt\", \"r\", encoding=codigoLeitura)\n",
    "s = arquivo.readline()\n",
    "print(s.strip())\n",
    "s = arquivo.readline()\n",
    "print(s.rstrip())\n",
    "arquivo.close()"
   ]
  },
  {
   "cell_type": "markdown",
   "metadata": {},
   "source": [
    "### ANSI  -->  UTF-8\n",
    "\n",
    "`estoura Exception`\n",
    "\n",
    "`UnicodeDecodeError: 'utf-8' codec can't decode byte 0xe7 in position 5: invalid continuation byte`"
   ]
  },
  {
   "cell_type": "code",
   "execution_count": null,
   "metadata": {},
   "outputs": [
    {
     "name": "stdout",
     "output_type": "stream",
     "text": [
      "Etapa de leitura! - Read\n",
      "\n"
     ]
    },
    {
     "ename": "UnicodeDecodeError",
     "evalue": "'utf-8' codec can't decode byte 0xe7 in position 5: invalid continuation byte",
     "output_type": "error",
     "traceback": [
      "\u001b[1;31m---------------------------------------------------------------------------\u001b[0m",
      "\u001b[1;31mUnicodeDecodeError\u001b[0m                        Traceback (most recent call last)",
      "Cell \u001b[1;32mIn[17], line 4\u001b[0m\n\u001b[0;32m      2\u001b[0m \u001b[38;5;28mprint\u001b[39m(\u001b[38;5;124m\"\u001b[39m\u001b[38;5;124mEtapa de leitura! - Read\u001b[39m\u001b[38;5;130;01m\\n\u001b[39;00m\u001b[38;5;124m\"\u001b[39m)\n\u001b[0;32m      3\u001b[0m arquivo \u001b[38;5;241m=\u001b[39m \u001b[38;5;28mopen\u001b[39m(\u001b[38;5;124m\"\u001b[39m\u001b[38;5;124m./Data/saida_exercicio_11_codificacao_teste01.txt\u001b[39m\u001b[38;5;124m\"\u001b[39m, \u001b[38;5;124m\"\u001b[39m\u001b[38;5;124mr\u001b[39m\u001b[38;5;124m\"\u001b[39m, encoding\u001b[38;5;241m=\u001b[39mcodigoLeitura)\n\u001b[1;32m----> 4\u001b[0m s \u001b[38;5;241m=\u001b[39m \u001b[43marquivo\u001b[49m\u001b[38;5;241;43m.\u001b[39;49m\u001b[43mreadline\u001b[49m\u001b[43m(\u001b[49m\u001b[43m)\u001b[49m\n\u001b[0;32m      5\u001b[0m \u001b[38;5;28mprint\u001b[39m(s\u001b[38;5;241m.\u001b[39mstrip())\n\u001b[0;32m      6\u001b[0m s \u001b[38;5;241m=\u001b[39m arquivo\u001b[38;5;241m.\u001b[39mreadline()\n",
      "File \u001b[1;32m<frozen codecs>:322\u001b[0m, in \u001b[0;36mdecode\u001b[1;34m(self, input, final)\u001b[0m\n",
      "\u001b[1;31mUnicodeDecodeError\u001b[0m: 'utf-8' codec can't decode byte 0xe7 in position 5: invalid continuation byte"
     ]
    }
   ],
   "source": [
    "codigoLeitura = 'UTF-8'\n",
    "print(\"Etapa de leitura! - Read\\n\")\n",
    "arquivo = open(\"./../DATA/saida_exercicio_11_codificacao_teste01.txt\", \"r\", encoding=codigoLeitura)\n",
    "s = arquivo.readline()\n",
    "print(s.strip())\n",
    "s = arquivo.readline()\n",
    "print(s.rstrip())\n",
    "arquivo.close()"
   ]
  }
 ],
 "metadata": {
  "kernelspec": {
   "display_name": "Python 3",
   "language": "python",
   "name": "python3"
  },
  "language_info": {
   "codemirror_mode": {
    "name": "ipython",
    "version": 3
   },
   "file_extension": ".py",
   "mimetype": "text/x-python",
   "name": "python",
   "nbconvert_exporter": "python",
   "pygments_lexer": "ipython3",
   "version": "3.12.2"
  }
 },
 "nbformat": 4,
 "nbformat_minor": 2
}
