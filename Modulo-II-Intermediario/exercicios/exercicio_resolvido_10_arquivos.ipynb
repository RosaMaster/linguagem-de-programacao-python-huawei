{
 "cells": [
  {
   "cell_type": "markdown",
   "metadata": {},
   "source": [
    "##### exercício 10 - Escreva um programa que leia um arquivo CSV de entrada salvando seus dados em um dicionário. Mostre os dados em tela.\n",
    "\n",
    "sintaxe função `open()`\n",
    "~~~Python\n",
    "open(filename, mode)\n",
    "~~~\n",
    "\n",
    "<br>\n",
    "\n",
    "| **modo de abrir** | **descrição**                                              |\n",
    "| ----------------- | ---------------------------------------------------------- |\n",
    "| `r`               | leitura (padrão)                                           |\n",
    "| `w`               | escrita (cria um novo arquivo ou sobrescreve um existente) |\n",
    "| `a`               | anexar (adiciona ao final do arquivo)                      |\n",
    "| `b`               | modo binário                                               |\n",
    "| `t`               | modo texto (padrão)                                        |\n",
    "| `x`               | criação (falha se o arquivo já existir)                    |"
   ]
  },
  {
   "cell_type": "code",
   "execution_count": null,
   "metadata": {},
   "outputs": [
    {
     "name": "stdout",
     "output_type": "stream",
     "text": [
      "{101010: [10, 23.45, 234.5], 202020: [35, 34.1, 1193.5], 303030: [5, 45.99, 229.95000000000002], 404040: [60, 56.39, 3383.4], 505050: [10, 105.75, 1057.5]}\n"
     ]
    },
    {
     "data": {
      "text/html": [
       "<div>\n",
       "<style scoped>\n",
       "    .dataframe tbody tr th:only-of-type {\n",
       "        vertical-align: middle;\n",
       "    }\n",
       "\n",
       "    .dataframe tbody tr th {\n",
       "        vertical-align: top;\n",
       "    }\n",
       "\n",
       "    .dataframe thead th {\n",
       "        text-align: right;\n",
       "    }\n",
       "</style>\n",
       "<table border=\"1\" class=\"dataframe\">\n",
       "  <thead>\n",
       "    <tr style=\"text-align: right;\">\n",
       "      <th></th>\n",
       "      <th>Código</th>\n",
       "      <th>Quantidade</th>\n",
       "      <th>Preço R$</th>\n",
       "      <th>Preço Total R$</th>\n",
       "    </tr>\n",
       "  </thead>\n",
       "  <tbody>\n",
       "    <tr>\n",
       "      <th>0</th>\n",
       "      <td>101010</td>\n",
       "      <td>10</td>\n",
       "      <td>23.45</td>\n",
       "      <td>234.50</td>\n",
       "    </tr>\n",
       "    <tr>\n",
       "      <th>1</th>\n",
       "      <td>202020</td>\n",
       "      <td>35</td>\n",
       "      <td>34.10</td>\n",
       "      <td>1193.50</td>\n",
       "    </tr>\n",
       "    <tr>\n",
       "      <th>2</th>\n",
       "      <td>303030</td>\n",
       "      <td>5</td>\n",
       "      <td>45.99</td>\n",
       "      <td>229.95</td>\n",
       "    </tr>\n",
       "    <tr>\n",
       "      <th>3</th>\n",
       "      <td>404040</td>\n",
       "      <td>60</td>\n",
       "      <td>56.39</td>\n",
       "      <td>3383.40</td>\n",
       "    </tr>\n",
       "    <tr>\n",
       "      <th>4</th>\n",
       "      <td>505050</td>\n",
       "      <td>10</td>\n",
       "      <td>105.75</td>\n",
       "      <td>1057.50</td>\n",
       "    </tr>\n",
       "  </tbody>\n",
       "</table>\n",
       "</div>"
      ],
      "text/plain": [
       "   Código  Quantidade  Preço R$  Preço Total R$\n",
       "0  101010          10     23.45          234.50\n",
       "1  202020          35     34.10         1193.50\n",
       "2  303030           5     45.99          229.95\n",
       "3  404040          60     56.39         3383.40\n",
       "4  505050          10    105.75         1057.50"
      ]
     },
     "execution_count": 7,
     "metadata": {},
     "output_type": "execute_result"
    }
   ],
   "source": [
    "import pandas as pd\n",
    "\n",
    "estoque = {}\n",
    "\n",
    "for linha in open(\"./../DATA/saida_exercicio_10.csv\", \"r\"):\n",
    "    lista = linha.rstrip().split(\";\")\n",
    "\n",
    "    codigo = int(lista[0])\n",
    "    quantidade = int(lista[1])\n",
    "    preco = float(lista[2])\n",
    "    total = float(quantidade * preco)\n",
    "\n",
    "    estoque[codigo] = [quantidade, preco, total]\n",
    "\n",
    "print(estoque)\n",
    "\n",
    "df_produtos = pd.DataFrame.from_dict(estoque, orient='index', columns=['Quantidade', 'Preço R$', 'Preço Total R$'])\n",
    "df_produtos.reset_index(inplace=True)\n",
    "df_produtos.rename(columns={'index': 'Código'}, inplace=True)\n",
    "\n",
    "df_produtos"
   ]
  },
  {
   "cell_type": "markdown",
   "metadata": {},
   "source": [
    "#### Resolução proposta"
   ]
  },
  {
   "cell_type": "code",
   "execution_count": null,
   "metadata": {},
   "outputs": [
    {
     "name": "stdout",
     "output_type": "stream",
     "text": [
      "101010;10;23.45\n",
      "....202020;35;34.10\n",
      "....303030;5;45.99\n",
      "....404040;60;56.39\n",
      "....505050;10;105.75...."
     ]
    }
   ],
   "source": [
    "dict = {}\n",
    "\n",
    "for linha in open(\"./../DATA/saida_exercicio_10.csv\", \"r\"):\n",
    "    print(linha, end=\"....\")\n"
   ]
  },
  {
   "cell_type": "code",
   "execution_count": null,
   "metadata": {},
   "outputs": [
    {
     "name": "stdout",
     "output_type": "stream",
     "text": [
      "101010;10;23.45....202020;35;34.10....303030;5;45.99....404040;60;56.39....505050;10;105.75...."
     ]
    }
   ],
   "source": [
    "dict = {}\n",
    "\n",
    "for linha in open(\"./../DATA/saida_exercicio_10.csv\", \"r\"):\n",
    "    suprimir_quebra_linha = linha.rstrip()\n",
    "    print(suprimir_quebra_linha, end=\"....\")"
   ]
  },
  {
   "cell_type": "code",
   "execution_count": null,
   "metadata": {},
   "outputs": [
    {
     "name": "stdout",
     "output_type": "stream",
     "text": [
      "['101010', '10', '23.45']....['202020', '35', '34.10']....['303030', '5', '45.99']....['404040', '60', '56.39']....['505050', '10', '105.75']...."
     ]
    }
   ],
   "source": [
    "dict = {}\n",
    "\n",
    "for linha in open(\"./../DATA/saida_exercicio_10.csv\", \"r\"):\n",
    "    suprimir_quebra_linha = linha.rstrip()\n",
    "    lista = suprimir_quebra_linha.split(\";\")\n",
    "    print(lista, end=\"....\")"
   ]
  },
  {
   "cell_type": "code",
   "execution_count": null,
   "metadata": {},
   "outputs": [
    {
     "name": "stdout",
     "output_type": "stream",
     "text": [
      "['101010', '10', '23.45']\n",
      "['202020', '35', '34.10']\n",
      "['303030', '5', '45.99']\n",
      "['404040', '60', '56.39']\n",
      "['505050', '10', '105.75']\n"
     ]
    }
   ],
   "source": [
    "dict = {}\n",
    "\n",
    "for linha in open(\"./../DATA/saida_exercicio_10.csv\", \"r\"):\n",
    "    lista = linha.rstrip().split(\";\")\n",
    "    print(lista)"
   ]
  },
  {
   "cell_type": "code",
   "execution_count": null,
   "metadata": {},
   "outputs": [
    {
     "name": "stdout",
     "output_type": "stream",
     "text": [
      "{101010: [10, 23.45], 202020: [35, 34.1], 303030: [5, 45.99], 404040: [60, 56.39], 505050: [10, 105.75]}\n"
     ]
    }
   ],
   "source": [
    "estoque = {}\n",
    "\n",
    "for linha in open(\"./../DATA/saida_exercicio_10.csv\", \"r\"):\n",
    "    lista = linha.rstrip().split(\";\")\n",
    "\n",
    "    codigo = int(lista[0])\n",
    "    quantidade = int(lista[1])\n",
    "    preco = float(lista[2])\n",
    "\n",
    "    estoque[codigo] = [quantidade, preco]\n",
    "\n",
    "print(estoque)"
   ]
  }
 ],
 "metadata": {
  "kernelspec": {
   "display_name": "Python 3",
   "language": "python",
   "name": "python3"
  },
  "language_info": {
   "codemirror_mode": {
    "name": "ipython",
    "version": 3
   },
   "file_extension": ".py",
   "mimetype": "text/x-python",
   "name": "python",
   "nbconvert_exporter": "python",
   "pygments_lexer": "ipython3",
   "version": "3.12.2"
  }
 },
 "nbformat": 4,
 "nbformat_minor": 2
}
