{
 "cells": [
  {
   "cell_type": "markdown",
   "metadata": {},
   "source": [
    "### Métodos da classe dict"
   ]
  },
  {
   "cell_type": "code",
   "execution_count": null,
   "metadata": {},
   "outputs": [
    {
     "name": "stdout",
     "output_type": "stream",
     "text": [
      "Quantidade produtos cadastrados: 6 unidades\n"
     ]
    }
   ],
   "source": [
    "# Utilizando Len em Dicionários \n",
    "\n",
    "'''\n",
    "| KEY  | Codigo Produto | Produto    | Preco |\n",
    "| ---- | -------------- | ---------- | ----- |\n",
    "| 001  | 001            | Arroz      | 30.0  |\n",
    "| 002  | 002            | Macarrao   | 3.5   |\n",
    "| 003  | 003            | Acucar     | 7.9   |\n",
    "| 004  | 004            | Feijao     | 12.0  |\n",
    "| 005  | 005            | Farinha    | 4.7   |\n",
    "| 006  | 006            | Queijo     | 6.4   |\n",
    "'''\n",
    "\n",
    "produtos = {\n",
    "    '001': ['001', 'Arroz', 30.0],\n",
    "    '002': ['002', 'Macarrao', 3.5],\n",
    "    '003': ['003', 'Acucar', 7.9],\n",
    "    '004': ['004', 'Feijao', 12.0],\n",
    "    '005': ['005', 'Farinha', 4.7],\n",
    "    '006': ['006', 'Queijo', 6.4]\n",
    "}\n",
    "\n",
    "print(f'Quantidade produtos cadastrados: {len(produtos)} unidades')"
   ]
  },
  {
   "cell_type": "markdown",
   "metadata": {},
   "source": [
    "##### Clear dicionario, apaga todo os dados do dicionarios"
   ]
  },
  {
   "cell_type": "code",
   "execution_count": null,
   "metadata": {},
   "outputs": [
    {
     "name": "stdout",
     "output_type": "stream",
     "text": [
      "{'001': ['001', 'Arroz', 30.0], '002': ['002', 'Macarrao', 3.5]}\n",
      "{}\n"
     ]
    }
   ],
   "source": [
    "produtos2 = {\n",
    "    '001': ['001', 'Arroz', 30.0],\n",
    "    '002': ['002', 'Macarrao', 3.5]\n",
    "}\n",
    "\n",
    "print(produtos2)\n",
    "\n",
    "produtos2.clear()\n",
    "\n",
    "print(produtos2)"
   ]
  },
  {
   "cell_type": "markdown",
   "metadata": {},
   "source": [
    "##### Utilizando Copy"
   ]
  },
  {
   "cell_type": "code",
   "execution_count": 10,
   "metadata": {},
   "outputs": [
    {
     "name": "stdout",
     "output_type": "stream",
     "text": [
      "{'001': ['001', 'Arroz', 30.0], '002': ['002', 'Macarrao', 3.5], '003': ['003', 'Acucar', 7.9], '004': ['004', 'Feijao', 12.0], '005': ['005', 'Farinha', 4.7], '006': ['006', 'Queijo', 6.4]}\n",
      "['002', 'Macarrao', 3.5]\n",
      "3.5\n",
      "<class 'float'>\n"
     ]
    }
   ],
   "source": [
    "produtos3 = produtos.copy()\n",
    "\n",
    "print(produtos3)\n",
    "print(produtos3['002'])\n",
    "print(produtos3['002'][2])\n",
    "print(type(produtos3['002'][2]))"
   ]
  }
 ],
 "metadata": {
  "kernelspec": {
   "display_name": "Python 3",
   "language": "python",
   "name": "python3"
  },
  "language_info": {
   "codemirror_mode": {
    "name": "ipython",
    "version": 3
   },
   "file_extension": ".py",
   "mimetype": "text/x-python",
   "name": "python",
   "nbconvert_exporter": "python",
   "pygments_lexer": "ipython3",
   "version": "3.12.2"
  }
 },
 "nbformat": 4,
 "nbformat_minor": 2
}
