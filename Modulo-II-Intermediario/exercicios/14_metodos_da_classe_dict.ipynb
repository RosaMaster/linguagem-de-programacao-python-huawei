{
 "cells": [
  {
   "cell_type": "markdown",
   "metadata": {},
   "source": [
    "### Métodos da classe dict"
   ]
  },
  {
   "cell_type": "code",
   "execution_count": 40,
   "metadata": {},
   "outputs": [
    {
     "name": "stdout",
     "output_type": "stream",
     "text": [
      "Quantidade produtos cadastrados: 6 unidades\n"
     ]
    }
   ],
   "source": [
    "# Utilizando Len em Dicionários \n",
    "\n",
    "'''\n",
    "| KEY  | Codigo Produto | Produto    | Preco |\n",
    "| ---- | -------------- | ---------- | ----- |\n",
    "| 001  | 001            | Arroz      | 30.0  |\n",
    "| 002  | 002            | Macarrao   | 3.5   |\n",
    "| 003  | 003            | Acucar     | 7.9   |\n",
    "| 004  | 004            | Feijao     | 12.0  |\n",
    "| 005  | 005            | Farinha    | 4.7   |\n",
    "| 006  | 006            | Queijo     | 6.4   |\n",
    "'''\n",
    "\n",
    "produtos = {\n",
    "    '001': ['001', 'Arroz', 30.0],\n",
    "    '002': ['002', 'Macarrao', 3.5],\n",
    "    '003': ['003', 'Acucar', 7.9],\n",
    "    '004': ['004', 'Feijao', 12.0],\n",
    "    '005': ['005', 'Farinha', 4.7],\n",
    "    '006': ['006', 'Queijo', 6.4]\n",
    "}\n",
    "\n",
    "print(f'Quantidade produtos cadastrados: {len(produtos)} unidades')"
   ]
  },
  {
   "cell_type": "markdown",
   "metadata": {},
   "source": [
    "##### Clear dicionario, apaga todo os dados do dicionarios"
   ]
  },
  {
   "cell_type": "code",
   "execution_count": 41,
   "metadata": {},
   "outputs": [
    {
     "name": "stdout",
     "output_type": "stream",
     "text": [
      "{'001': ['001', 'Arroz', 30.0], '002': ['002', 'Macarrao', 3.5]}\n",
      "{}\n"
     ]
    }
   ],
   "source": [
    "produtos2 = {\n",
    "    '001': ['001', 'Arroz', 30.0],\n",
    "    '002': ['002', 'Macarrao', 3.5]\n",
    "}\n",
    "\n",
    "print(produtos2)\n",
    "\n",
    "produtos2.clear()\n",
    "\n",
    "print(produtos2)"
   ]
  },
  {
   "cell_type": "markdown",
   "metadata": {},
   "source": [
    "##### Utilizando Copy"
   ]
  },
  {
   "cell_type": "code",
   "execution_count": 42,
   "metadata": {},
   "outputs": [
    {
     "name": "stdout",
     "output_type": "stream",
     "text": [
      "{'001': ['001', 'Arroz', 30.0], '002': ['002', 'Macarrao', 3.5], '003': ['003', 'Acucar', 7.9], '004': ['004', 'Feijao', 12.0], '005': ['005', 'Farinha', 4.7], '006': ['006', 'Queijo', 6.4]}\n",
      "['002', 'Macarrao', 3.5]\n",
      "3.5\n",
      "<class 'float'>\n"
     ]
    }
   ],
   "source": [
    "produtos3 = produtos.copy()\n",
    "\n",
    "print(produtos3)\n",
    "print(produtos3['002'])\n",
    "print(produtos3['002'][2])\n",
    "print(type(produtos3['002'][2]))"
   ]
  },
  {
   "cell_type": "markdown",
   "metadata": {},
   "source": [
    "##### Método GET()"
   ]
  },
  {
   "cell_type": "code",
   "execution_count": 43,
   "metadata": {},
   "outputs": [
    {
     "name": "stdout",
     "output_type": "stream",
     "text": [
      "['004', 'Feijao', 12.0]\n",
      "['005', 'Farinha', 4.7]\n"
     ]
    }
   ],
   "source": [
    "print(produtos.get('004'))\n",
    "\n",
    "print(produtos['005']) # Equivalente ao GET()"
   ]
  },
  {
   "cell_type": "markdown",
   "metadata": {},
   "source": [
    "##### Método FromKeys() - associa um valor padrão aos elementos de uma chave"
   ]
  },
  {
   "cell_type": "code",
   "execution_count": 44,
   "metadata": {},
   "outputs": [
    {
     "name": "stdout",
     "output_type": "stream",
     "text": [
      "{'004': ['milho', 'ervilha', 'grão de bico'], '005': ['milho', 'ervilha', 'grão de bico'], '006': ['milho', 'ervilha', 'grão de bico']}\n",
      "{'004': ' @@ ', '005': ' @@ ', '006': ' @@ '}\n"
     ]
    }
   ],
   "source": [
    "codigos = ['004', '005', '006']\n",
    "itens = ['milho', 'ervilha', 'grão de bico']\n",
    "\n",
    "fromkeys = {}.fromkeys(codigos, itens)\n",
    "print(fromkeys)\n",
    "\n",
    "fromkeys2 = {}.fromkeys(codigos, ' @@ ')\n",
    "print(fromkeys2)"
   ]
  },
  {
   "cell_type": "markdown",
   "metadata": {},
   "source": [
    "##### Método Pop() - Eliminando um elemento do dicionarios"
   ]
  },
  {
   "cell_type": "code",
   "execution_count": 45,
   "metadata": {},
   "outputs": [
    {
     "name": "stdout",
     "output_type": "stream",
     "text": [
      "{'001': ['001', 'Arroz', 30.0], '002': ['002', 'Macarrao', 3.5], '003': ['003', 'Acucar', 7.9], '004': ['004', 'Feijao', 12.0], '005': ['005', 'Farinha', 4.7], '006': ['006', 'Queijo', 6.4]}\n",
      "['003', 'Acucar', 7.9]\n",
      "['004', 'Feijao', 12.0]\n",
      "['005', 'Farinha', 4.7]\n",
      "{'001': ['001', 'Arroz', 30.0], '002': ['002', 'Macarrao', 3.5], '006': ['006', 'Queijo', 6.4]}\n"
     ]
    }
   ],
   "source": [
    "produtos4 = produtos.copy()\n",
    "print(produtos4)\n",
    "\n",
    "pop1 = produtos4.pop('003')\n",
    "print(pop1)\n",
    "\n",
    "pop2 = produtos4.pop('004')\n",
    "print(pop2)\n",
    "\n",
    "pop3 = produtos4.pop('005')\n",
    "print(pop3)\n",
    "\n",
    "print(produtos4)\n",
    "\n",
    "# OBS: retornara erro se tentar remover um item de um dicionario vazio"
   ]
  },
  {
   "cell_type": "markdown",
   "metadata": {},
   "source": [
    "##### Método PopItem() - retira o ultimo item que entrou no dicionário"
   ]
  },
  {
   "cell_type": "code",
   "execution_count": 46,
   "metadata": {},
   "outputs": [
    {
     "name": "stdout",
     "output_type": "stream",
     "text": [
      "{'001': ['001', 'Arroz', 30.0], '002': ['002', 'Macarrao', 3.5], '003': ['003', 'Acucar', 7.9], '004': ['004', 'Feijao', 12.0], '005': ['005', 'Farinha', 4.7], '006': ['006', 'Queijo', 6.4]}\n",
      "('006', ['006', 'Queijo', 6.4])\n",
      "('005', ['005', 'Farinha', 4.7])\n",
      "('004', ['004', 'Feijao', 12.0])\n",
      "{'001': ['001', 'Arroz', 30.0], '002': ['002', 'Macarrao', 3.5], '003': ['003', 'Acucar', 7.9]}\n"
     ]
    }
   ],
   "source": [
    "produtos5 = produtos.copy()\n",
    "print(produtos5)\n",
    "\n",
    "popitem1 = produtos5.popitem()\n",
    "print(popitem1)\n",
    "\n",
    "popitem2 = produtos5.popitem()\n",
    "print(popitem2)\n",
    "\n",
    "popitem3 = produtos5.popitem()\n",
    "print(popitem3)\n",
    "\n",
    "print(produtos5)\n",
    "\n",
    "# OBS: retornara erro se tentar remover um item de um dicionario vazio"
   ]
  },
  {
   "cell_type": "markdown",
   "metadata": {},
   "source": [
    "##### Método SetDefault() - Adiciona elemento novo ao dicionario\n",
    "Se o elemento ja existe no dicionario ele retorna o elemento existente<br>\n",
    "Se o elemento não existe ele adiciona  no dicionário e retorna o valor do elemento adicionado"
   ]
  },
  {
   "cell_type": "code",
   "execution_count": 47,
   "metadata": {},
   "outputs": [
    {
     "name": "stdout",
     "output_type": "stream",
     "text": [
      "{'001': ['001', 'Arroz', 30.0], '002': ['002', 'Macarrao', 3.5], '003': ['003', 'Acucar', 7.9], '004': ['004', 'Feijao', 12.0], '005': ['005', 'Farinha', 4.7], '006': ['006', 'Queijo', 6.4]}\n",
      "['007', 'Cereja', 10.5]\n",
      "{'001': ['001', 'Arroz', 30.0], '002': ['002', 'Macarrao', 3.5], '003': ['003', 'Acucar', 7.9], '004': ['004', 'Feijao', 12.0], '005': ['005', 'Farinha', 4.7], '006': ['006', 'Queijo', 6.4], '007': ['007', 'Cereja', 10.5]}\n",
      "['001', 'Arroz', 30.0]\n",
      "{'001': ['001', 'Arroz', 30.0], '002': ['002', 'Macarrao', 3.5], '003': ['003', 'Acucar', 7.9], '004': ['004', 'Feijao', 12.0], '005': ['005', 'Farinha', 4.7], '006': ['006', 'Queijo', 6.4], '007': ['007', 'Cereja', 10.5]}\n"
     ]
    }
   ],
   "source": [
    "produtos6 = produtos.copy()\n",
    "print(produtos6)\n",
    "\n",
    "setdefault1 = produtos6.setdefault('007', ['007', 'Cereja', 10.5])\n",
    "\n",
    "print(setdefault1)\n",
    "\n",
    "print(produtos6)\n",
    "\n",
    "setdefault2 = produtos6.setdefault('001', ['0010', 'Arrozz', 300.0])\n",
    "\n",
    "print(setdefault2)\n",
    "\n",
    "print(produtos6)"
   ]
  },
  {
   "cell_type": "markdown",
   "metadata": {},
   "source": [
    "### Método Update()"
   ]
  },
  {
   "cell_type": "code",
   "execution_count": 48,
   "metadata": {},
   "outputs": [
    {
     "name": "stdout",
     "output_type": "stream",
     "text": [
      "{'001': ['001', 'Arroz', 30.0], '002': ['002', 'Macarrao', 3.5], '003': ['003', 'Acucar', 7.9], '004': ['004', 'Feijao', 12.0], '005': ['005', 'Farinha', 4.7], '006': ['006', 'Queijo', 6.4]}\n",
      "{'001': ['0001', 'Cenoura', 5.0], '002': ['002', 'Macarrao', 3.5], '003': ['003', 'Acucar', 7.9], '004': ['004', 'Feijao', 12.0], '005': ['005', 'Farinha', 4.7], '006': ['006', 'Queijo', 6.4]}\n"
     ]
    }
   ],
   "source": [
    "produtos7 = produtos.copy()\n",
    "print(produtos7)\n",
    "\n",
    "produtos7.update( { '001': ['0001', 'Cenoura', 5.0] } )\n",
    "\n",
    "print(produtos7)\n"
   ]
  },
  {
   "cell_type": "markdown",
   "metadata": {},
   "source": [
    "### Método Keys() - retorna as chaves do dict"
   ]
  },
  {
   "cell_type": "code",
   "execution_count": 49,
   "metadata": {},
   "outputs": [
    {
     "name": "stdout",
     "output_type": "stream",
     "text": [
      "{'001': ['001', 'Arroz', 30.0], '002': ['002', 'Macarrao', 3.5], '003': ['003', 'Acucar', 7.9], '004': ['004', 'Feijao', 12.0], '005': ['005', 'Farinha', 4.7], '006': ['006', 'Queijo', 6.4]}\n",
      "001\n",
      "002\n",
      "003\n",
      "004\n",
      "005\n",
      "006\n",
      "dict_keys(['001', '002', '003', '004', '005', '006'])\n"
     ]
    }
   ],
   "source": [
    "produtos8 = produtos.copy()\n",
    "print(produtos8)\n",
    "\n",
    "chaves = produtos8.keys()\n",
    "\n",
    "for chave in chaves:\n",
    "    print(chave)\n",
    "\n",
    "print(chaves)"
   ]
  },
  {
   "cell_type": "markdown",
   "metadata": {},
   "source": [
    "### Método Values() - retorna os valores do dict"
   ]
  },
  {
   "cell_type": "code",
   "execution_count": 50,
   "metadata": {},
   "outputs": [
    {
     "name": "stdout",
     "output_type": "stream",
     "text": [
      "{'001': ['001', 'Arroz', 30.0], '002': ['002', 'Macarrao', 3.5], '003': ['003', 'Acucar', 7.9], '004': ['004', 'Feijao', 12.0], '005': ['005', 'Farinha', 4.7], '006': ['006', 'Queijo', 6.4]}\n",
      "['001', 'Arroz', 30.0]\n",
      "['002', 'Macarrao', 3.5]\n",
      "['003', 'Acucar', 7.9]\n",
      "['004', 'Feijao', 12.0]\n",
      "['005', 'Farinha', 4.7]\n",
      "['006', 'Queijo', 6.4]\n",
      "dict_values([['001', 'Arroz', 30.0], ['002', 'Macarrao', 3.5], ['003', 'Acucar', 7.9], ['004', 'Feijao', 12.0], ['005', 'Farinha', 4.7], ['006', 'Queijo', 6.4]])\n"
     ]
    }
   ],
   "source": [
    "produtos9 = produtos.copy()\n",
    "print(produtos9)\n",
    "\n",
    "values = produtos9.values()\n",
    "\n",
    "for value in values:\n",
    "    print(value)\n",
    "\n",
    "print(values)"
   ]
  },
  {
   "cell_type": "markdown",
   "metadata": {},
   "source": [
    "### Método items() - retorna os itens do dict"
   ]
  },
  {
   "cell_type": "code",
   "execution_count": 51,
   "metadata": {},
   "outputs": [
    {
     "name": "stdout",
     "output_type": "stream",
     "text": [
      "{'001': ['001', 'Arroz', 30.0], '002': ['002', 'Macarrao', 3.5], '003': ['003', 'Acucar', 7.9], '004': ['004', 'Feijao', 12.0], '005': ['005', 'Farinha', 4.7], '006': ['006', 'Queijo', 6.4]}\n",
      "('001', ['001', 'Arroz', 30.0])\n",
      "('002', ['002', 'Macarrao', 3.5])\n",
      "('003', ['003', 'Acucar', 7.9])\n",
      "('004', ['004', 'Feijao', 12.0])\n",
      "('005', ['005', 'Farinha', 4.7])\n",
      "('006', ['006', 'Queijo', 6.4])\n",
      "dict_items([('001', ['001', 'Arroz', 30.0]), ('002', ['002', 'Macarrao', 3.5]), ('003', ['003', 'Acucar', 7.9]), ('004', ['004', 'Feijao', 12.0]), ('005', ['005', 'Farinha', 4.7]), ('006', ['006', 'Queijo', 6.4])])\n"
     ]
    }
   ],
   "source": [
    "produtos10 = produtos.copy()\n",
    "print(produtos10)\n",
    "\n",
    "items = produtos10.items()\n",
    "\n",
    "for item in items:\n",
    "    print(item)\n",
    "\n",
    "print(items)"
   ]
  }
 ],
 "metadata": {
  "kernelspec": {
   "display_name": "Python 3",
   "language": "python",
   "name": "python3"
  },
  "language_info": {
   "codemirror_mode": {
    "name": "ipython",
    "version": 3
   },
   "file_extension": ".py",
   "mimetype": "text/x-python",
   "name": "python",
   "nbconvert_exporter": "python",
   "pygments_lexer": "ipython3",
   "version": "3.12.2"
  }
 },
 "nbformat": 4,
 "nbformat_minor": 2
}
