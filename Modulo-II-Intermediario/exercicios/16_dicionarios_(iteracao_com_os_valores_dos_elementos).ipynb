{
 "cells": [
  {
   "cell_type": "markdown",
   "metadata": {},
   "source": [
    "### Dicionários (Iteração com os valores dos elementos)"
   ]
  },
  {
   "cell_type": "code",
   "execution_count": 3,
   "metadata": {},
   "outputs": [
    {
     "name": "stdout",
     "output_type": "stream",
     "text": [
      "{1: 'azul', 2: 'verde', 3: 'amarelo', 4: 'vermelho'}\n",
      "<class 'dict'>\n"
     ]
    }
   ],
   "source": [
    "cores = {1: 'azul', 2: 'verde', 3: 'amarelo', 4: 'vermelho'}\n",
    "\n",
    "print(cores)\n",
    "print(type(cores))"
   ]
  },
  {
   "cell_type": "code",
   "execution_count": 6,
   "metadata": {},
   "outputs": [
    {
     "name": "stdout",
     "output_type": "stream",
     "text": [
      "azul\n",
      "verde\n",
      "amarelo\n",
      "vermelho\n"
     ]
    }
   ],
   "source": [
    "for value in cores.values():\n",
    "    print(f'{value}')"
   ]
  }
 ],
 "metadata": {
  "kernelspec": {
   "display_name": "Python 3",
   "language": "python",
   "name": "python3"
  },
  "language_info": {
   "codemirror_mode": {
    "name": "ipython",
    "version": 3
   },
   "file_extension": ".py",
   "mimetype": "text/x-python",
   "name": "python",
   "nbconvert_exporter": "python",
   "pygments_lexer": "ipython3",
   "version": "3.12.2"
  }
 },
 "nbformat": 4,
 "nbformat_minor": 2
}
