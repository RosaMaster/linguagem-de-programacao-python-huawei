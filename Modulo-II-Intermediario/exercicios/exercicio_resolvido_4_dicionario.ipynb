{
 "cells": [
  {
   "cell_type": "markdown",
   "metadata": {},
   "source": [
    "##### exercício 04 - escreva um programa que leia dados dos estados brasileiros: Sigla, Nome, Capital e PIB. A SIGLA deve ser usada como chave para o dicionário e o valor dever ser uma tupla formada com (Nome, Capital, PIB). A leitura termina quando uma string vazia for fornecida para a Sigla. "
   ]
  },
  {
   "cell_type": "code",
   "execution_count": null,
   "metadata": {},
   "outputs": [],
   "source": []
  }
 ],
 "metadata": {
  "language_info": {
   "name": "python"
  }
 },
 "nbformat": 4,
 "nbformat_minor": 2
}
