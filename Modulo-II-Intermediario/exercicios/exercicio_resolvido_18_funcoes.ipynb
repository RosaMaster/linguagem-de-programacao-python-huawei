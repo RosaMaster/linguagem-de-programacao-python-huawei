{
 "cells": [
  {
   "cell_type": "markdown",
   "metadata": {},
   "source": []
  },
  {
   "cell_type": "code",
   "execution_count": null,
   "metadata": {},
   "outputs": [],
   "source": [
    "def Primo(V):\n",
    "    '''Se V for primo retorna True, senão retorna False'''\n",
    "    if V == 2:        # V é ímpar\n",
    "        return True\n",
    "    elif V % 2 == 0:  # V é par maior que 2\n",
    "        return False\n",
    "    else:             # testa se V ímpar é primo\n",
    "        raiz = pow(V, 0.5) # a raiz de V é o limite dos testes necessários\n",
    "        i = 3\n",
    "        while i <= raiz:\n",
    "            if V % i == 0:\n",
    "                return False # se for divisível retorna falso imediatamente\n",
    "            i += 2\n",
    "        return True # se chegar no final do laço então é primo\n",
    "\n",
    "N = int(input('Digite um inteiro: '))\n",
    "if Primo(N):\n",
    "    print(f'{N} é primo')\n",
    "else:\n",
    "    print(f'{N} não é primo')"
   ]
  }
 ],
 "metadata": {
  "language_info": {
   "name": "python"
  }
 },
 "nbformat": 4,
 "nbformat_minor": 2
}
