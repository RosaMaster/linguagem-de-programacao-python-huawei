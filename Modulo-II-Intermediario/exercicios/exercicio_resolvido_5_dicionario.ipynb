{
 "cells": [
  {
   "cell_type": "markdown",
   "metadata": {},
   "source": [
    "##### exercício 05 - escreva um programa que leia dados dos estados brasileiros: Sigla, Nome, Capital e PIB. A SIGLA deve ser usada como chave para o dicionário e o valor dever ser um dicionario aninhado contendo os objetos Nome, Capital, PIB. A leitura termina quando uma string vazia for fornecida para a Sigla."
   ]
  },
  {
   "cell_type": "code",
   "execution_count": null,
   "metadata": {},
   "outputs": [],
   "source": []
  },
  {
   "cell_type": "markdown",
   "metadata": {},
   "source": [
    "#### Resolução proposta"
   ]
  },
  {
   "cell_type": "code",
   "execution_count": null,
   "metadata": {},
   "outputs": [],
   "source": [
    "UF = {}\n",
    "print('Leitura dos dados')\n",
    "while True:\n",
    "    sigla = input('  Digite a sigla: ')\n",
    "    if sigla == '':\n",
    "        break        # interrompe o laço se cod == ''\n",
    "    elif sigla in UF:\n",
    "        print(f'  ...o código {sigla} já está no cadastro')\n",
    "        continue     # segue para a próxima iteração\n",
    "    estado = input('  Digite o nome: ')\n",
    "    capital = input('  Digite a capital: ')\n",
    "    pib = float(input('  Digite o PIB: '))\n",
    "    dicItem = {'nome': estado, 'capital': capital, 'pib': pib}\n",
    "    UF[sigla] = dicItem\t   # acrescenta novo item ao dicionário\n",
    "print('Fim da leitura dos dados\\n')\n",
    "\n",
    "print('     {:15} {:15} {:>10}'.format('Estado', 'Capital', 'PIB (R$ bi)'))\n",
    "for sigla, dados in UF.items():\n",
    "    print('({}) {:15} {:15} {:10.1f}'.format(\n",
    "        sigla,\n",
    "        dados['nome'],\n",
    "        dados['capital'],\n",
    "        dados['pib'] )\n",
    "    )\n",
    "print(\"\\nFim do Programa\")"
   ]
  }
 ],
 "metadata": {
  "language_info": {
   "name": "python"
  }
 },
 "nbformat": 4,
 "nbformat_minor": 2
}
