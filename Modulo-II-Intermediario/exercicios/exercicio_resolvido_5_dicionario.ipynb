{
 "cells": [
  {
   "cell_type": "markdown",
   "metadata": {},
   "source": [
    "##### exercício 05 - escreva um programa que leia dados dos estados brasileiros: Sigla, Nome, Capital e PIB. A SIGLA deve ser usada como chave para o dicionário e o valor dever ser um dicionario aninhado contendo os objetos Nome, Capital, PIB. A leitura termina quando uma string vazia for fornecida para a Sigla."
   ]
  },
  {
   "cell_type": "code",
   "execution_count": null,
   "metadata": {},
   "outputs": [],
   "source": []
  }
 ],
 "metadata": {
  "language_info": {
   "name": "python"
  }
 },
 "nbformat": 4,
 "nbformat_minor": 2
}
