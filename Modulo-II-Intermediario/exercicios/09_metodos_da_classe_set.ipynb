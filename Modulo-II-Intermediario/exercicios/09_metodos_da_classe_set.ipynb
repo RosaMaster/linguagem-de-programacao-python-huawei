{
 "cells": [
  {
   "cell_type": "markdown",
   "metadata": {},
   "source": [
    "### Métodos da classe set"
   ]
  },
  {
   "cell_type": "markdown",
   "metadata": {},
   "source": [
    "##### Add elementos"
   ]
  },
  {
   "cell_type": "code",
   "execution_count": 18,
   "metadata": {},
   "outputs": [
    {
     "name": "stdout",
     "output_type": "stream",
     "text": [
      "set()\n",
      "<class 'set'>\n",
      "0\n",
      "{32, 32.4, 'Hello', 76, 85, 190}\n"
     ]
    }
   ],
   "source": [
    "conjunto01 = set()\n",
    "\n",
    "print(conjunto01)\n",
    "print(type(conjunto01))\n",
    "print(len(conjunto01))\n",
    "\n",
    "conjunto01.add(85)\n",
    "conjunto01.add(190)\n",
    "conjunto01.add(32)\n",
    "conjunto01.add(76)\n",
    "conjunto01.add(32.4)\n",
    "conjunto01.add('Hello')\n",
    "\n",
    "print(conjunto01)\n"
   ]
  },
  {
   "cell_type": "markdown",
   "metadata": {},
   "source": [
    "##### Clear conjunto"
   ]
  },
  {
   "cell_type": "code",
   "execution_count": 19,
   "metadata": {},
   "outputs": [
    {
     "name": "stdout",
     "output_type": "stream",
     "text": [
      "{32, 32.4, 85, 'Hello', 76, 190}\n",
      "<class 'set'>\n",
      "6\n",
      "set()\n",
      "0\n"
     ]
    }
   ],
   "source": [
    "conjunto02 = {32, 32.4, 'Hello', 76, 85, 190}\n",
    "\n",
    "print(conjunto02)\n",
    "print(type(conjunto02))\n",
    "print(len(conjunto02))\n",
    "\n",
    "conjunto02.clear()\n",
    "\n",
    "print(conjunto02)\n",
    "print(len(conjunto02))"
   ]
  },
  {
   "cell_type": "markdown",
   "metadata": {},
   "source": [
    "##### Clonando conjunto"
   ]
  },
  {
   "cell_type": "code",
   "execution_count": 20,
   "metadata": {},
   "outputs": [
    {
     "name": "stdout",
     "output_type": "stream",
     "text": [
      "{81, 18, 36, 43, 77}\n",
      "<class 'set'>\n",
      "5\n",
      "{81, 18, 36, 43, 77}\n",
      "<class 'set'>\n",
      "5\n",
      "2167727868832\n",
      "2167727868384\n"
     ]
    }
   ],
   "source": [
    "conjunto03 = {36, 77, 81, 43, 18}\n",
    "\n",
    "print(conjunto03)\n",
    "print(type(conjunto03))\n",
    "print(len(conjunto03))\n",
    "\n",
    "\n",
    "conjunto04 = conjunto03.copy()\n",
    "\n",
    "print(conjunto04)\n",
    "print(type(conjunto04))\n",
    "print(len(conjunto04))\n",
    "\n",
    "print(id(conjunto03))\n",
    "print(id(conjunto04))"
   ]
  },
  {
   "cell_type": "markdown",
   "metadata": {},
   "source": [
    "##### Diferença entre conjuntos imprime os elementos de conjunto05 que não tem em conjunto06"
   ]
  },
  {
   "cell_type": "code",
   "execution_count": 21,
   "metadata": {},
   "outputs": [
    {
     "name": "stdout",
     "output_type": "stream",
     "text": [
      "{26, 45}\n"
     ]
    }
   ],
   "source": [
    "conjunto05 = {26, 32, 45, 58, 63}\n",
    "conjunto06 = {19, 32, 34, 58, 63, 67, 82}\n",
    "\n",
    "print(conjunto05.difference(conjunto06))"
   ]
  },
  {
   "cell_type": "markdown",
   "metadata": {},
   "source": [
    "##### Update conjunto07"
   ]
  },
  {
   "cell_type": "code",
   "execution_count": 24,
   "metadata": {},
   "outputs": [
    {
     "name": "stdout",
     "output_type": "stream",
     "text": [
      "{26, 45, 63}\n"
     ]
    }
   ],
   "source": [
    "conjunto07 = {26, 32, 45, 58, 63}\n",
    "conjunto08 = {19, 32, 34, 58, 67, 82}\n",
    "\n",
    "conjunto07.difference_update(conjunto08)\n",
    "\n",
    "print(conjunto07)"
   ]
  },
  {
   "cell_type": "markdown",
   "metadata": {},
   "source": [
    "##### Remove elemento do conjunto"
   ]
  },
  {
   "cell_type": "code",
   "execution_count": 25,
   "metadata": {},
   "outputs": [
    {
     "name": "stdout",
     "output_type": "stream",
     "text": [
      "{32, 58, 26, 63}\n"
     ]
    }
   ],
   "source": [
    "conjunto09 = {26, 32, 45, 58, 63}\n",
    "\n",
    "conjunto09.discard(45)\n",
    "\n",
    "print(conjunto09)"
   ]
  },
  {
   "cell_type": "markdown",
   "metadata": {},
   "source": [
    "##### Intersecção"
   ]
  },
  {
   "cell_type": "code",
   "execution_count": 26,
   "metadata": {},
   "outputs": [
    {
     "name": "stdout",
     "output_type": "stream",
     "text": [
      "{32, 58}\n"
     ]
    }
   ],
   "source": [
    "conjunto10 = {26, 32, 45, 58, 63}\n",
    "conjunto11 = {19, 32, 34, 58, 67, 82}\n",
    "\n",
    "print(conjunto10.intersection(conjunto11))"
   ]
  },
  {
   "cell_type": "markdown",
   "metadata": {},
   "source": [
    "##### Update intersecção"
   ]
  },
  {
   "cell_type": "code",
   "execution_count": 27,
   "metadata": {},
   "outputs": [
    {
     "name": "stdout",
     "output_type": "stream",
     "text": [
      "{32, 58}\n"
     ]
    }
   ],
   "source": [
    "conjunto12 = {26, 32, 45, 58, 63}\n",
    "conjunto13 = {19, 32, 34, 58, 67, 82}\n",
    "\n",
    "conjunto12.intersection_update(conjunto13)\n",
    "\n",
    "print(conjunto12)"
   ]
  },
  {
   "cell_type": "markdown",
   "metadata": {},
   "source": [
    "##### Disjunção para devolver true os elementos de um conjunto recisa ser todos diferentes do outro conjunto"
   ]
  },
  {
   "cell_type": "code",
   "execution_count": null,
   "metadata": {},
   "outputs": [
    {
     "name": "stdout",
     "output_type": "stream",
     "text": [
      "False\n",
      "True\n"
     ]
    }
   ],
   "source": [
    "conjunto14 = {26, 32, 45, 58, 63}\n",
    "conjunto15 = {19, 32, 34, 58, 67, 82}\n",
    "conjunto16 = {126, 312, 415, 518, 613}\n",
    "\n",
    "print(conjunto14.isdisjoint(conjunto15))\n",
    "\n",
    "print(conjunto14.isdisjoint(conjunto16))\n"
   ]
  },
  {
   "cell_type": "markdown",
   "metadata": {},
   "source": [
    "##### O retorno será verdadeiro se todos os elementos estão no conjunto 1 consta no conjunto 2"
   ]
  },
  {
   "cell_type": "code",
   "execution_count": 31,
   "metadata": {},
   "outputs": [
    {
     "name": "stdout",
     "output_type": "stream",
     "text": [
      "False\n",
      "True\n"
     ]
    }
   ],
   "source": [
    "conjunto17 = {10, 20, 30, 40, 50}\n",
    "conjunto18 = {10, 19, 30, 32, 58, 67, 82}\n",
    "conjunto19 = {5, 10, 15, 20, 25, 30, 35, 40, 45, 50}\n",
    "\n",
    "print(conjunto17.issubset(conjunto18))\n",
    "\n",
    "print(conjunto17.issubset(conjunto19))"
   ]
  },
  {
   "cell_type": "markdown",
   "metadata": {},
   "source": [
    "##### Retorna falso ou verdadeiro se C1 for superconjunto de C2, ou seja todos os elementos de C2 esteja contido em C1"
   ]
  },
  {
   "cell_type": "code",
   "execution_count": 33,
   "metadata": {},
   "outputs": [
    {
     "name": "stdout",
     "output_type": "stream",
     "text": [
      "False\n",
      "True\n"
     ]
    }
   ],
   "source": [
    "conjunto20 = {10, 20, 30, 40, 50}\n",
    "conjunto21 = {10, 19, 30, 32, 58, 67, 82}\n",
    "conjunto22 = {10, 30, 50}\n",
    "\n",
    "print(conjunto20.issuperset(conjunto21))\n",
    "\n",
    "print(conjunto20.issuperset(conjunto22))"
   ]
  },
  {
   "cell_type": "markdown",
   "metadata": {},
   "source": [
    "##### Remove um elemento aleatorio\n",
    "`não é permitido realizar o metodo pop() com o conjunto **VAZIO**`"
   ]
  },
  {
   "cell_type": "code",
   "execution_count": 35,
   "metadata": {},
   "outputs": [
    {
     "name": "stdout",
     "output_type": "stream",
     "text": [
      "{32, 82, 67, 19, 58, 10, 30}\n",
      "32\n",
      "{82, 67, 19, 58, 10, 30}\n"
     ]
    }
   ],
   "source": [
    "conjunto23 = {10, 19, 30, 32, 58, 67, 82}\n",
    "\n",
    "print(conjunto23)\n",
    "\n",
    "x = conjunto23.pop()\n",
    "\n",
    "print(x)\n",
    "print(conjunto23)"
   ]
  },
  {
   "cell_type": "markdown",
   "metadata": {},
   "source": [
    "##### Remove um elemento especifico"
   ]
  },
  {
   "cell_type": "code",
   "execution_count": 36,
   "metadata": {},
   "outputs": [
    {
     "name": "stdout",
     "output_type": "stream",
     "text": [
      "{32, 82, 67, 19, 58, 10, 30}\n",
      "{32, 82, 67, 19, 58, 10}\n"
     ]
    }
   ],
   "source": [
    "conjunto24 = {10, 19, 30, 32, 58, 67, 82}\n",
    "\n",
    "print(conjunto24)\n",
    "\n",
    "conjunto24.remove(30)\n",
    "\n",
    "print(conjunto24)"
   ]
  },
  {
   "cell_type": "markdown",
   "metadata": {},
   "source": [
    "##### Validação"
   ]
  },
  {
   "cell_type": "code",
   "execution_count": null,
   "metadata": {},
   "outputs": [
    {
     "name": "stdout",
     "output_type": "stream",
     "text": [
      "False\n",
      "True\n"
     ]
    }
   ],
   "source": [
    "conjunto25 = {10, 19, 30, 32, 58, 67, 82}\n",
    "\n",
    "print(20 in conjunto25)\n",
    "print(19 in conjunto25)"
   ]
  },
  {
   "cell_type": "markdown",
   "metadata": {},
   "source": [
    "##### União de conjuntos"
   ]
  },
  {
   "cell_type": "code",
   "execution_count": null,
   "metadata": {},
   "outputs": [
    {
     "name": "stdout",
     "output_type": "stream",
     "text": [
      "{32, 67, 40, 10, 50, 82, 20, 19, 58, 30}\n"
     ]
    }
   ],
   "source": [
    "conjunto26 = {10, 20, 30, 40, 50}\n",
    "conjunto27 = {10, 19, 30, 32, 58, 67, 82}\n",
    "\n",
    "print(conjunto26.union(conjunto27))"
   ]
  },
  {
   "cell_type": "markdown",
   "metadata": {},
   "source": [
    "##### Diferença simetrica, são todos os elementos da união menos da interseccção"
   ]
  },
  {
   "cell_type": "code",
   "execution_count": 42,
   "metadata": {},
   "outputs": [
    {
     "name": "stdout",
     "output_type": "stream",
     "text": [
      "{10, 30}\n",
      "{32, 67, 40, 10, 50, 82, 20, 19, 58, 30}\n",
      "{67, 82, 19, 20, 32, 40, 50, 58}\n"
     ]
    }
   ],
   "source": [
    "conjunto28 = {10, 20, 30, 40, 50}\n",
    "conjunto29 = {10, 19, 30, 32, 58, 67, 82}\n",
    "\n",
    "print(conjunto28.intersection(conjunto29))\n",
    "print(conjunto28.union(conjunto29))\n",
    "print(conjunto28.symmetric_difference(conjunto29))"
   ]
  },
  {
   "cell_type": "markdown",
   "metadata": {},
   "source": [
    "##### Update com a diferença simetrica"
   ]
  },
  {
   "cell_type": "code",
   "execution_count": 43,
   "metadata": {},
   "outputs": [
    {
     "name": "stdout",
     "output_type": "stream",
     "text": [
      "{10, 30}\n",
      "{32, 67, 40, 10, 50, 82, 20, 19, 58, 30}\n",
      "{67, 82, 19, 20, 32, 40, 50, 58}\n"
     ]
    }
   ],
   "source": [
    "conjunto30 = {10, 20, 30, 40, 50}\n",
    "conjunto31 = {10, 19, 30, 32, 58, 67, 82}\n",
    "\n",
    "print(conjunto30.intersection(conjunto31))\n",
    "print(conjunto30.union(conjunto31))\n",
    "conjunto30.symmetric_difference_update(conjunto31)\n",
    "\n",
    "print(conjunto30)"
   ]
  },
  {
   "cell_type": "markdown",
   "metadata": {},
   "source": [
    "##### Update realiza a união e faz o update no conjunto"
   ]
  },
  {
   "cell_type": "code",
   "execution_count": 44,
   "metadata": {},
   "outputs": [
    {
     "name": "stdout",
     "output_type": "stream",
     "text": [
      "{32, 67, 40, 10, 50, 82, 20, 19, 58, 30}\n"
     ]
    }
   ],
   "source": [
    "conjunto30 = {10, 20, 30, 40, 50}\n",
    "conjunto31 = {10, 19, 30, 32, 58, 67, 82}\n",
    "\n",
    "conjunto30.update(conjunto31)\n",
    "\n",
    "print(conjunto30)"
   ]
  }
 ],
 "metadata": {
  "kernelspec": {
   "display_name": "Python 3",
   "language": "python",
   "name": "python3"
  },
  "language_info": {
   "codemirror_mode": {
    "name": "ipython",
    "version": 3
   },
   "file_extension": ".py",
   "mimetype": "text/x-python",
   "name": "python",
   "nbconvert_exporter": "python",
   "pygments_lexer": "ipython3",
   "version": "3.12.2"
  }
 },
 "nbformat": 4,
 "nbformat_minor": 2
}
