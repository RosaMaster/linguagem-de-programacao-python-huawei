{
 "cells": [
  {
   "cell_type": "markdown",
   "metadata": {},
   "source": [
    "##### exercício 01 - Escreva um programa que leia um inteiro QTDE e crie um conjunto com elementos numéricos inteiros aleatórios demtro do intervalo fechado [1, 50]. Mostre o conjunto gerado na tela. Lembre-se ques os conjuntos não podem ter elementos repetidos, então a geração de números aleatórios pode representar um problema. \n",
    "> Como resolver isso?\n",
    ">> CUIDADO: Este programa tem potencial para entrar em laço infinito caso o valor fornecido para QTDE seja maior que 50. Faça o teste e depois responda a perguta: por que isso ocorre?"
   ]
  },
  {
   "cell_type": "code",
   "execution_count": 6,
   "metadata": {},
   "outputs": [
    {
     "name": "stdout",
     "output_type": "stream",
     "text": [
      "{32, 35, 4, 9, 42, 15, 48, 16, 20, 28}\n"
     ]
    }
   ],
   "source": [
    "from random import randint\n",
    "\n",
    "qtde = int(input('Digite a quantidade de elementos do conjunto: '))\n",
    "\n",
    "conjunto = set()\n",
    "\n",
    "while len(conjunto) < qtde:\n",
    "    conjunto.add(randint(1, 50))\n",
    "\n",
    "print(conjunto)"
   ]
  },
  {
   "cell_type": "code",
   "execution_count": 7,
   "metadata": {},
   "outputs": [
    {
     "name": "stdout",
     "output_type": "stream",
     "text": [
      "{34, 35, 3, 37, 40, 12, 13, 46, 14, 22, 26, 29, 30}\n"
     ]
    }
   ],
   "source": [
    "qtde2 = int(input('Digite a quantidade de elementos do conjunto: '))\n",
    "\n",
    "conjunto2 = set()\n",
    "\n",
    "for i in range(qtde2):\n",
    "    conjunto2.add(randint(1, 50))\n",
    "\n",
    "print(conjunto2)"
   ]
  }
 ],
 "metadata": {
  "kernelspec": {
   "display_name": "Python 3",
   "language": "python",
   "name": "python3"
  },
  "language_info": {
   "codemirror_mode": {
    "name": "ipython",
    "version": 3
   },
   "file_extension": ".py",
   "mimetype": "text/x-python",
   "name": "python",
   "nbconvert_exporter": "python",
   "pygments_lexer": "ipython3",
   "version": "3.12.2"
  }
 },
 "nbformat": 4,
 "nbformat_minor": 2
}
