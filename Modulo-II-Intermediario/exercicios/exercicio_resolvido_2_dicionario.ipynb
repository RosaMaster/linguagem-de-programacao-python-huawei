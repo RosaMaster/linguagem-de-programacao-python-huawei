{
 "cells": [
  {
   "cell_type": "markdown",
   "metadata": {},
   "source": [
    "##### exercício 02 - escreva um programa que leia do teclado o código de um produto e seu preço unitario. O código é uma string e o preço é real. Acrescente o par código:preço em um dicionário. O laço termina quando for fornecido um string vazio para o código. Ao final, exibir o código e o preço, um produto em cada linha.\n"
   ]
  },
  {
   "cell_type": "code",
   "execution_count": 1,
   "metadata": {},
   "outputs": [
    {
     "data": {
      "text/html": [
       "<div>\n",
       "<style scoped>\n",
       "    .dataframe tbody tr th:only-of-type {\n",
       "        vertical-align: middle;\n",
       "    }\n",
       "\n",
       "    .dataframe tbody tr th {\n",
       "        vertical-align: top;\n",
       "    }\n",
       "\n",
       "    .dataframe thead th {\n",
       "        text-align: right;\n",
       "    }\n",
       "</style>\n",
       "<table border=\"1\" class=\"dataframe\">\n",
       "  <thead>\n",
       "    <tr style=\"text-align: right;\">\n",
       "      <th></th>\n",
       "      <th>Produto</th>\n",
       "      <th>Código</th>\n",
       "      <th>Nome</th>\n",
       "      <th>Preço R$</th>\n",
       "    </tr>\n",
       "  </thead>\n",
       "  <tbody>\n",
       "    <tr>\n",
       "      <th>0</th>\n",
       "      <td>banana</td>\n",
       "      <td>000121</td>\n",
       "      <td>Banana</td>\n",
       "      <td>14.20</td>\n",
       "    </tr>\n",
       "    <tr>\n",
       "      <th>1</th>\n",
       "      <td>maca</td>\n",
       "      <td>000122</td>\n",
       "      <td>Maçã</td>\n",
       "      <td>5.55</td>\n",
       "    </tr>\n",
       "    <tr>\n",
       "      <th>2</th>\n",
       "      <td>pera</td>\n",
       "      <td>000123</td>\n",
       "      <td>Pêra</td>\n",
       "      <td>7.90</td>\n",
       "    </tr>\n",
       "    <tr>\n",
       "      <th>3</th>\n",
       "      <td>abacate</td>\n",
       "      <td>000124</td>\n",
       "      <td>Abacate</td>\n",
       "      <td>9.09</td>\n",
       "    </tr>\n",
       "    <tr>\n",
       "      <th>4</th>\n",
       "      <td>melancia</td>\n",
       "      <td>000125</td>\n",
       "      <td>Melância</td>\n",
       "      <td>18.30</td>\n",
       "    </tr>\n",
       "    <tr>\n",
       "      <th>5</th>\n",
       "      <td>uva</td>\n",
       "      <td>000126</td>\n",
       "      <td>Uva</td>\n",
       "      <td>10.70</td>\n",
       "    </tr>\n",
       "  </tbody>\n",
       "</table>\n",
       "</div>"
      ],
      "text/plain": [
       "    Produto  Código      Nome  Preço R$\n",
       "0    banana  000121    Banana     14.20\n",
       "1      maca  000122      Maçã      5.55\n",
       "2      pera  000123      Pêra      7.90\n",
       "3   abacate  000124   Abacate      9.09\n",
       "4  melancia  000125  Melância     18.30\n",
       "5       uva  000126       Uva     10.70"
      ]
     },
     "execution_count": 1,
     "metadata": {},
     "output_type": "execute_result"
    }
   ],
   "source": [
    "import pandas as pd  # Importing pandas library for DataFrame operations\n",
    "\n",
    "# Create Dictionary\n",
    "produtos = {\n",
    "    'banana':   ['000121', 'Banana',   14.20],\n",
    "    'maca':     ['000122', 'Maçã',      5.55],\n",
    "    'pera':     ['000123', 'Pêra',      7.90],\n",
    "    'abacate':  ['000124', 'Abacate',   9.09],\n",
    "    'melancia': ['000125', 'Melância', 18.30],\n",
    "    'uva':      ['000126', 'Uva',      10.70]\n",
    "}\n",
    "\n",
    "# Convert Dictionary to DataFrame\n",
    "df_produtos = pd.DataFrame.from_dict(produtos, orient='index', columns=['Código', 'Nome', 'Preço R$'])\n",
    "df_produtos.reset_index(inplace=True)\n",
    "df_produtos.rename(columns={'index': 'Produto'}, inplace=True)\n",
    "\n",
    "# Display the DataFrame\n",
    "df_produtos"
   ]
  },
  {
   "cell_type": "code",
   "execution_count": null,
   "metadata": {},
   "outputs": [
    {
     "name": "stdout",
     "output_type": "stream",
     "text": [
      "1 - Banana - R$ 14.20\n",
      "Subtotal ----> R$ 14.20\n",
      "PESSEGO Produto não encontrado!\n",
      "2 - Maçã - R$ 5.55\n",
      "Subtotal ----> R$ 19.75\n",
      "AMORA Produto não encontrado!\n",
      "3 - Melância - R$ 18.30\n",
      "Subtotal ----> R$ 38.05\n",
      "\n",
      "$$$$$  Total: R$ 38.05  $$$$$   |    3 itens\n",
      "\n",
      "Volte sempre!!!\n"
     ]
    }
   ],
   "source": [
    "sacola = input('Digite o nome do produto: ').lower()\n",
    "\n",
    "total = 0\n",
    "index = 0\n",
    "\n",
    "while sacola != '':\n",
    "    try:\n",
    "        \n",
    "        \n",
    "        produto = produtos.get(sacola)\n",
    "        total += produto[2]\n",
    "        index += 1\n",
    "\n",
    "        print(f\"{index} - {produto[1]} - R$ {produto[2]:.2f}\")\n",
    "        print(f\"Subtotal ----> R$ {total:.2f}\")\n",
    "        sacola = input('Digite o nome do produto: ').lower()\n",
    "    \n",
    "    except:\n",
    "\n",
    "        print(f'{(sacola).upper()} Produto não encontrado!')\n",
    "\n",
    "    sacola = input('Digite o nome do produto: ').lower()\n",
    "\n",
    "print(f'\\n$$$$$  Total: R$ {total:.2f}  $$$$$   ||  {index} itens')\n",
    "\n",
    "print('\\nVolte sempre!!!')"
   ]
  },
  {
   "cell_type": "markdown",
   "metadata": {},
   "source": [
    "#### Resolução proposta"
   ]
  },
  {
   "cell_type": "code",
   "execution_count": null,
   "metadata": {},
   "outputs": [
    {
     "name": "stdout",
     "output_type": "stream",
     "text": [
      "Leitura dos dados\n",
      "Fim da leitura dos dados\n",
      "\n",
      "Preço dos Produtos\n",
      "  produto 01 custa R$    2.00\n",
      "\n",
      "Fim do programa\n"
     ]
    }
   ],
   "source": [
    "produtos = {}\n",
    "\n",
    "print('Leitura dos dados')\n",
    "\n",
    "cod = input('  Digite o código: ')\n",
    "\n",
    "while cod != '':\n",
    "    preco = float(input('  Digite o preço: '))\n",
    "    produtos[cod] = preco\t# acrescenta novo item ao dicionário\n",
    "    cod = input('  Digite o código: ')\n",
    "\n",
    "print('Fim da leitura dos dados\\n')\n",
    "\n",
    "print('Preço dos Produtos')\n",
    "\n",
    "for cod in produtos.keys():\n",
    "    print(f'  produto {cod} custa R$ {produtos[cod]:7.2f}')\n",
    "\n",
    "print(\"\\nFim do programa\")"
   ]
  }
 ],
 "metadata": {
  "kernelspec": {
   "display_name": "Python 3",
   "language": "python",
   "name": "python3"
  },
  "language_info": {
   "codemirror_mode": {
    "name": "ipython",
    "version": 3
   },
   "file_extension": ".py",
   "mimetype": "text/x-python",
   "name": "python",
   "nbconvert_exporter": "python",
   "pygments_lexer": "ipython3",
   "version": "3.12.2"
  }
 },
 "nbformat": 4,
 "nbformat_minor": 2
}
