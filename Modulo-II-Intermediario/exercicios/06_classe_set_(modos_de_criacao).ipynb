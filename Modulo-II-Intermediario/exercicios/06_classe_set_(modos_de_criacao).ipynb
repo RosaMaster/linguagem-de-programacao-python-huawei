{
 "cells": [
  {
   "cell_type": "markdown",
   "metadata": {},
   "source": [
    "### Classe Set - Modos de criação"
   ]
  },
  {
   "cell_type": "code",
   "execution_count": 2,
   "metadata": {},
   "outputs": [
    {
     "name": "stdout",
     "output_type": "stream",
     "text": [
      "{'u', 'l', 'q', 'a', 'r', 'x', 'o', 't', ' ', 'e'}\n"
     ]
    }
   ],
   "source": [
    "# conjunto de uma string\n",
    "\n",
    "texto = 'qualquer texto'\n",
    "c1 = set(texto)\n",
    "print(c1)"
   ]
  },
  {
   "cell_type": "code",
   "execution_count": 3,
   "metadata": {},
   "outputs": [
    {
     "name": "stdout",
     "output_type": "stream",
     "text": [
      "{11, 3, 7}\n"
     ]
    }
   ],
   "source": [
    "# conjunto de uma tupla\n",
    "\n",
    "tupla = (3, 7, 11)\n",
    "c2 = set(tupla)\n",
    "print(c2)"
   ]
  },
  {
   "cell_type": "code",
   "execution_count": 4,
   "metadata": {},
   "outputs": [
    {
     "name": "stdout",
     "output_type": "stream",
     "text": [
      "{10, 22}\n"
     ]
    }
   ],
   "source": [
    "# conjunto de uma lista\n",
    "\n",
    "lista = [10, 22]\n",
    "c3 = set(lista)\n",
    "print(c3)"
   ]
  },
  {
   "cell_type": "markdown",
   "metadata": {},
   "source": [
    "### Clonando Conjunto"
   ]
  },
  {
   "cell_type": "code",
   "execution_count": 5,
   "metadata": {},
   "outputs": [
    {
     "name": "stdout",
     "output_type": "stream",
     "text": [
      "{'u', 'l', 'q', 'a', 'r', 'x', 'o', 't', ' ', 'e'}\n"
     ]
    }
   ],
   "source": [
    "c4 = set(c1)\n",
    "print(c4)"
   ]
  }
 ],
 "metadata": {
  "kernelspec": {
   "display_name": "Python 3",
   "language": "python",
   "name": "python3"
  },
  "language_info": {
   "codemirror_mode": {
    "name": "ipython",
    "version": 3
   },
   "file_extension": ".py",
   "mimetype": "text/x-python",
   "name": "python",
   "nbconvert_exporter": "python",
   "pygments_lexer": "ipython3",
   "version": "3.12.2"
  }
 },
 "nbformat": 4,
 "nbformat_minor": 2
}
