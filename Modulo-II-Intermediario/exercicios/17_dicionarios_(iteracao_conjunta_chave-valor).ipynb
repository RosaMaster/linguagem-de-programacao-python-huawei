{
 "cells": [
  {
   "cell_type": "markdown",
   "metadata": {},
   "source": [
    "### Dicionários (Iteração conjunta chave-valor)"
   ]
  },
  {
   "cell_type": "code",
   "execution_count": 2,
   "metadata": {},
   "outputs": [
    {
     "name": "stdout",
     "output_type": "stream",
     "text": [
      "{1: 'azul', 2: 'verde', 3: 'amarelo', 4: 'vermelho'}\n",
      "<class 'dict'>\n"
     ]
    }
   ],
   "source": [
    "cores = {1: 'azul', 2: 'verde', 3: 'amarelo', 4: 'vermelho'}\n",
    "\n",
    "print(cores)\n",
    "print(type(cores))"
   ]
  },
  {
   "cell_type": "code",
   "execution_count": 3,
   "metadata": {},
   "outputs": [
    {
     "name": "stdout",
     "output_type": "stream",
     "text": [
      "(1, 'azul')\n",
      "(2, 'verde')\n",
      "(3, 'amarelo')\n",
      "(4, 'vermelho')\n"
     ]
    }
   ],
   "source": [
    "for item in cores.items():\n",
    "    print(f'{item}')"
   ]
  },
  {
   "cell_type": "code",
   "execution_count": 4,
   "metadata": {},
   "outputs": [
    {
     "name": "stdout",
     "output_type": "stream",
     "text": [
      "\n",
      "Código cor: 1 -> Nome da cor: \"azul\"\n",
      "\n",
      "Código cor: 2 -> Nome da cor: \"verde\"\n",
      "\n",
      "Código cor: 3 -> Nome da cor: \"amarelo\"\n",
      "\n",
      "Código cor: 4 -> Nome da cor: \"vermelho\"\n"
     ]
    }
   ],
   "source": [
    "for item in cores.items():\n",
    "    print(f'\\nCódigo cor: {item[0]} -> Nome da cor: \"{item[1]}\"')"
   ]
  },
  {
   "cell_type": "code",
   "execution_count": 5,
   "metadata": {},
   "outputs": [
    {
     "name": "stdout",
     "output_type": "stream",
     "text": [
      "\n",
      "Código cor: 1 -> Nome da cor: \"azul\"\n",
      "\n",
      "Código cor: 2 -> Nome da cor: \"verde\"\n",
      "\n",
      "Código cor: 3 -> Nome da cor: \"amarelo\"\n",
      "\n",
      "Código cor: 4 -> Nome da cor: \"vermelho\"\n"
     ]
    }
   ],
   "source": [
    "for codigo, cor in cores.items():\n",
    "    print(f'\\nCódigo cor: {codigo} -> Nome da cor: \"{cor}\"')"
   ]
  }
 ],
 "metadata": {
  "kernelspec": {
   "display_name": "Python 3",
   "language": "python",
   "name": "python3"
  },
  "language_info": {
   "codemirror_mode": {
    "name": "ipython",
    "version": 3
   },
   "file_extension": ".py",
   "mimetype": "text/x-python",
   "name": "python",
   "nbconvert_exporter": "python",
   "pygments_lexer": "ipython3",
   "version": "3.12.2"
  }
 },
 "nbformat": 4,
 "nbformat_minor": 2
}
