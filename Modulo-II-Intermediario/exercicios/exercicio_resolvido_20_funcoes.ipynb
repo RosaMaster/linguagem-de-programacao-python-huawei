{
 "cells": [
  {
   "cell_type": "markdown",
   "metadata": {},
   "source": []
  },
  {
   "cell_type": "code",
   "execution_count": null,
   "metadata": {},
   "outputs": [],
   "source": [
    "def soma(P, R, Q):\n",
    "    '''P: primeiro termo - R: razão - Q: quantidade'''\n",
    "    if Q > 0:\n",
    "        a = P + soma(P+R, R, Q-1)\n",
    "        return a\n",
    "    else:\n",
    "        return 0\n",
    "\n",
    "Prim = int(input('Digite o primeiro termo: '))\n",
    "Razao = int(input('Digite a razão: '))\n",
    "Qtde = int(input('Digite a quantidade: '))\n",
    "Resultado = soma(Prim, Razao, Qtde)\n",
    "print(f'para Prim = {Prim}; Razao = {Razao}; Qtde = {Qtde} -> Soma = {Resultado}')\n"
   ]
  },
  {
   "cell_type": "markdown",
   "metadata": {},
   "source": []
  },
  {
   "cell_type": "code",
   "execution_count": null,
   "metadata": {},
   "outputs": [],
   "source": [
    "def BuscaBin(valor, lista, ini, fim):\n",
    "    '''Procura valor em lista, entre as posições ini:fim'''\n",
    "    if ini > fim:\n",
    "        return False\n",
    "    meio = (ini + fim) // 2\n",
    "    if valor == lista[meio]:\n",
    "        return True\n",
    "    elif valor < lista[meio]:\n",
    "        return BuscaBin(valor, lista, ini, meio-1)\n",
    "    else:\n",
    "        return BuscaBin(valor, lista, meio+1, fim)\n",
    "\n",
    "L = [14, 17, 20, 22, 23, 25, 28, 29, 31, 35, 40, 45, 50, 53, 56, 59, 62, 65]\n",
    "X = int(input('Digite um valor para pesquisa na lista: '))\n",
    "while X != 0:\n",
    "    Achou = BuscaBin(X, L, 0, len(L)-1)\n",
    "    if Achou != 0:\n",
    "        # chamada para verificar a metade esquerda da lista\n",
    "        print(f'{X} está na lista')\n",
    "    else:\n",
    "        # chamada para verificar a metade direita da lista\n",
    "        print(f'{X} não está na lista')\n",
    "    X = int(input('Digite um valor para pesquisa na lista: '))\n",
    "print('Fim do Programa')"
   ]
  },
  {
   "cell_type": "markdown",
   "metadata": {},
   "source": []
  },
  {
   "cell_type": "code",
   "execution_count": null,
   "metadata": {},
   "outputs": [],
   "source": [
    "def calcElemento(lin, col):\n",
    "    if col == 0 or col == lin:\n",
    "        return 1\n",
    "    else:\n",
    "        return calcElemento(lin - 1, col - 1) + calcElemento(lin - 1, col)\n",
    "\n",
    "def criaLinhas(qtdeLinhas):\n",
    "    resultado = []\n",
    "    for linha in range(qtdeLinhas):\n",
    "        valores_linha = []\n",
    "        for coluna in range(linha + 1):\n",
    "            valores_linha.append(calcElemento(linha, coluna))\n",
    "        resultado.append(valores_linha)\n",
    "    return resultado\n",
    "\n",
    "def ExibeTriangulo(T):\n",
    "    S = []\n",
    "    for linha in T:\n",
    "        saida = ''\n",
    "        for elemento in linha:\n",
    "            saida = saida + ' ' + str(elemento)\n",
    "#        saida = ' '.join([str(elemento) for elemento in linha])\n",
    "        S.append(saida)\n",
    "    largura = len(S[-1])\n",
    "    for saida in S:\n",
    "         print(f'{saida:^{largura}s}')\n",
    "\n",
    "\n",
    "qtdeLinhas = int(input('Digite a quantidade: '))\n",
    "TriangPascal = criaLinhas(qtdeLinhas)\n",
    "ExibeTriangulo(TriangPascal)"
   ]
  },
  {
   "cell_type": "markdown",
   "metadata": {},
   "source": []
  },
  {
   "cell_type": "code",
   "execution_count": null,
   "metadata": {},
   "outputs": [],
   "source": [
    "def CalculaMedia(pNotas):\n",
    "    '''Recebe o string pNotas, faz a separação dos valores, calcula e retorna a média'''\n",
    "    pNotas = pNotas.split()\n",
    "    for i in range(len(pNotas)):\n",
    "        pNotas[i] = float(pNotas[i])\n",
    "    pNotas.append(pNotas[0] * 0.4 + pNotas[1] * 0.4 + pNotas[2] * 0.2)\n",
    "    return pNotas\n",
    "\n",
    "def ExibeResultado(pNotas):\n",
    "    '''Recebe a lista pNotas e produz a saída especificada'''\n",
    "    print(f'  n1 = {pNotas[0]:.1f}; ', end='')\n",
    "    print(f'n2 = {pNotas[1]:.1f}; ', end='')\n",
    "    print(f'nt = {pNotas[2]:.1f} -> ', end='')\n",
    "    print(f'Média = {pNotas[3]:.1f} ')\n",
    "\n",
    "notas = input('Digite as três notas: ')\n",
    "while notas != '':\n",
    "    notas = CalculaMedia(notas)\n",
    "    ExibeResultado(notas)\n",
    "    notas = input('Digite as três notas: ')\n",
    "print('\\nFim do Programa')"
   ]
  }
 ],
 "metadata": {
  "language_info": {
   "name": "python"
  }
 },
 "nbformat": 4,
 "nbformat_minor": 2
}
