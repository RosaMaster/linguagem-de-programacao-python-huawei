{
 "cells": [
  {
   "cell_type": "markdown",
   "metadata": {},
   "source": [
    "### Classe Set usada como iterador"
   ]
  },
  {
   "cell_type": "code",
   "execution_count": 1,
   "metadata": {},
   "outputs": [
    {
     "name": "stdout",
     "output_type": "stream",
     "text": [
      "34\n",
      "67\n",
      "11\n",
      "45\n",
      "78\n",
      "23\n",
      "56\n",
      "89\n",
      "90\n"
     ]
    }
   ],
   "source": [
    "conjunto01 = {11, 23, 34, 45, 56, 67, 78, 89, 90}\n",
    "\n",
    "for item in conjunto01:\n",
    "    print(item)"
   ]
  },
  {
   "cell_type": "code",
   "execution_count": 2,
   "metadata": {},
   "outputs": [
    {
     "name": "stdout",
     "output_type": "stream",
     "text": [
      "34\n",
      "67\n",
      "11\n",
      "45\n",
      "78\n",
      "23\n",
      "56\n",
      "89\n",
      "90\n"
     ]
    }
   ],
   "source": [
    "conjunto02 = {23, 11, 34, 45, 67, 56, 78, 89, 90}\n",
    "\n",
    "for item in conjunto02:\n",
    "    print(item)"
   ]
  }
 ],
 "metadata": {
  "kernelspec": {
   "display_name": "Python 3",
   "language": "python",
   "name": "python3"
  },
  "language_info": {
   "codemirror_mode": {
    "name": "ipython",
    "version": 3
   },
   "file_extension": ".py",
   "mimetype": "text/x-python",
   "name": "python",
   "nbconvert_exporter": "python",
   "pygments_lexer": "ipython3",
   "version": "3.12.2"
  }
 },
 "nbformat": 4,
 "nbformat_minor": 2
}
