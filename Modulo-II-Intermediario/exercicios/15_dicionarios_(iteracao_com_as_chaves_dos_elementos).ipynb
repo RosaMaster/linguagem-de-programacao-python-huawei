{
 "cells": [
  {
   "cell_type": "markdown",
   "metadata": {},
   "source": [
    "### Dicionários (Iteração com as chaves dos elementos)"
   ]
  },
  {
   "cell_type": "code",
   "execution_count": 1,
   "metadata": {},
   "outputs": [
    {
     "name": "stdout",
     "output_type": "stream",
     "text": [
      "{1: 'azul', 2: 'verde', 3: 'amarelo', 4: 'vermelho'}\n",
      "<class 'dict'>\n"
     ]
    }
   ],
   "source": [
    "cores = {1: 'azul', 2: 'verde', 3: 'amarelo', 4: 'vermelho'}\n",
    "\n",
    "print(cores)\n",
    "print(type(cores))"
   ]
  },
  {
   "cell_type": "markdown",
   "metadata": {},
   "source": [
    "##### Exibição do dicionário - Caso 01"
   ]
  },
  {
   "cell_type": "code",
   "execution_count": 5,
   "metadata": {},
   "outputs": [
    {
     "name": "stdout",
     "output_type": "stream",
     "text": [
      " 1 - azul\n",
      " 2 - verde\n",
      " 3 - amarelo\n",
      " 4 - vermelho\n"
     ]
    }
   ],
   "source": [
    "for chave in cores.keys():\n",
    "    print(f' {chave} - {cores[chave]}')"
   ]
  },
  {
   "cell_type": "markdown",
   "metadata": {},
   "source": [
    "##### Exibição do dicionário - Caso 02 - ao chamar o dicionário com iterador ele assume keys() como default"
   ]
  },
  {
   "cell_type": "code",
   "execution_count": 6,
   "metadata": {},
   "outputs": [
    {
     "name": "stdout",
     "output_type": "stream",
     "text": [
      " 1 - azul\n",
      " 2 - verde\n",
      " 3 - amarelo\n",
      " 4 - vermelho\n"
     ]
    }
   ],
   "source": [
    "for chave in cores:\n",
    "    print(f' {chave} - {cores[chave]}')"
   ]
  }
 ],
 "metadata": {
  "kernelspec": {
   "display_name": "Python 3",
   "language": "python",
   "name": "python3"
  },
  "language_info": {
   "codemirror_mode": {
    "name": "ipython",
    "version": 3
   },
   "file_extension": ".py",
   "mimetype": "text/x-python",
   "name": "python",
   "nbconvert_exporter": "python",
   "pygments_lexer": "ipython3",
   "version": "3.12.2"
  }
 },
 "nbformat": 4,
 "nbformat_minor": 2
}
