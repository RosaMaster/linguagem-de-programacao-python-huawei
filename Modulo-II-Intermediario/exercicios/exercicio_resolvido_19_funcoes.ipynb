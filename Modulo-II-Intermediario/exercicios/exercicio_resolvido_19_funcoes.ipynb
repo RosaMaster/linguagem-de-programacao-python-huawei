{
 "cells": [
  {
   "cell_type": "markdown",
   "metadata": {},
   "source": []
  },
  {
   "cell_type": "code",
   "execution_count": null,
   "metadata": {},
   "outputs": [],
   "source": [
    "from time import sleep\n",
    "def Contagem(Cont):\n",
    "    if Cont == 0:\n",
    "        print('NO AR!!!')\n",
    "    else:\n",
    "        print(Cont)\n",
    "        sleep(1)           # faz uma pausa de 1 segundo no programa\n",
    "        Contagem(Cont-1)\n",
    "\n",
    "toques = int(input('Digite a quantidade de toques da contagem: '))\n",
    "print(f'Atenção para o toque de {toques} segundos...')\n",
    "Contagem(toques)"
   ]
  }
 ],
 "metadata": {
  "language_info": {
   "name": "python"
  }
 },
 "nbformat": 4,
 "nbformat_minor": 2
}
