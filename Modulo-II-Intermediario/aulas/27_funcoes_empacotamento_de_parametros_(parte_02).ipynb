{
 "cells": [
  {
   "cell_type": "markdown",
   "metadata": {},
   "source": [
    "### Funções - Empacotamento de parâmetros(Parte 02)\n",
    "\n",
    "*args e **kwargs são usados em funções Python para permitir que elas aceitem um número variável de argumentos. A principal diferença entre eles é o tipo de argumentos que eles aceitam:\n",
    "\n",
    "*args\n",
    "Propósito: Permite que uma função aceite um número variável de argumentos posicionais.\n",
    "Tipo: *args é uma tupla que contém todos os argumentos posicionais passados para a função.\n",
    "Uso: Útil quando você não sabe de antemão quantos argumentos posicionais serão passados para a função.\n",
    "\n",
    "**kwargs\n",
    "Propósito: Permite que uma função aceite um número variável de argumentos nomeados (ou seja, argumentos passados como pares chave-valor).\n",
    "Tipo: **kwargs é um dicionário que contém todos os argumentos nomeados passados para a função.\n",
    "Uso: Útil quando você não sabe de antemão quantos argumentos nomeados serão passados para a função."
   ]
  },
  {
   "cell_type": "code",
   "execution_count": 5,
   "metadata": {},
   "outputs": [
    {
     "name": "stdout",
     "output_type": "stream",
     "text": [
      "laranja, banana, uva\n",
      "laranja - banana - uva\n",
      "laranja @-@ banana @-@ uva\n"
     ]
    }
   ],
   "source": [
    "def montaSaida(*valores, separador = ', '):\n",
    "    saida = separador.join(valores)\n",
    "\n",
    "    return saida\n",
    "\n",
    "print(montaSaida('laranja', 'banana', 'uva'))\n",
    "print(montaSaida('laranja', 'banana', 'uva', separador = ' - '))\n",
    "print(montaSaida('laranja', 'banana', 'uva', separador = ' @-@ '))"
   ]
  }
 ],
 "metadata": {
  "kernelspec": {
   "display_name": "Python 3",
   "language": "python",
   "name": "python3"
  },
  "language_info": {
   "codemirror_mode": {
    "name": "ipython",
    "version": 3
   },
   "file_extension": ".py",
   "mimetype": "text/x-python",
   "name": "python",
   "nbconvert_exporter": "python",
   "pygments_lexer": "ipython3",
   "version": "3.12.2"
  }
 },
 "nbformat": 4,
 "nbformat_minor": 2
}
