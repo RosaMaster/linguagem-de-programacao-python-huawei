{
 "cells": [
  {
   "cell_type": "markdown",
   "metadata": {},
   "source": [
    "### Funções - Parâmetros nomeados\n",
    "\n",
    "Em Python, parâmetros nomeados permitem que você chame uma função especificando explicitamente o nome dos parâmetros, o que pode tornar o código mais legível e evitar erros ao passar argumentos na ordem errada.\n",
    "\n",
    "Explicação\n",
    "nome e mensagem são parâmetros da função **saudacao**.\n",
    "Ao chamar a função, você pode especificar os argumentos usando o nome dos parâmetros (**nome=\"Maria\"**, **mensagem=\"Bom dia\"**).\n",
    "\n",
    "**`Isso torna o código mais claro e evita confusões sobre a ordem dos argumentos.`**"
   ]
  },
  {
   "cell_type": "code",
   "execution_count": null,
   "metadata": {},
   "outputs": [
    {
     "name": "stdout",
     "output_type": "stream",
     "text": [
      "Olá, Maria!\n",
      "Bom dia, João!\n"
     ]
    }
   ],
   "source": [
    "def saudacao(nome, mensagem=\"Olá\"):\n",
    "    print(f\"{mensagem}, {nome}!\")\n",
    "\n",
    "\n",
    "# Chamadas da função usando parâmetros nomeados\n",
    "\n",
    "saudacao(nome=\"Maria\")               # Usa o valor padrão para mensagem\n",
    "saudacao(nome=\"João\", mensagem=\"Bom dia\")"
   ]
  },
  {
   "cell_type": "markdown",
   "metadata": {},
   "source": [
    "Exemplo Completo\n",
    "Aqui está um exemplo mais complexo que combina parâmetros nomeados, *args e **kwargs:"
   ]
  },
  {
   "cell_type": "code",
   "execution_count": 2,
   "metadata": {},
   "outputs": [
    {
     "name": "stdout",
     "output_type": "stream",
     "text": [
      "3 x 1 = 3\n",
      "3 x 2 = 6\n",
      "3 x 3 = 9\n",
      "3 x 4 = 12\n"
     ]
    }
   ],
   "source": [
    "def taduada(tab=10, max=5):\n",
    "\n",
    "    for i in range(1, max+1):\n",
    "        print(f\"{tab} x {i} = {tab*i}\")\n",
    "\n",
    "\n",
    "taduada(max=4 , tab=3)"
   ]
  }
 ],
 "metadata": {
  "kernelspec": {
   "display_name": "Python 3",
   "language": "python",
   "name": "python3"
  },
  "language_info": {
   "codemirror_mode": {
    "name": "ipython",
    "version": 3
   },
   "file_extension": ".py",
   "mimetype": "text/x-python",
   "name": "python",
   "nbconvert_exporter": "python",
   "pygments_lexer": "ipython3",
   "version": "3.12.2"
  }
 },
 "nbformat": 4,
 "nbformat_minor": 2
}
