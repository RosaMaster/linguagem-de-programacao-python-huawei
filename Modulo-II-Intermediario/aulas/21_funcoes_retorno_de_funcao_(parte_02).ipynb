{
 "cells": [
  {
   "cell_type": "markdown",
   "metadata": {},
   "source": [
    "### Funções - Retorno de Funções(Parte 02)\n",
    "\n",
    "Em Python, todas as funções retornam um valor, mesmo que não seja explicitamente especificado. Se uma função não usa a palavra-chave return, ela retorna implicitamente None.\n",
    "\n",
    "**`Em resumo, todas as funções em Python retornam um valor. Se não for especificado, o valor retornado será None.`**"
   ]
  },
  {
   "cell_type": "code",
   "execution_count": null,
   "metadata": {},
   "outputs": [
    {
     "name": "stdout",
     "output_type": "stream",
     "text": [
      "Lista gerada >> [158, 213, 309, 324, 423, 533, 549, 593, 707, 902]\n",
      "Lista gerada >> [143, 163, 164, 194, 380, 626, 635, 835, 840, 911]\n"
     ]
    }
   ],
   "source": [
    "from random import randint\n",
    "\n",
    "def carregaLista():\n",
    "    lista = []\n",
    "\n",
    "    for i in range(10):\n",
    "        lista.append(randint(1, 1000))\n",
    "    return lista\n",
    "\n",
    "valores1 = carregaLista()\n",
    "valores1.sort()                 # Ordena a lista\n",
    "print(f'Lista gerada >> {valores1}')\n",
    "\n",
    "valores2 = carregaLista()\n",
    "valores2.sort()                 # Ordena a lista\n",
    "print(f'Lista gerada >> {valores2}')"
   ]
  }
 ],
 "metadata": {
  "kernelspec": {
   "display_name": "Python 3",
   "language": "python",
   "name": "python3"
  },
  "language_info": {
   "codemirror_mode": {
    "name": "ipython",
    "version": 3
   },
   "file_extension": ".py",
   "mimetype": "text/x-python",
   "name": "python",
   "nbconvert_exporter": "python",
   "pygments_lexer": "ipython3",
   "version": "3.12.2"
  }
 },
 "nbformat": 4,
 "nbformat_minor": 2
}
