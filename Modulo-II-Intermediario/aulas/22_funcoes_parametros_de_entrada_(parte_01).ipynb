{
 "cells": [
  {
   "cell_type": "markdown",
   "metadata": {},
   "source": [
    "### Funções - Parâmetros de entrada(Parte 01)\n",
    "\n",
    "Para adicionar parâmetros de entrada à função **carregaLista**, você pode definir os parâmetros na assinatura da função e usá-los dentro da função. Por exemplo, você pode adicionar parâmetros para especificar o tamanho da lista e o intervalo dos números aleatórios.\n",
    "\n",
    "Neste exemplo, a função **carregaLista** agora aceita três parâmetros:\n",
    "\n",
    "**tamanho**: o número de elementos na lista.<br>\n",
    "**inicio**: o valor mínimo para os números aleatórios.<br>\n",
    "**fim**: o valor máximo para os números aleatórios.\n",
    "\n",
    "**`Você pode chamar a função com diferentes valores para gerar listas de diferentes tamanhos e intervalos.`**"
   ]
  },
  {
   "cell_type": "code",
   "execution_count": 7,
   "metadata": {},
   "outputs": [
    {
     "name": "stdout",
     "output_type": "stream",
     "text": [
      "Lista ordenada 01 >> [48, 50, 75, 89, 100]\n",
      "Lista ordenada 02 >> [33, 40, 50, 55, 58, 66]\n"
     ]
    }
   ],
   "source": [
    "from random import randint\n",
    "\n",
    "def carregaLista(tamanho, inicio, fim):\n",
    "    ''' Função que gera uma lista de números aleatórios'''\n",
    "\n",
    "    lista = []\n",
    "    for i in range(tamanho):\n",
    "        lista.append(randint(inicio, fim))\n",
    "    return lista\n",
    "\n",
    "# Gerar uma lista de 10 números aleatórios entre 1 e 1000\n",
    "valores1 = carregaLista(5, 1, 100)\n",
    "valores1.sort()\n",
    "print(f'Lista ordenada 01 >> {valores1}')\n",
    "\n",
    "# Gerar uma lista de 15 números aleatórios entre 50 e 500\n",
    "valores2 = carregaLista(6, 30, 70)\n",
    "valores2.sort()\n",
    "print(f'Lista ordenada 02 >> {valores2}')"
   ]
  },
  {
   "cell_type": "markdown",
   "metadata": {},
   "source": [
    "### ***ARGS** e ****KWARGS**\n",
    "Para utilizar ***args** e ****kwargs** na função carregaLista, você pode definir a função para aceitar ambos os tipos de argumentos. *args permite passar um número variável de argumentos posicionais, enquanto **kwargs permite passar um número variável de argumentos nomeados."
   ]
  },
  {
   "cell_type": "code",
   "execution_count": 8,
   "metadata": {},
   "outputs": [
    {
     "name": "stdout",
     "output_type": "stream",
     "text": [
      "Lista ordenada 01 >> [4, 25, 27, 82, 96]\n",
      "Lista ordenada 02 >> [31, 35, 42, 56, 58, 70]\n",
      "Lista ordenada 03 >> [32, 37, 42, 104, 147, 152, 159, 175]\n",
      "Lista ordenada 02 >> [33, 36, 48, 59]\n"
     ]
    }
   ],
   "source": [
    "def carregaLista(*args, **kwargs):\n",
    "    ''' Função que gera uma lista de números aleatórios '''\n",
    "    \n",
    "    # Usando args para definir tamanho, inicio e fim\n",
    "    tamanho = args[0] if len(args) > 0 else 10  # Valor padrão 10\n",
    "    inicio = args[1] if len(args) > 1 else 1    # Valor padrão 1\n",
    "    fim = args[2] if len(args) > 2 else 100     # Valor padrão 100\n",
    "\n",
    "    # Usando kwargs para sobrescrever valores de tamanho, inicio e fim\n",
    "    tamanho = kwargs.get('tamanho', tamanho)\n",
    "    inicio = kwargs.get('inicio', inicio)\n",
    "    fim = kwargs.get('fim', fim)\n",
    "\n",
    "    lista = []\n",
    "    for i in range(tamanho):\n",
    "        lista.append(randint(inicio, fim))\n",
    "    return lista\n",
    "\n",
    "# Gerar uma lista de 5 números aleatórios entre 1 e 100 usando args\n",
    "valores1 = carregaLista(5, 1, 100)\n",
    "valores1.sort()\n",
    "print(f'Lista ordenada 01 >> {valores1}')\n",
    "\n",
    "# Gerar uma lista de 6 números aleatórios entre 30 e 70 usando kwargs\n",
    "valores2 = carregaLista(tamanho=6, inicio=30, fim=70)\n",
    "valores2.sort()\n",
    "print(f'Lista ordenada 02 >> {valores2}')\n",
    "\n",
    "# Usar uma combinação de args e kwargs\n",
    "valores3 = carregaLista(8, fim=200)\n",
    "valores3.sort()\n",
    "print(f'Lista ordenada 03 >> {valores3}')\n",
    "\n",
    "# Gerar uma lista de 4 números aleatórios entre 30 e 70 usando kwargs alterando ordem\n",
    "valores4 = carregaLista(inicio=30, fim=70, tamanho=4)\n",
    "valores4.sort()\n",
    "print(f'Lista ordenada 02 >> {valores4}')"
   ]
  }
 ],
 "metadata": {
  "kernelspec": {
   "display_name": "Python 3",
   "language": "python",
   "name": "python3"
  },
  "language_info": {
   "codemirror_mode": {
    "name": "ipython",
    "version": 3
   },
   "file_extension": ".py",
   "mimetype": "text/x-python",
   "name": "python",
   "nbconvert_exporter": "python",
   "pygments_lexer": "ipython3",
   "version": "3.12.2"
  }
 },
 "nbformat": 4,
 "nbformat_minor": 2
}
