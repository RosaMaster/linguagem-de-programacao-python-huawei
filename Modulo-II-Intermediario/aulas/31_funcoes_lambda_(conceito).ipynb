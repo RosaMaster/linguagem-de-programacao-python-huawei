{
 "cells": [
  {
   "cell_type": "markdown",
   "metadata": {},
   "source": [
    "### Funções - Lambda\n",
    "\n",
    "Em Python, funções **lambda** são funções anônimas, ou seja, funções que não têm um nome. Elas são definidas usando a palavra-chave **lambda** e são geralmente usadas para operações simples e rápidas. Vamos ver alguns exemplos de como usar funções **lambda**.\n",
    "\n",
    "Explicação<br><br>\n",
    "**Função Lambda Simples**: Define uma função lambda que soma dois números e a testa.<br><br>\n",
    "**Lambda com map**: Usa map para aplicar uma função lambda que dobra os números de uma lista.<br><br>\n",
    "**Lambda com filter**: Usa filter para aplicar uma função lambda que filtra números pares de uma lista.<br><br>\n",
    "**Lambda com sorted**: Usa sorted para ordenar uma lista de tuplas por idade usando uma função lambda.\n",
    "\n",
    "**`Exemplo 1: Função Lambda Simples`**"
   ]
  },
  {
   "cell_type": "code",
   "execution_count": 1,
   "metadata": {},
   "outputs": [
    {
     "name": "stdout",
     "output_type": "stream",
     "text": [
      "A soma de 5 e 3 é 8\n"
     ]
    }
   ],
   "source": [
    "# Função lambda que soma dois números\n",
    "soma = lambda x, y: x + y\n",
    "\n",
    "# Testando a função lambda\n",
    "resultado = soma(5, 3)\n",
    "print(f\"A soma de 5 e 3 é {resultado}\")"
   ]
  },
  {
   "cell_type": "markdown",
   "metadata": {},
   "source": [
    "**`Exemplo 2: Função Lambda com map`**"
   ]
  },
  {
   "cell_type": "code",
   "execution_count": 2,
   "metadata": {},
   "outputs": [
    {
     "name": "stdout",
     "output_type": "stream",
     "text": [
      "Números dobrados: [2, 4, 6, 8, 10]\n"
     ]
    }
   ],
   "source": [
    "# Lista de números\n",
    "numeros = [1, 2, 3, 4, 5]\n",
    "\n",
    "# Usando lambda com map para dobrar os números\n",
    "dobrados = list(map(lambda x: x * 2, numeros))\n",
    "\n",
    "print(f\"Números dobrados: {dobrados}\")"
   ]
  },
  {
   "cell_type": "markdown",
   "metadata": {},
   "source": [
    "**`Exemplo 3: Função Lambda com filter`**"
   ]
  },
  {
   "cell_type": "code",
   "execution_count": 3,
   "metadata": {},
   "outputs": [
    {
     "name": "stdout",
     "output_type": "stream",
     "text": [
      "Números pares: [2, 4, 6, 8, 10]\n"
     ]
    }
   ],
   "source": [
    "# Lista de números\n",
    "numeros = [1, 2, 3, 4, 5, 6, 7, 8, 9, 10]\n",
    "\n",
    "# Usando lambda com filter para filtrar números pares\n",
    "pares = list(filter(lambda x: x % 2 == 0, numeros))\n",
    "\n",
    "print(f\"Números pares: {pares}\")"
   ]
  },
  {
   "cell_type": "markdown",
   "metadata": {},
   "source": [
    "**`Exemplo 4: Função Lambda com sorted`**"
   ]
  },
  {
   "cell_type": "code",
   "execution_count": 5,
   "metadata": {},
   "outputs": [
    {
     "name": "stdout",
     "output_type": "stream",
     "text": [
      "Pessoas ordenadas por idade: [('Maria', 25), ('João', 30), ('Pedro', 35)]\n",
      "Pessoas ordenadas por nome: [('João', 30), ('Maria', 25), ('Pedro', 35)]\n"
     ]
    }
   ],
   "source": [
    "# Lista de tuplas\n",
    "pessoas = [(\"João\", 30), (\"Maria\", 25), (\"Pedro\", 35)]\n",
    "\n",
    "# Usando lambda com sorted para ordenar por idade\n",
    "ordenado_por_idade = sorted(pessoas, key=lambda pessoa: pessoa[1])\n",
    "ordenado_por_nome = sorted(pessoas, key=lambda pessoa: pessoa[0])\n",
    "\n",
    "print(f\"Pessoas ordenadas por idade: {ordenado_por_idade}\")\n",
    "print(f\"Pessoas ordenadas por nome: {ordenado_por_nome}\")"
   ]
  }
 ],
 "metadata": {
  "kernelspec": {
   "display_name": "Python 3",
   "language": "python",
   "name": "python3"
  },
  "language_info": {
   "codemirror_mode": {
    "name": "ipython",
    "version": 3
   },
   "file_extension": ".py",
   "mimetype": "text/x-python",
   "name": "python",
   "nbconvert_exporter": "python",
   "pygments_lexer": "ipython3",
   "version": "3.12.2"
  }
 },
 "nbformat": 4,
 "nbformat_minor": 2
}
