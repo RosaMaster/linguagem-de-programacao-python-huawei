{
 "cells": [
  {
   "cell_type": "markdown",
   "metadata": {},
   "source": [
    "### Funções - Parâmetros de entrada(Parte 02)\n",
    "\n",
    "Para adicionar parâmetros de entrada à função **carregaLista**, você pode definir os parâmetros na assinatura da função e usá-los dentro da função. Por exemplo, você pode adicionar parâmetros para especificar o tamanho da lista e o intervalo dos números aleatórios.\n",
    "\n",
    "Neste exemplo, a função **carregaLista** agora aceita três parâmetros:\n",
    "\n",
    "**tamanho**: o número de elementos na lista.<br>\n",
    "**inicio**: o valor mínimo para os números aleatórios.<br>\n",
    "**fim**: o valor máximo para os números aleatórios.\n",
    "\n",
    "**`Você pode chamar a função com diferentes valores para gerar listas de diferentes tamanhos e intervalos.`**"
   ]
  },
  {
   "cell_type": "code",
   "execution_count": null,
   "metadata": {},
   "outputs": [
    {
     "name": "stdout",
     "output_type": "stream",
     "text": [
      "Lista ordenada 01 >> [16, 19, 31, 82, 88]\n",
      "Lista ordenada 02 >> [47, 55, 63, 63, 65, 69]\n"
     ]
    }
   ],
   "source": [
    "from random import randint\n",
    "\n",
    "def carregaLista(tamanho, inicio, fim):\n",
    "    ''' Função que gera uma lista de números aleatórios'''\n",
    "\n",
    "    lista = []\n",
    "    for i in range(tamanho):\n",
    "        lista.append(randint(inicio, fim))\n",
    "    return lista\n",
    "\n",
    "# Gerar uma lista de 10 números aleatórios entre 1 e 1000\n",
    "valores1 = carregaLista(5, 1, 100)\n",
    "valores1.sort()\n",
    "print(f'Lista ordenada 01 >> {valores1}')\n",
    "\n",
    "# Gerar uma lista de 15 números aleatórios entre 50 e 500\n",
    "valores2 = carregaLista(6, 30, 70)\n",
    "valores2.sort()\n",
    "print(f'Lista ordenada 02 >> {valores2}')"
   ]
  }
 ],
 "metadata": {
  "kernelspec": {
   "display_name": "Python 3",
   "language": "python",
   "name": "python3"
  },
  "language_info": {
   "codemirror_mode": {
    "name": "ipython",
    "version": 3
   },
   "file_extension": ".py",
   "mimetype": "text/x-python",
   "name": "python",
   "nbconvert_exporter": "python",
   "pygments_lexer": "ipython3",
   "version": "3.12.2"
  }
 },
 "nbformat": 4,
 "nbformat_minor": 2
}
