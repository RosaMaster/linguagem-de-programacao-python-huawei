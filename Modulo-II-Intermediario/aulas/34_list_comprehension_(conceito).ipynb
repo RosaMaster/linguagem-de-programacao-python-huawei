{
 "cells": [
  {
   "cell_type": "markdown",
   "metadata": {},
   "source": [
    "### List comprehension - (Conceito)\n",
    "\n",
    "**List comprehensions** são uma maneira concisa de criar listas em Python. Elas permitem que você crie listas novas aplicando uma expressão a cada item em uma sequência ou iterável, opcionalmente filtrando itens que não atendem a uma condição.\n",
    "\n",
    "**Vantagens**<br><br>\n",
    "Conciso e Legível: List comprehensions são mais concisas e frequentemente mais legíveis do que loops for tradicionais.<br>\n",
    "Desempenho: Em muitos casos, list comprehensions podem ser mais rápidas do que loops for equivalentes.<br><br>\n",
    "**Conclusão**<br><br>\n",
    "List comprehensions são uma ferramenta poderosa em Python para criar e manipular listas de forma eficiente e legível. Elas combinam a expressão, o loop e a condição em uma única linha de código.<br>\n",
    "\n",
    "Sintaxe Básica\n",
    "~~~~Python\n",
    "[expressão for item in iterável if condição]\n",
    "~~~~"
   ]
  },
  {
   "cell_type": "markdown",
   "metadata": {},
   "source": [
    "Exemplos\n",
    "Criar uma lista de quadrados de números de 0 a 9:"
   ]
  },
  {
   "cell_type": "code",
   "execution_count": 1,
   "metadata": {},
   "outputs": [
    {
     "name": "stdout",
     "output_type": "stream",
     "text": [
      "[0, 1, 4, 9, 16, 25, 36, 49, 64, 81]\n"
     ]
    }
   ],
   "source": [
    "quadrados = [x**2 for x in range(10)]\n",
    "print(quadrados)"
   ]
  },
  {
   "cell_type": "markdown",
   "metadata": {},
   "source": [
    "Filtrar números pares de uma lista:"
   ]
  },
  {
   "cell_type": "code",
   "execution_count": 2,
   "metadata": {},
   "outputs": [
    {
     "name": "stdout",
     "output_type": "stream",
     "text": [
      "[2, 4, 6, 8, 10]\n"
     ]
    }
   ],
   "source": [
    "numeros = [1, 2, 3, 4, 5, 6, 7, 8, 9, 10]\n",
    "pares = [x for x in numeros if x % 2 == 0]\n",
    "print(pares)"
   ]
  },
  {
   "cell_type": "markdown",
   "metadata": {},
   "source": [
    "Converter uma lista de temperaturas de Celsius para Fahrenheit:"
   ]
  },
  {
   "cell_type": "code",
   "execution_count": 3,
   "metadata": {},
   "outputs": [
    {
     "name": "stdout",
     "output_type": "stream",
     "text": [
      "[32.0, 68.0, 98.6, 212.0]\n"
     ]
    }
   ],
   "source": [
    "temperaturas_celsius = [0, 20, 37, 100]\n",
    "temperaturas_fahrenheit = [(c * 9/5) + 32 for c in temperaturas_celsius]\n",
    "print(temperaturas_fahrenheit)"
   ]
  },
  {
   "cell_type": "markdown",
   "metadata": {},
   "source": [
    "Criar uma lista de tuplas (número, quadrado) para números de 0 a 4:"
   ]
  },
  {
   "cell_type": "code",
   "execution_count": 5,
   "metadata": {},
   "outputs": [
    {
     "name": "stdout",
     "output_type": "stream",
     "text": [
      "[(0, 0), (1, 1), (2, 4), (3, 9), (4, 16)]\n"
     ]
    }
   ],
   "source": [
    "quadrados_tuplas = [(x, x**2) for x in range(5)]\n",
    "print(quadrados_tuplas)"
   ]
  },
  {
   "cell_type": "markdown",
   "metadata": {},
   "source": [
    "Criar uma lista de tuplas (número, quadrado, cubo) para números de 0 a 4:"
   ]
  },
  {
   "cell_type": "code",
   "execution_count": 6,
   "metadata": {},
   "outputs": [
    {
     "name": "stdout",
     "output_type": "stream",
     "text": [
      "[(0, 0, 0), (1, 1, 1), (2, 4, 8), (3, 9, 27), (4, 16, 64)]\n"
     ]
    }
   ],
   "source": [
    "quadrados_tuplas = [(x, x**2, x**3) for x in range(5)]\n",
    "print(quadrados_tuplas)"
   ]
  }
 ],
 "metadata": {
  "kernelspec": {
   "display_name": "Python 3",
   "language": "python",
   "name": "python3"
  },
  "language_info": {
   "codemirror_mode": {
    "name": "ipython",
    "version": 3
   },
   "file_extension": ".py",
   "mimetype": "text/x-python",
   "name": "python",
   "nbconvert_exporter": "python",
   "pygments_lexer": "ipython3",
   "version": "3.12.2"
  }
 },
 "nbformat": 4,
 "nbformat_minor": 2
}
