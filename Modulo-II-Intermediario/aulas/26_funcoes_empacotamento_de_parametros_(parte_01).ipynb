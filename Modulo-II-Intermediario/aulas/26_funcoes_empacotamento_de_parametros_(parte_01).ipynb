{
 "cells": [
  {
   "cell_type": "markdown",
   "metadata": {},
   "source": [
    "### Funções - Empacotamento de parâmetros(Parte 01)\n",
    "\n",
    "Empacotamento de parâmetros em Python permite que você passe um número variável de argumentos para uma função usando ***args** para argumentos posicionais e ****kwargs** para argumentos nomeados. Isso torna suas funções mais flexíveis e reutilizáveis.\n",
    "\n",
    "Usando ***args**\n",
    "***args** permite que você passe um número variável de argumentos posicionais para uma função. Dentro da função, **args** será uma tupla contendo todos os argumentos posicionais passados."
   ]
  },
  {
   "cell_type": "code",
   "execution_count": 1,
   "metadata": {},
   "outputs": [
    {
     "name": "stdout",
     "output_type": "stream",
     "text": [
      "6\n",
      "30\n"
     ]
    }
   ],
   "source": [
    "def soma(*args):\n",
    "    return sum(args)\n",
    "\n",
    "# Chamadas da função usando *args\n",
    "print(soma(1, 2, 3))          # Saída: 6\n",
    "print(soma(4, 5, 6, 7, 8))    # Saída: 30"
   ]
  },
  {
   "cell_type": "markdown",
   "metadata": {},
   "source": [
    "#### Usando ****kwargs**\n",
    "****kwargs** permite que você passe um número variável de argumentos nomeados para uma função. Dentro da função, kwargs será um dicionário contendo todos os argumentos nomeados passados."
   ]
  },
  {
   "cell_type": "code",
   "execution_count": 2,
   "metadata": {},
   "outputs": [
    {
     "name": "stdout",
     "output_type": "stream",
     "text": [
      "Bom dia, Maria!\n",
      "Olá, mundo!\n"
     ]
    }
   ],
   "source": [
    "def saudacao(**kwargs):\n",
    "    if 'nome' in kwargs and 'mensagem' in kwargs:\n",
    "        print(f\"{kwargs['mensagem']}, {kwargs['nome']}!\")\n",
    "    else:\n",
    "        print(\"Olá, mundo!\")\n",
    "\n",
    "# Chamadas da função usando **kwargs\n",
    "saudacao(nome=\"Maria\", mensagem=\"Bom dia\")  # Saída: Bom dia, Maria!\n",
    "saudacao(nome=\"João\")                       # Saída: Olá, mundo!"
   ]
  },
  {
   "cell_type": "markdown",
   "metadata": {},
   "source": [
    "#### Combinação de ***args** e ****kwargs**\n",
    "Você pode combinar *args e **kwargs em uma única função para aceitar tanto argumentos posicionais quanto nomeados."
   ]
  },
  {
   "cell_type": "code",
   "execution_count": 3,
   "metadata": {},
   "outputs": [
    {
     "name": "stdout",
     "output_type": "stream",
     "text": [
      "Argumentos posicionais: (1, 2, 3)\n",
      "Argumentos nomeados: {'nome': 'Maria', 'idade': 30}\n"
     ]
    }
   ],
   "source": [
    "def exibir_info(*args, **kwargs):\n",
    "    print(\"Argumentos posicionais:\", args)\n",
    "    print(\"Argumentos nomeados:\", kwargs)\n",
    "\n",
    "# Chamadas da função usando *args e **kwargs\n",
    "exibir_info(1, 2, 3, nome=\"Maria\", idade=30)\n",
    "\n",
    "# Saída:\n",
    "# Argumentos posicionais: (1, 2, 3)\n",
    "# Argumentos nomeados: {'nome': 'Maria', 'idade': 30}"
   ]
  }
 ],
 "metadata": {
  "kernelspec": {
   "display_name": "Python 3",
   "language": "python",
   "name": "python3"
  },
  "language_info": {
   "codemirror_mode": {
    "name": "ipython",
    "version": 3
   },
   "file_extension": ".py",
   "mimetype": "text/x-python",
   "name": "python",
   "nbconvert_exporter": "python",
   "pygments_lexer": "ipython3",
   "version": "3.12.2"
  }
 },
 "nbformat": 4,
 "nbformat_minor": 2
}
