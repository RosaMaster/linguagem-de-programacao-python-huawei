{
 "cells": [
  {
   "cell_type": "markdown",
   "metadata": {},
   "source": [
    "### Comando Match Case"
   ]
  },
  {
   "cell_type": "code",
   "execution_count": null,
   "metadata": {},
   "outputs": [
    {
     "name": "stdout",
     "output_type": "stream",
     "text": [
      "Nome Danilo não encontrado\n",
      "Seu tipo sanguinio é B+\n",
      "Seu tipo sanguinio é B+\n",
      "Nome Mario não encontrado\n",
      "Nome Caio não encontrado\n",
      "Fim do programa\n"
     ]
    }
   ],
   "source": [
    "string = ''\n",
    "\n",
    "while string != 'Caio':\n",
    "    string = str(input(\"Digite seu nome: \"))\n",
    "    match string:\n",
    "        case 'Eduardo':\n",
    "            print('Seu tipo sanguinio é A+')\n",
    "        case 'Daniel':\n",
    "            print('Seu tipo sanguinio é B+')\n",
    "        case 'Camila':\n",
    "            print('Seu tipo sanguinio é AB+')\n",
    "        case _:\n",
    "            print(f'Nome {string} não encontrado')\n",
    "\n",
    "print('Fim do programa')"
   ]
  },
  {
   "cell_type": "code",
   "execution_count": 3,
   "metadata": {},
   "outputs": [
    {
     "name": "stdout",
     "output_type": "stream",
     "text": [
      "O número digitado foi 1\n",
      "O número digitado foi 2\n",
      "O número digitado foi 3\n",
      "Você digitou um numero invalido: 4\n",
      "Você digitou um numero invalido: 5\n",
      "Você digitou um numero invalido: 0\n",
      "Fim do programa\n"
     ]
    }
   ],
   "source": [
    "n = -1\n",
    "\n",
    "while n != 0:\n",
    "    n = int(input(\"Digite um número inteiro: \"))\n",
    "    match n:\n",
    "        case 1:\n",
    "            print('O número digitado foi 1')\n",
    "        case 2:\n",
    "            print('O número digitado foi 2')\n",
    "        case 3:\n",
    "            print('O número digitado foi 3')\n",
    "        case _:\n",
    "            print(f'Você digitou um numero invalido: {n}')\n",
    "\n",
    "print('Fim do programa')"
   ]
  }
 ],
 "metadata": {
  "kernelspec": {
   "display_name": "Python 3",
   "language": "python",
   "name": "python3"
  },
  "language_info": {
   "codemirror_mode": {
    "name": "ipython",
    "version": 3
   },
   "file_extension": ".py",
   "mimetype": "text/x-python",
   "name": "python",
   "nbconvert_exporter": "python",
   "pygments_lexer": "ipython3",
   "version": "3.12.2"
  }
 },
 "nbformat": 4,
 "nbformat_minor": 2
}
