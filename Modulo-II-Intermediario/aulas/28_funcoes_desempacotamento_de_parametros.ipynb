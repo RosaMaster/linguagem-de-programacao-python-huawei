{
 "cells": [
  {
   "cell_type": "markdown",
   "metadata": {},
   "source": [
    "### Funções - Desempacotamento de parâmetros\n",
    "\n",
    "Desempacotamento de parâmetros em Python permite que você passe elementos de uma lista, tupla ou dicionário como argumentos para uma função usando * e **. Isso é útil quando você deseja passar um conjunto de argumentos armazenados em uma coleção diretamente para uma função.\n",
    "\n",
    "Desempacotamento com *\n",
    "Você pode usar * para desempacotar elementos de uma lista ou tupla como argumentos posicionais para uma função."
   ]
  },
  {
   "cell_type": "code",
   "execution_count": 1,
   "metadata": {},
   "outputs": [
    {
     "name": "stdout",
     "output_type": "stream",
     "text": [
      "6\n",
      "15\n"
     ]
    }
   ],
   "source": [
    "def soma(a, b, c):\n",
    "    return a + b + c\n",
    "\n",
    "# Usando uma lista\n",
    "valores = [1, 2, 3]\n",
    "resultado = soma(*valores)\n",
    "print(resultado)  # Saída: 6\n",
    "\n",
    "# Usando uma tupla\n",
    "valores = (4, 5, 6)\n",
    "resultado = soma(*valores)\n",
    "print(resultado)  # Saída: 15"
   ]
  }
 ],
 "metadata": {
  "kernelspec": {
   "display_name": "Python 3",
   "language": "python",
   "name": "python3"
  },
  "language_info": {
   "codemirror_mode": {
    "name": "ipython",
    "version": 3
   },
   "file_extension": ".py",
   "mimetype": "text/x-python",
   "name": "python",
   "nbconvert_exporter": "python",
   "pygments_lexer": "ipython3",
   "version": "3.12.2"
  }
 },
 "nbformat": 4,
 "nbformat_minor": 2
}
