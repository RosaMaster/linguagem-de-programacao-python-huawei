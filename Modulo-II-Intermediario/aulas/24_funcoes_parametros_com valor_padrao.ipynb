{
 "cells": [
  {
   "cell_type": "markdown",
   "metadata": {},
   "source": [
    "### Funções - Parâmetros com valor padrão\n",
    "\n",
    "Em Python, você pode definir parâmetros com valores padrão em funções. Isso permite que a função seja chamada com menos argumentos do que o número de parâmetros definidos. Se um argumento não for fornecido, o valor padrão será usado.\n",
    "\n",
    "Explicação\n",
    "**mensagem=\"Olá\"** define um valor padrão para o parâmetro mensagem.\n",
    "Quando a função saudacao é chamada sem o segundo argumento, o valor padrão **\"Olá\"** é usado.\n",
    "\n",
    "**`Quando a função é chamada com dois argumentos, o valor fornecido substitui o valor padrão.`**"
   ]
  },
  {
   "cell_type": "code",
   "execution_count": 1,
   "metadata": {},
   "outputs": [
    {
     "name": "stdout",
     "output_type": "stream",
     "text": [
      "Olá, Maria!\n",
      "Bom dia, João!\n"
     ]
    }
   ],
   "source": [
    "def saudacao(nome, mensagem=\"Olá\"):\n",
    "    print(f\"{mensagem}, {nome}!\")\n",
    "\n",
    "# Chamadas da função\n",
    "saudacao(\"Maria\")               # Usa o valor padrão para mensagem\n",
    "saudacao(\"João\", \"Bom dia\")     # Sobrescreve o valor padrão para mensagem"
   ]
  },
  {
   "cell_type": "code",
   "execution_count": 2,
   "metadata": {},
   "outputs": [
    {
     "name": "stdout",
     "output_type": "stream",
     "text": [
      "7 x 1 = 7\n",
      "7 x 2 = 14\n",
      "7 x 3 = 21\n",
      "7 x 4 = 28\n",
      "7 x 5 = 35\n",
      "7 x 6 = 42\n",
      "7 x 7 = 49\n",
      "7 x 8 = 56\n",
      "7 x 9 = 63\n",
      "7 x 10 = 70\n",
      "\n",
      "2 x 1 = 2\n",
      "2 x 2 = 4\n",
      "2 x 3 = 6\n",
      "2 x 4 = 8\n",
      "2 x 5 = 10\n"
     ]
    }
   ],
   "source": [
    "def taduada(n, max=10):\n",
    "    for i in range(1, max+1):\n",
    "        print(f\"{n} x {i} = {n*i}\")\n",
    "\n",
    "\n",
    "\n",
    "taduada(7)                      # Usa o valor padrão para max\n",
    "\n",
    "print()\n",
    "\n",
    "taduada(2, 5)  "
   ]
  }
 ],
 "metadata": {
  "kernelspec": {
   "display_name": "Python 3",
   "language": "python",
   "name": "python3"
  },
  "language_info": {
   "codemirror_mode": {
    "name": "ipython",
    "version": 3
   },
   "file_extension": ".py",
   "mimetype": "text/x-python",
   "name": "python",
   "nbconvert_exporter": "python",
   "pygments_lexer": "ipython3",
   "version": "3.12.2"
  }
 },
 "nbformat": 4,
 "nbformat_minor": 2
}
