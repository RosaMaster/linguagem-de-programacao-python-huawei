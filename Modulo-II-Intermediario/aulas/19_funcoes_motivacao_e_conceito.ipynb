{
 "cells": [
  {
   "cell_type": "markdown",
   "metadata": {},
   "source": [
    "### Funções - Motivação e Conceito\n",
    "\n",
    "Usar funções em Python oferece várias vantagens, incluindo:\n",
    "\n",
    "**Reutilização de Código**: Funções permitem que você escreva um bloco de código uma vez e o reutilize em diferentes partes do seu programa, evitando duplicação de código.\n",
    "\n",
    "**Organização e Modularidade**: Funções ajudam a organizar o código em blocos lógicos, tornando-o mais fácil de entender, manter e depurar. Cada função pode ser responsável por uma tarefa específica.\n",
    "\n",
    "**Abstração**: Funções permitem que você esconda a complexidade dos detalhes de implementação, fornecendo uma interface simples para o usuário. Isso facilita o uso de código complexo sem precisar entender todos os detalhes.\n",
    "\n",
    "**Facilidade de Teste**: Funções podem ser testadas de forma independente, o que facilita a identificação e correção de erros.\n",
    "\n",
    "**Manutenção: Com funções**, é mais fácil atualizar e modificar o código. Se uma mudança for necessária, você pode atualizar a função em um único lugar, em vez de procurar e modificar múltiplas ocorrências do mesmo código.\n",
    "\n",
    "**Legibilidade**: Funções com nomes descritivos tornam o código mais legível e autoexplicativo, facilitando a compreensão do que o código faz."
   ]
  },
  {
   "cell_type": "code",
   "execution_count": 7,
   "metadata": {},
   "outputs": [
    {
     "name": "stdout",
     "output_type": "stream",
     "text": [
      "Olá, Maria!\n",
      "Olá, João!\n"
     ]
    }
   ],
   "source": [
    "# EXEMPLO 01\n",
    "def saudacao(nome):\n",
    "    \"\"\"Função que exibe uma saudação personalizada.\"\"\"\n",
    "    \n",
    "    return f\"Olá, {nome}!\"\n",
    "\n",
    "# Usando a função\n",
    "print(saudacao(\"Maria\"))\n",
    "print(saudacao(\"João\"))"
   ]
  },
  {
   "cell_type": "code",
   "execution_count": 8,
   "metadata": {},
   "outputs": [
    {
     "name": "stdout",
     "output_type": "stream",
     "text": [
      "Olá, Caio! sua nota é 10.\n",
      "\n",
      "Olá, Pedro! sua nota é 9.\n",
      "\n",
      "Olá, Lucas! sua nota é 8.\n",
      "\n"
     ]
    }
   ],
   "source": [
    "lista_nome = [\"Caio\", \"Pedro\", \"Lucas\"]\n",
    "lista_nota = [10, 9, 8]\n",
    "\n",
    "for nome in lista_nome:\n",
    "    print(f\"{saudacao(nome)} sua nota é {lista_nota[lista_nome.index(nome)]}.\\n\")"
   ]
  }
 ],
 "metadata": {
  "kernelspec": {
   "display_name": "Python 3",
   "language": "python",
   "name": "python3"
  },
  "language_info": {
   "codemirror_mode": {
    "name": "ipython",
    "version": 3
   },
   "file_extension": ".py",
   "mimetype": "text/x-python",
   "name": "python",
   "nbconvert_exporter": "python",
   "pygments_lexer": "ipython3",
   "version": "3.12.2"
  }
 },
 "nbformat": 4,
 "nbformat_minor": 2
}
