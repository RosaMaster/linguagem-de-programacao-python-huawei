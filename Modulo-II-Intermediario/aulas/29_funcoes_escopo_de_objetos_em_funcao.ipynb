{
 "cells": [
  {
   "cell_type": "markdown",
   "metadata": {},
   "source": [
    "### Funções - Escopo de objetos em funções\n",
    "\n",
    "Em Python, o escopo de objetos em funções também refere-se à visibilidade e acessibilidade dos objetos dentro e fora das funções.\n",
    "\n",
    "Explicação<br><br>\n",
    "**Objeto Global**: O objeto pessoa é declarado fora de qualquer função, então ele tem escopo global e pode ser acessado de qualquer lugar no código.<br><br>\n",
    "**Objeto Local**: Dentro da função alterar_pessoa, um novo objeto pessoa é declarado. Este objeto tem escopo local e só pode ser acessado dentro da função.<br><br>\n",
    "**Acessando Objetos**:\n",
    "Dentro da função alterar_pessoa, o print acessa o objeto local pessoa.\n",
    "Fora da função, o print acessa o objeto global pessoa."
   ]
  },
  {
   "cell_type": "code",
   "execution_count": null,
   "metadata": {},
   "outputs": [
    {
     "name": "stdout",
     "output_type": "stream",
     "text": [
      "Dentro da função: {'nome': 'Maria', 'idade': 25}\n",
      "Fora da função: {'nome': 'João', 'idade': 30}\n"
     ]
    }
   ],
   "source": [
    "# Objeto global\n",
    "pessoa = {\n",
    "    \"nome\": \"João\",\n",
    "    \"idade\": 30\n",
    "}\n",
    "\n",
    "def alterar_pessoa():\n",
    "    \n",
    "    # Objeto local\n",
    "    pessoa = {\n",
    "        \"nome\": \"Maria\",\n",
    "        \"idade\": 25\n",
    "    }\n",
    "    print(\"Dentro da função:\", pessoa)  # Acessa o objeto local\n",
    "\n",
    "alterar_pessoa()\n",
    "print(\"Fora da função:\", pessoa)  # Acessa o objeto global"
   ]
  }
 ],
 "metadata": {
  "kernelspec": {
   "display_name": "Python 3",
   "language": "python",
   "name": "python3"
  },
  "language_info": {
   "codemirror_mode": {
    "name": "ipython",
    "version": 3
   },
   "file_extension": ".py",
   "mimetype": "text/x-python",
   "name": "python",
   "nbconvert_exporter": "python",
   "pygments_lexer": "ipython3",
   "version": "3.12.2"
  }
 },
 "nbformat": 4,
 "nbformat_minor": 2
}
