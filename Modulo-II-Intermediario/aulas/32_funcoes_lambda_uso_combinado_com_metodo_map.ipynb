{
 "cells": [
  {
   "cell_type": "markdown",
   "metadata": {},
   "source": [
    "### Funções - Lambda uso combinado com método map\n",
    "\n",
    "Em Python, funções **lambda** são funções anônimas, ou seja, funções que não têm um nome. Elas são definidas usando a palavra-chave **lambda** e são geralmente usadas para operações simples e rápidas. Vamos ver alguns exemplos de como usar funções **lambda**.\n",
    "\n",
    "Explicação<br><br>\n",
    "**Função Lambda Simples**: Define uma função lambda que soma dois números e a testa.<br><br>\n",
    "**Lambda com map**: Usa map para aplicar uma função lambda que dobra os números de uma lista.<br><br>\n",
    "**Lambda com filter**: Usa filter para aplicar uma função lambda que filtra números pares de uma lista.<br><br>\n",
    "**Lambda com sorted**: Usa sorted para ordenar uma lista de tuplas por idade usando uma função lambda."
   ]
  },
  {
   "cell_type": "markdown",
   "metadata": {},
   "source": [
    "Explicação<br><br>\n",
    "Lista de Temperaturas: Temos uma lista de temperaturas em Celsius.<br><br>\n",
    "Função Lambda: A função lambda lambda c: (c * 9/5) + 32 converte uma temperatura de Celsius para Fahrenheit.<br><br>\n",
    "Uso de map: A função map aplica a função lambda a cada elemento da lista temperaturas_celsius.<br><br>\n",
    "Conversão para Lista: Usamos list() para converter o resultado de map em uma lista."
   ]
  },
  {
   "cell_type": "code",
   "execution_count": 1,
   "metadata": {},
   "outputs": [
    {
     "name": "stdout",
     "output_type": "stream",
     "text": [
      "Temperaturas em Fahrenheit: [32.0, 68.0, 98.6, 212.0]\n"
     ]
    }
   ],
   "source": [
    "# Lista de temperaturas em Celsius\n",
    "temperaturas_celsius = [0, 20, 37, 100]\n",
    "\n",
    "# Usando lambda com map para converter Celsius para Fahrenheit\n",
    "temperaturas_fahrenheit = list(map(lambda c: (c * 9/5) + 32, temperaturas_celsius))\n",
    "\n",
    "print(f\"Temperaturas em Fahrenheit: {temperaturas_fahrenheit}\")"
   ]
  }
 ],
 "metadata": {
  "kernelspec": {
   "display_name": "Python 3",
   "language": "python",
   "name": "python3"
  },
  "language_info": {
   "codemirror_mode": {
    "name": "ipython",
    "version": 3
   },
   "file_extension": ".py",
   "mimetype": "text/x-python",
   "name": "python",
   "nbconvert_exporter": "python",
   "pygments_lexer": "ipython3",
   "version": "3.12.2"
  }
 },
 "nbformat": 4,
 "nbformat_minor": 2
}
