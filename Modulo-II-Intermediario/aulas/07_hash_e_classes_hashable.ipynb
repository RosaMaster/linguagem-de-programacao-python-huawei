{
 "cells": [
  {
   "cell_type": "markdown",
   "metadata": {},
   "source": [
    "### Hash e Classes Hashable"
   ]
  },
  {
   "cell_type": "code",
   "execution_count": 1,
   "metadata": {},
   "outputs": [
    {
     "name": "stdout",
     "output_type": "stream",
     "text": [
      "4460841206428483141\n",
      "4460841206428483141\n",
      "4334591950826519697\n"
     ]
    }
   ],
   "source": [
    "string01 = \"Hello, World!\"\n",
    "string02 = \"Hello, World!\"\n",
    "string03 = \"Hello, World!!!\"\n",
    "\n",
    "print(hash(string01))\n",
    "print(hash(string02))\n",
    "print(hash(string03))\n"
   ]
  },
  {
   "cell_type": "code",
   "execution_count": 9,
   "metadata": {},
   "outputs": [
    {
     "name": "stdout",
     "output_type": "stream",
     "text": [
      "{'Hello, World!!!', (9, 10, 11), 37.3, 207}\n",
      "207\n",
      "691752902764101669\n",
      "4693961681360668499\n",
      "4334591950826519697\n"
     ]
    }
   ],
   "source": [
    "conjunto01 = {207, 37.3, (9, 10, 11), 'Hello, World!!!'}\n",
    "print(conjunto01)\n",
    "\n",
    "print(hash(207))\n",
    "print(hash(37.3))\n",
    "print(hash((9, 10, 11)))\n",
    "print(hash('Hello, World!!!'))"
   ]
  }
 ],
 "metadata": {
  "kernelspec": {
   "display_name": "Python 3",
   "language": "python",
   "name": "python3"
  },
  "language_info": {
   "codemirror_mode": {
    "name": "ipython",
    "version": 3
   },
   "file_extension": ".py",
   "mimetype": "text/x-python",
   "name": "python",
   "nbconvert_exporter": "python",
   "pygments_lexer": "ipython3",
   "version": "3.12.2"
  }
 },
 "nbformat": 4,
 "nbformat_minor": 2
}
