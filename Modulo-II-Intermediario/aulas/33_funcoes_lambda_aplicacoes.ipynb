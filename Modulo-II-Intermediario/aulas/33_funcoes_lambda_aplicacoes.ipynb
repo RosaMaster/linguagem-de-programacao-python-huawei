{
 "cells": [
  {
   "cell_type": "markdown",
   "metadata": {},
   "source": [
    "### Funções - Lambda aplicações"
   ]
  },
  {
   "cell_type": "code",
   "execution_count": 1,
   "metadata": {},
   "outputs": [
    {
     "name": "stdout",
     "output_type": "stream",
     "text": [
      "['202', '505', '808']\n",
      "[('202', 14.33), ('505', 55.9), ('808', 36.95)]\n",
      "dict_items([('505', 55.9), ('202', 14.33), ('808', 36.95)])\n"
     ]
    }
   ],
   "source": [
    "dict = {'505': 55.90, '202': 14.33, '808': 36.95}\n",
    "\n",
    "print(sorted(dict))\n",
    "\n",
    "print(sorted(dict.items()))\n",
    "\n",
    "print(dict.items())\n"
   ]
  },
  {
   "cell_type": "markdown",
   "metadata": {},
   "source": [
    "#### Utilizando lambda"
   ]
  },
  {
   "cell_type": "code",
   "execution_count": 5,
   "metadata": {},
   "outputs": [
    {
     "name": "stdout",
     "output_type": "stream",
     "text": [
      "[('202', 14.33), ('808', 36.95), ('505', 55.9)]\n",
      "[('202', 14.33), ('505', 55.9), ('808', 36.95)]\n"
     ]
    }
   ],
   "source": [
    "# Ordena por valor\n",
    "print(sorted(dict.items(), key=lambda x: x[1]))\n",
    "\n",
    "print(sorted(dict.items(), key=lambda x: x[0]))"
   ]
  }
 ],
 "metadata": {
  "kernelspec": {
   "display_name": "Python 3",
   "language": "python",
   "name": "python3"
  },
  "language_info": {
   "codemirror_mode": {
    "name": "ipython",
    "version": 3
   },
   "file_extension": ".py",
   "mimetype": "text/x-python",
   "name": "python",
   "nbconvert_exporter": "python",
   "pygments_lexer": "ipython3",
   "version": "3.12.2"
  }
 },
 "nbformat": 4,
 "nbformat_minor": 2
}
