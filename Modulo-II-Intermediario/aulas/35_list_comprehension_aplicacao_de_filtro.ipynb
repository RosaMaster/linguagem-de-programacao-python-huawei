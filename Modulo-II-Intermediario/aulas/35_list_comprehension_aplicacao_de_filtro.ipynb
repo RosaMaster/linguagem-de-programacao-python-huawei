{
 "cells": [
  {
   "cell_type": "markdown",
   "metadata": {},
   "source": [
    "### List comprehension - Aplicação de filtro\n",
    "\n",
    "**List comprehensions** são uma maneira concisa de criar listas em Python. Elas permitem que você crie listas novas aplicando uma expressão a cada item em uma sequência ou iterável, opcionalmente filtrando itens que não atendem a uma condição.\n",
    "\n",
    "**Vantagens**<br><br>\n",
    "Conciso e Legível: List comprehensions são mais concisas e frequentemente mais legíveis do que loops for tradicionais.<br>\n",
    "Desempenho: Em muitos casos, list comprehensions podem ser mais rápidas do que loops for equivalentes.<br><br>\n",
    "**Conclusão**<br><br>\n",
    "List comprehensions são uma ferramenta poderosa em Python para criar e manipular listas de forma eficiente e legível. Elas combinam a expressão, o loop e a condição em uma única linha de código.<br>\n",
    "\n",
    "Sintaxe Básica\n",
    "~~~~Python\n",
    "[expressão for item in iterável if condição]\n",
    "~~~~"
   ]
  },
  {
   "cell_type": "markdown",
   "metadata": {},
   "source": [
    "Aplicar list compregension em uma lista gerando outrqa apenas com numeros positivos"
   ]
  },
  {
   "cell_type": "code",
   "execution_count": 2,
   "metadata": {},
   "outputs": [
    {
     "name": "stdout",
     "output_type": "stream",
     "text": [
      "[62, 52, 30, 40]\n"
     ]
    }
   ],
   "source": [
    "lista = [31, -17, 26, 15, -35, -9, 20]\n",
    "\n",
    "modelo_01 = [x * 2 for x in lista if x > 0]\n",
    "\n",
    "print(modelo_01)"
   ]
  },
  {
   "cell_type": "code",
   "execution_count": 3,
   "metadata": {},
   "outputs": [
    {
     "name": "stdout",
     "output_type": "stream",
     "text": [
      "Números pares: [2, 4, 6, 8, 10]\n"
     ]
    }
   ],
   "source": [
    "# Exemplo: Filtrar Números Pares\n",
    "# Lista de números\n",
    "numeros = [1, 2, 3, 4, 5, 6, 7, 8, 9, 10]\n",
    "\n",
    "# Usando list comprehension para filtrar números pares\n",
    "pares = [x for x in numeros if x % 2 == 0]\n",
    "\n",
    "print(f\"Números pares: {pares}\")"
   ]
  },
  {
   "cell_type": "code",
   "execution_count": 6,
   "metadata": {},
   "outputs": [
    {
     "name": "stdout",
     "output_type": "stream",
     "text": [
      "Palavras com mais de 4 letras: ['cachorro', 'elefante']\n"
     ]
    }
   ],
   "source": [
    "# Exemplo: Filtrar Palavras com Mais de 4 Letras\n",
    "# Lista de palavras\n",
    "palavras = [\"gato\", \"cachorro\", \"elefante\", \"rato\", \"leão\"]\n",
    "\n",
    "# Usando list comprehension para filtrar palavras com mais de 4 letras\n",
    "palavras_longas = [palavra for palavra in palavras if len(palavra) > 4]\n",
    "\n",
    "print(f\"Palavras com mais de 4 letras: {palavras_longas}\")"
   ]
  },
  {
   "cell_type": "code",
   "execution_count": null,
   "metadata": {},
   "outputs": [
    {
     "name": "stdout",
     "output_type": "stream",
     "text": [
      "Números maiores que 50: [60, 70, 80, 90, 100]\n"
     ]
    }
   ],
   "source": [
    "# Exemplo: Filtrar Números Maiores que um Valor Específico\n",
    "# Lista de números\n",
    "numeros = [10, 20, 30, 40, 50, 60, 70, 80, 90, 100]\n",
    "\n",
    "# Usando list comprehension para filtrar números maiores que 50\n",
    "maiores_que_50 = [x for x in numeros if x > 50]\n",
    "\n",
    "print(f\"Números maiores que 50: {maiores_que_50}\")"
   ]
  },
  {
   "cell_type": "code",
   "execution_count": 9,
   "metadata": {},
   "outputs": [
    {
     "name": "stdout",
     "output_type": "stream",
     "text": [
      "Frutas que contêm a letra 'e': ['cereja']\n"
     ]
    }
   ],
   "source": [
    "# Exemplo: Filtrar Strings que Contêm uma Substring Específica\n",
    "# Lista de strings\n",
    "frutas = [\"maçã\", \"banana\", \"cereja\", \"damasco\", \"manga\"]\n",
    "\n",
    "# Usando list comprehension para filtrar frutas que contêm a letra 'e'\n",
    "frutas_com_e = [fruta for fruta in frutas if 'e' in fruta]\n",
    "\n",
    "print(f\"Frutas que contêm a letra 'e': {frutas_com_e}\")"
   ]
  },
  {
   "cell_type": "markdown",
   "metadata": {},
   "source": [
    "Explicação<br><br>\n",
    "**Filtrar Números Pares**: A list comprehension [x for x in numeros if x % 2 == 0] cria uma nova lista contendo apenas os números pares da lista original.<br><br>\n",
    "**Filtrar Palavras com Mais de 3 Letras**: A list comprehension [palavra for palavra in palavras if len(palavra) > 3] cria uma nova lista contendo apenas as palavras com mais de 3 letras.<br><br>\n",
    "**Filtrar Números Maiores que um Valor Específico**: A list comprehension [x for x in numeros if x > 50] cria uma nova lista contendo apenas os números maiores que 50.<br><br>\n",
    "**Filtrar Strings que Contêm uma Substring Específica**: A list comprehension [fruta for fruta in frutas if 'a' in fruta] cria uma nova lista contendo apenas as frutas que contêm a letra 'a'."
   ]
  }
 ],
 "metadata": {
  "kernelspec": {
   "display_name": "Python 3",
   "language": "python",
   "name": "python3"
  },
  "language_info": {
   "codemirror_mode": {
    "name": "ipython",
    "version": 3
   },
   "file_extension": ".py",
   "mimetype": "text/x-python",
   "name": "python",
   "nbconvert_exporter": "python",
   "pygments_lexer": "ipython3",
   "version": "3.12.2"
  }
 },
 "nbformat": 4,
 "nbformat_minor": 2
}
