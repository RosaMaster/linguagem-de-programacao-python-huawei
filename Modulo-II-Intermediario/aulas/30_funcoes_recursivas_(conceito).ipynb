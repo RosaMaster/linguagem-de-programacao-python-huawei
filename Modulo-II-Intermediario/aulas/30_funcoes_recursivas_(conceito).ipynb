{
 "cells": [
  {
   "cell_type": "markdown",
   "metadata": {},
   "source": [
    "### Funções - Recursiva\n",
    "\n",
    "Funções recursivas são funções que se chamam a si mesmas para resolver um problema. Vamos ver um exemplo clássico de uma função recursiva em Python: o cálculo do fatorial de um número."
   ]
  },
  {
   "cell_type": "code",
   "execution_count": 4,
   "metadata": {},
   "outputs": [
    {
     "name": "stdout",
     "output_type": "stream",
     "text": [
      "O fatorial de 5 é 120\n"
     ]
    }
   ],
   "source": [
    "def fatorial(n):\n",
    "    # Caso base: fatorial de 0 ou 1 é 1\n",
    "    if n <= 1:\n",
    "        return 1\n",
    "    else:\n",
    "        # Chamada recursiva\n",
    "        return n * fatorial(n - 1)\n",
    "\n",
    "# Testando a função\n",
    "numero = 5\n",
    "resultado = fatorial(numero)\n",
    "print(f\"O fatorial de {numero} é {resultado}\")"
   ]
  },
  {
   "cell_type": "code",
   "execution_count": 5,
   "metadata": {},
   "outputs": [
    {
     "name": "stdout",
     "output_type": "stream",
     "text": [
      "O 10º número da sequência de Fibonacci é 55\n"
     ]
    }
   ],
   "source": [
    "def fibonacci(n):\n",
    "    # Caso base: fibonacci(0) é 0 e fibonacci(1) é 1\n",
    "    if n == 0:\n",
    "        return 0\n",
    "    elif n == 1:\n",
    "        return 1\n",
    "    else:\n",
    "        # Chamada recursiva\n",
    "        return fibonacci(n - 1) + fibonacci(n - 2)\n",
    "\n",
    "# Testando a função\n",
    "numero = 10\n",
    "resultado = fibonacci(numero)\n",
    "print(f\"O {numero}º número da sequência de Fibonacci é {resultado}\")"
   ]
  }
 ],
 "metadata": {
  "kernelspec": {
   "display_name": "Python 3",
   "language": "python",
   "name": "python3"
  },
  "language_info": {
   "codemirror_mode": {
    "name": "ipython",
    "version": 3
   },
   "file_extension": ".py",
   "mimetype": "text/x-python",
   "name": "python",
   "nbconvert_exporter": "python",
   "pygments_lexer": "ipython3",
   "version": "3.12.2"
  }
 },
 "nbformat": 4,
 "nbformat_minor": 2
}
