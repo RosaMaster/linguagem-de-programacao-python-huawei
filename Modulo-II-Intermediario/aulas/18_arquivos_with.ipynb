{
 "cells": [
  {
   "cell_type": "markdown",
   "metadata": {},
   "source": [
    "### Arquivos\n",
    "\n",
    "Usar o gerenciador de contexto **WITH** para abrir arquivos em Python é uma prática recomendada, pois garante que o arquivo será fechado corretamente, mesmo que ocorra uma exceção durante a manipulação do arquivo. Aqui está um exemplo de como usar with para abrir, ler e escrever arquivos:\n",
    "\n",
    "**`Usando with, você não precisa chamar arquivo.close(), pois o gerenciador de contexto cuida disso automaticamente.`**"
   ]
  },
  {
   "cell_type": "code",
   "execution_count": 9,
   "metadata": {},
   "outputs": [
    {
     "name": "stdout",
     "output_type": "stream",
     "text": [
      "Hello World!\n",
      "Hello Python!\n",
      "Gravação de Arquivo!\n",
      "Acentos: á, é, í, ó, ú, Á, É, Í, Ó, Ú, ç, Ç, ã, Ã\n",
      "\n"
     ]
    }
   ],
   "source": [
    "# Abrir um arquivo para Leitura\n",
    "\n",
    "with open('./../DATA/teste_01.txt', 'r') as arquivo:\n",
    "    conteudo = arquivo.read()\n",
    "    print(conteudo)\n",
    "\n",
    "with open('./../DATA/saida_exercicio_11_codificacao_teste01.txt', 'r') as arquivo:\n",
    "    conteudo = arquivo.read()\n",
    "    print(conteudo)"
   ]
  },
  {
   "cell_type": "code",
   "execution_count": 10,
   "metadata": {},
   "outputs": [
    {
     "name": "stdout",
     "output_type": "stream",
     "text": [
      "Olá, mundo!\n"
     ]
    }
   ],
   "source": [
    "# Abrir um arquivo para Escrita\n",
    "\n",
    "with open('./../DATA/teste_02.txt', 'w') as arquivo:\n",
    "    arquivo.write('Olá, mundo!')\n",
    "\n",
    "with open('./../DATA/teste_02.txt', 'r') as arquivo:\n",
    "    conteudo = arquivo.read()\n",
    "    print(conteudo)"
   ]
  },
  {
   "cell_type": "code",
   "execution_count": 11,
   "metadata": {},
   "outputs": [
    {
     "name": "stdout",
     "output_type": "stream",
     "text": [
      "Olá, mundo!\n",
      "Adicionando uma nova linha. TESTE02\n"
     ]
    }
   ],
   "source": [
    "# Abrir um arquivo para anexar\n",
    "\n",
    "with open('./../DATA/teste_02.txt', 'a') as arquivo:\n",
    "    arquivo.write('\\nAdicionando uma nova linha. TESTE02')\n",
    "\n",
    "with open('./../DATA/teste_02.txt', 'r') as arquivo:\n",
    "    conteudo = arquivo.read()\n",
    "    print(conteudo)"
   ]
  }
 ],
 "metadata": {
  "kernelspec": {
   "display_name": "Python 3",
   "language": "python",
   "name": "python3"
  },
  "language_info": {
   "codemirror_mode": {
    "name": "ipython",
    "version": 3
   },
   "file_extension": ".py",
   "mimetype": "text/x-python",
   "name": "python",
   "nbconvert_exporter": "python",
   "pygments_lexer": "ipython3",
   "version": "3.12.2"
  }
 },
 "nbformat": 4,
 "nbformat_minor": 2
}
