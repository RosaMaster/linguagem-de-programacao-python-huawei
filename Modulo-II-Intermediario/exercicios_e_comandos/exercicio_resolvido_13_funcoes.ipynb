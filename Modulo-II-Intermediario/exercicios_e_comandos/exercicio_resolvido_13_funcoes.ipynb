{
 "cells": [
  {
   "cell_type": "markdown",
   "metadata": {},
   "source": []
  },
  {
   "cell_type": "code",
   "execution_count": null,
   "metadata": {},
   "outputs": [],
   "source": [
    "def Paridade(a):\n",
    "    if a % 2 == 0:\n",
    "        return 'PAR'\n",
    "    else:\n",
    "        return 'ÍMPAR'\n",
    "\n",
    "n = int(input('Digite um inteiro: '))\n",
    "print(Paridade(n))"
   ]
  }
 ],
 "metadata": {
  "language_info": {
   "name": "python"
  }
 },
 "nbformat": 4,
 "nbformat_minor": 2
}
