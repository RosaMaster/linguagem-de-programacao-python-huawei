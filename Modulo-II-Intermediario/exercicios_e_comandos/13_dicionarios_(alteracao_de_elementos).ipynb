{
 "cells": [
  {
   "cell_type": "markdown",
   "metadata": {},
   "source": [
    "### Dicionários (Alteração de elementos)"
   ]
  },
  {
   "cell_type": "code",
   "execution_count": 6,
   "metadata": {},
   "outputs": [
    {
     "name": "stdout",
     "output_type": "stream",
     "text": [
      "{'AC': 'Acre', 'CE': 'Ceará', 'MT': 'Mato Grosso', 'PR': ('Paraná', 'Curitiba', 11433957), 'SP': ('São Paulo', 'São Paulo', 46289333), 'TOTAL': 57723290}\n",
      "<class 'dict'>\n",
      "('São Paulo', 'São Paulo', 46289333)\n",
      "População do estado de São Paulo: 46289333 habitantes!\n",
      "Acre\n",
      "População total: 57723290 habitantes!\n"
     ]
    }
   ],
   "source": [
    "'''\n",
    "| KEY | ESTADO      | CAPITAL    | POPULAÇÃO |\n",
    "| --- | ----------- | ---------- | --------- |\n",
    "| AC  | Acre        | Rio Branco | 881935    |\n",
    "| CE  | Ceará       | Fortaleza  | 9132078   |\n",
    "| MT  | Mato Grosso | Cuiabá     | 3441998   |\n",
    "| PR  | Paraná      | Curitiba   | 11433957  |\n",
    "| SP  | São Paulo   | São Paulo  | 46289333  |\n",
    "'''\n",
    "\n",
    "uf = {\n",
    "    'AC': 'Acre', \n",
    "    'CE': 'Ceará', \n",
    "    'MT': 'Mato Grosso',\n",
    "    'PR': 'Paraná',\n",
    "    'SP': 'São Paulo'\n",
    "}\n",
    "\n",
    "# Adicionando ESTADO, CAPITAL e a POPULAÇÃO de cada estado\n",
    "uf['SP'] = 'São Paulo', 'São Paulo', 46289333\n",
    "uf['PR'] = 'Paraná', 'Curitiba', 11433957\n",
    "\n",
    "uf['TOTAL'] = sum([uf['PR'][2], uf['SP'][2]])\n",
    "\n",
    "print(uf)\n",
    "print(type(uf))\n",
    "print(uf['SP'])\n",
    "print(f'População do estado de {uf['SP'][0]}: {uf['SP'][2]} habitantes!')\n",
    "print(uf['AC'])\n",
    "\n",
    "print(f'População total: {uf['TOTAL']} habitantes!')"
   ]
  },
  {
   "cell_type": "code",
   "execution_count": 7,
   "metadata": {},
   "outputs": [
    {
     "name": "stdout",
     "output_type": "stream",
     "text": [
      "{'a': 210}\n"
     ]
    }
   ],
   "source": [
    "dict1 = {}\n",
    "\n",
    "dict1['a'] = 10\n",
    "\n",
    "dict1['a'] += 200\n",
    "\n",
    "print(dict1)"
   ]
  },
  {
   "cell_type": "code",
   "execution_count": null,
   "metadata": {},
   "outputs": [
    {
     "name": "stdout",
     "output_type": "stream",
     "text": [
      "aaa4f985-580a-45a6-ab7a-8c8b60b200fe\n",
      "bf6e552b-a42d-450e-919e-0cb012f4cf97\n",
      "9c697441-ebff-4cc2-b2c6-c62beb0c02ab\n",
      "662039fb-261d-4d51-babb-fb6d897a626f\n",
      "ef62528c-a38e-4e7e-b6c4-580cac6b39e5\n",
      "{'Ana': UUID('aaa4f985-580a-45a6-ab7a-8c8b60b200fe'), 'Maria': UUID('bf6e552b-a42d-450e-919e-0cb012f4cf97'), 'José': UUID('9c697441-ebff-4cc2-b2c6-c62beb0c02ab'), 'Pedro': UUID('662039fb-261d-4d51-babb-fb6d897a626f'), 'João': UUID('ef62528c-a38e-4e7e-b6c4-580cac6b39e5'), 'Caio': True}\n",
      "<class 'bool'>\n"
     ]
    }
   ],
   "source": [
    "dict2 = {}\n",
    "\n",
    "# gerador UUID\n",
    "import uuid\n",
    "\n",
    "lista = ['Ana', 'Maria', 'José', 'Pedro', 'João']\n",
    "\n",
    "# gerador de nome\n",
    "\n",
    "for item in lista:\n",
    "    dict2[item] = uuid.uuid4()\n",
    "    print(dict2[item])\n",
    "\n",
    "dict2['Caio'] = True\n",
    "\n",
    "print(dict2)\n",
    "\n",
    "x = dict2['Caio']\n",
    "print(type(x))\n"
   ]
  },
  {
   "cell_type": "code",
   "execution_count": 17,
   "metadata": {},
   "outputs": [
    {
     "name": "stdout",
     "output_type": "stream",
     "text": [
      "{('a', 'b'): 1, ('c', 'd'): 2, (0, 0, 1): 3, (0, 0, 2): 4}\n",
      "<class 'dict'>\n"
     ]
    }
   ],
   "source": [
    "# uma tupla pode ser usada como chave de um dicionário\n",
    "# uma lista não pode ser usada como chave de um dicionário\n",
    "# dicionário não pode ser usado como chave de um dicionário\n",
    "\n",
    "dicionario = { ('a', 'b'): 1, ('c', 'd'): 2 , (0,0,1): 3, (0,0,2): 4 }\n",
    "\n",
    "print(dicionario)\n",
    "print(type(dicionario))"
   ]
  }
 ],
 "metadata": {
  "kernelspec": {
   "display_name": "Python 3",
   "language": "python",
   "name": "python3"
  },
  "language_info": {
   "codemirror_mode": {
    "name": "ipython",
    "version": 3
   },
   "file_extension": ".py",
   "mimetype": "text/x-python",
   "name": "python",
   "nbconvert_exporter": "python",
   "pygments_lexer": "ipython3",
   "version": "3.12.2"
  }
 },
 "nbformat": 4,
 "nbformat_minor": 2
}
