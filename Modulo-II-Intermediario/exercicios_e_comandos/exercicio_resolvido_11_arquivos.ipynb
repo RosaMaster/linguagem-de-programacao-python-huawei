{
 "cells": [
  {
   "cell_type": "markdown",
   "metadata": {},
   "source": [
    "#### Resolução proposta"
   ]
  },
  {
   "cell_type": "code",
   "execution_count": null,
   "metadata": {},
   "outputs": [],
   "source": [
    "Alunos = {}\n",
    "Q = int(input('Digite a qtde de alunos: '))\n",
    "for i in range(Q):\n",
    "    nome = input(f'  nome do aluno {i+1} >> ')\n",
    "    notas = input(f'  notas do {nome} >> ')\n",
    "    notas = notas.split()\n",
    "    for j in range(len(notas)):\n",
    "        notas[j] = float(notas[j])\n",
    "    Alunos[nome] = tuple(notas)\n",
    "\n",
    "print('\\nResultado da Turma')\n",
    "for nome, notas in Alunos.items():\n",
    "    media = sum(notas)/len(notas)\n",
    "    if media >= 6.0:\n",
    "        situacao = 'aprovado'\n",
    "    else:\n",
    "        situacao = 'reprovado'\n",
    "    print('{:12} {:4.1f} {:4.1f} {:4.1f} {:4.1f} {} com média = {:4.1f}'.format(\n",
    "        nome,\n",
    "        notas[0],\n",
    "        notas[1],\n",
    "        notas[2],\n",
    "        notas[3],\n",
    "        situacao,\n",
    "        media)\n",
    "    )\n",
    "print('Fim do Programa')"
   ]
  }
 ],
 "metadata": {
  "language_info": {
   "name": "python"
  }
 },
 "nbformat": 4,
 "nbformat_minor": 2
}
