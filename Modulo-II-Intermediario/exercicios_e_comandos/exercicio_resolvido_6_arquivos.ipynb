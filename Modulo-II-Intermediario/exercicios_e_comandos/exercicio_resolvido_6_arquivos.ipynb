{
 "cells": [
  {
   "cell_type": "markdown",
   "metadata": {},
   "source": [
    "##### exercício 06 Escreva um programa que permaneça em laço lendo numeros inteiros até que seja digitado o zero. Todos os numeros devem ser gravados um por linha utilizando método Write()\n",
    "\n",
    "sintaxe função `open()`\n",
    "~~~Python\n",
    "open(filename, mode)\n",
    "~~~\n",
    "\n",
    "<br>\n",
    "\n",
    "| **modo de abrir** | **descrição**                                              |\n",
    "| ----------------- | ---------------------------------------------------------- |\n",
    "| `r`               | leitura (padrão)                                           |\n",
    "| `w`               | escrita (cria um novo arquivo ou sobrescreve um existente) |\n",
    "| `a`               | anexar (adiciona ao final do arquivo)                      |\n",
    "| `b`               | modo binário                                               |\n",
    "| `t`               | modo texto (padrão)                                        |\n",
    "| `x`               | criação (falha se o arquivo já existir)                    |"
   ]
  },
  {
   "cell_type": "code",
   "execution_count": 1,
   "metadata": {},
   "outputs": [
    {
     "name": "stdout",
     "output_type": "stream",
     "text": [
      "Arquivo criado com sucesso no diretório DATA!\n",
      "\n",
      "### Conteúdo: ###\n",
      "\n",
      "10\n",
      "55\n",
      "88\n",
      "\n"
     ]
    }
   ],
   "source": [
    "arquivo = open('./DATA/saida_exercicio_06.txt', 'w')\n",
    "\n",
    "number = int(input(\"Digite um número inteiro: \"))\n",
    "\n",
    "while number != 0:\n",
    "    # Escreve no arquivo o método write()\n",
    "    arquivo.write(f\"{number}\\n\")\n",
    "\n",
    "    number = int(input(\"Digite um número inteiro: \"))\n",
    "\n",
    "print(\"Arquivo criado com sucesso no diretório DATA!\")\n",
    "\n",
    "# Fecha o arquivo\n",
    "arquivo.close()\n",
    "\n",
    "# Abre o arquivo para leitura\n",
    "arquivo = open('./DATA/saida_exercicio_06.txt', 'r')\n",
    "\n",
    "# Lê o conteúdo do arquivo\n",
    "conteudo = arquivo.read()\n",
    "\n",
    "# Imprime o conteúdo do arquivo\n",
    "print(f\"\\n### Conteúdo: ###\\n\\n{conteudo}\")\n",
    "\n",
    "# Fecha o arquivo\n",
    "arquivo.close()"
   ]
  },
  {
   "cell_type": "markdown",
   "metadata": {},
   "source": [
    "#### Resolução proposta"
   ]
  },
  {
   "cell_type": "code",
   "execution_count": 2,
   "metadata": {},
   "outputs": [],
   "source": [
    "arq_write = open('./DATA/saida_proposta_exercicio_06.txt', 'w')\n",
    "number = int(input(\"Digite um número inteiro: \"))\n",
    "while number != 0:\n",
    "    arq_write.write(f\"{number}\\n\")\n",
    "    number = int(input(\"Digite um número inteiro: \"))\n",
    "arq_write.close()"
   ]
  },
  {
   "cell_type": "markdown",
   "metadata": {},
   "source": [
    "#### Teste"
   ]
  },
  {
   "cell_type": "code",
   "execution_count": 3,
   "metadata": {},
   "outputs": [
    {
     "name": "stdout",
     "output_type": "stream",
     "text": [
      "Arquivo criado com sucesso no diretório DATA!\n",
      "\n",
      "### Conteúdo: ###\n",
      "\n",
      "Hello World!\n",
      "Hello Python!\n"
     ]
    }
   ],
   "source": [
    "arquivo = open('./DATA/teste_01.txt', 'w')\n",
    "\n",
    "# Escreve \"Olá, python!\" no arquivo\n",
    "arquivo.write(\"Hello World!\\nHello Python!\")\n",
    "\n",
    "print(\"Arquivo criado com sucesso no diretório DATA!\")\n",
    "\n",
    "# Fecha o arquivo\n",
    "arquivo.close()\n",
    "\n",
    "# Abre o arquivo para leitura\n",
    "arquivo = open('./DATA/teste_01.txt', 'r')\n",
    "\n",
    "# Lê o conteúdo do arquivo\n",
    "conteudo = arquivo.read()\n",
    "\n",
    "# Imprime o conteúdo do arquivo\n",
    "print(f\"\\n### Conteúdo: ###\\n\\n{conteudo}\")\n",
    "\n",
    "arquivo.close()"
   ]
  }
 ],
 "metadata": {
  "kernelspec": {
   "display_name": "Python 3",
   "language": "python",
   "name": "python3"
  },
  "language_info": {
   "codemirror_mode": {
    "name": "ipython",
    "version": 3
   },
   "file_extension": ".py",
   "mimetype": "text/x-python",
   "name": "python",
   "nbconvert_exporter": "python",
   "pygments_lexer": "ipython3",
   "version": "3.12.2"
  }
 },
 "nbformat": 4,
 "nbformat_minor": 2
}
