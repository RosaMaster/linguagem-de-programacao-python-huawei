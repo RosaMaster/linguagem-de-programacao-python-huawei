{
 "cells": [
  {
   "cell_type": "markdown",
   "metadata": {},
   "source": [
    "#### Resolução proposta"
   ]
  },
  {
   "cell_type": "code",
   "execution_count": null,
   "metadata": {},
   "outputs": [],
   "source": [
    "Precos = []\n",
    "print('Forneça os preços para a lista. Zero para terminar.')\n",
    "preco = float(input('  digite um valor real: '))\n",
    "while preco != 0:\n",
    "    Precos.append(preco)\n",
    "    preco = float(input('  digite um valor real: '))\n",
    "print('Os preços são estes:')\n",
    "print(Precos)\n",
    "\n",
    "aumento = float(input('Digite a porcentagem de aumento (sem o %): '))\n",
    "# este list comprehension aplica o aumento\n",
    "NovosPrecos = [valor * (1+aumento/100) for valor in Precos]\n",
    "# exibição do resultado, um valor por linha\n",
    "for valor in NovosPrecos:\n",
    "    print(f'{valor:.2f}')"
   ]
  }
 ],
 "metadata": {
  "language_info": {
   "name": "python"
  }
 },
 "nbformat": 4,
 "nbformat_minor": 2
}
