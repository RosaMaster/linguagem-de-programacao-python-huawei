{
 "cells": [
  {
   "cell_type": "markdown",
   "metadata": {},
   "source": [
    "### Classes Set e Classes Hashable"
   ]
  },
  {
   "cell_type": "code",
   "execution_count": 4,
   "metadata": {},
   "outputs": [
    {
     "name": "stdout",
     "output_type": "stream",
     "text": [
      "{26}\n",
      "<class 'set'>\n",
      "26\n",
      "26\n",
      "26\n",
      "230584303642\n"
     ]
    }
   ],
   "source": [
    "conjunto01 = {26, 26.0}\n",
    "\n",
    "print(conjunto01)\n",
    "print(type(conjunto01))\n",
    "\n",
    "print(hash(26))\n",
    "print(hash(26.0))\n",
    "print(hash(26.00000))\n",
    "print(hash(26.0000001))"
   ]
  }
 ],
 "metadata": {
  "kernelspec": {
   "display_name": "Python 3",
   "language": "python",
   "name": "python3"
  },
  "language_info": {
   "codemirror_mode": {
    "name": "ipython",
    "version": 3
   },
   "file_extension": ".py",
   "mimetype": "text/x-python",
   "name": "python",
   "nbconvert_exporter": "python",
   "pygments_lexer": "ipython3",
   "version": "3.12.2"
  }
 },
 "nbformat": 4,
 "nbformat_minor": 2
}
