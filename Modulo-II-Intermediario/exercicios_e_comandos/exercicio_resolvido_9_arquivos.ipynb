{
 "cells": [
  {
   "cell_type": "markdown",
   "metadata": {},
   "source": [
    "##### exercício 09 - Escreva um programa que leia um arquivo com numeros inteiros em cada linha. Todos os numeros devem ser mostrados em tela. Mostrar a soma dos valores, a quantidade de números, a média aritmética e menor valor e maior valor, utilizando iterável FOR, e o arquivo como iterador\n",
    "\n",
    "sintaxe função `open()`\n",
    "~~~Python\n",
    "open(filename, mode)\n",
    "~~~\n",
    "\n",
    "<br>\n",
    "\n",
    "| **modo de abrir** | **descrição**                                              |\n",
    "| ----------------- | ---------------------------------------------------------- |\n",
    "| `r`               | leitura (padrão)                                           |\n",
    "| `w`               | escrita (cria um novo arquivo ou sobrescreve um existente) |\n",
    "| `a`               | anexar (adiciona ao final do arquivo)                      |\n",
    "| `b`               | modo binário                                               |\n",
    "| `t`               | modo texto (padrão)                                        |\n",
    "| `x`               | criação (falha se o arquivo já existir)                    |"
   ]
  },
  {
   "cell_type": "markdown",
   "metadata": {},
   "source": [
    "#### Resolução proposta"
   ]
  },
  {
   "cell_type": "code",
   "execution_count": 1,
   "metadata": {},
   "outputs": [
    {
     "name": "stdout",
     "output_type": "stream",
     "text": [
      "[10, 30, 50, 70, 100]\n",
      "SOMA: 260\n",
      "Qtde de numero: 5\n",
      "MÉDIA: 52.0\n",
      "MÍN: 10\n",
      "MÁX: 100\n"
     ]
    }
   ],
   "source": [
    "lista = []\n",
    "\n",
    "read_file_02 = open('./DATA/lista_exercicio_08.txt', 'r')\n",
    "\n",
    "for line in read_file_02:\n",
    "    lista.append(int(line))\n",
    "\n",
    "read_file_02.close()\n",
    "\n",
    "print(lista)\n",
    "\n",
    "soma = sum(lista)\n",
    "\n",
    "print(f'SOMA: {soma}')\n",
    "\n",
    "quantidade = len(lista)\n",
    "\n",
    "print(f'Qtde de numero: {quantidade}')\n",
    "\n",
    "media = sum(lista) / len(lista)\n",
    "\n",
    "print(f'MÉDIA: {media}')\n",
    "\n",
    "minumo = min(lista)\n",
    "\n",
    "print(f'MÍN: {minumo}')\n",
    "\n",
    "maximo = max(lista)\n",
    "\n",
    "print(f'MÁX: {maximo}')\n"
   ]
  }
 ],
 "metadata": {
  "kernelspec": {
   "display_name": "Python 3",
   "language": "python",
   "name": "python3"
  },
  "language_info": {
   "codemirror_mode": {
    "name": "ipython",
    "version": 3
   },
   "file_extension": ".py",
   "mimetype": "text/x-python",
   "name": "python",
   "nbconvert_exporter": "python",
   "pygments_lexer": "ipython3",
   "version": "3.12.2"
  }
 },
 "nbformat": 4,
 "nbformat_minor": 2
}
