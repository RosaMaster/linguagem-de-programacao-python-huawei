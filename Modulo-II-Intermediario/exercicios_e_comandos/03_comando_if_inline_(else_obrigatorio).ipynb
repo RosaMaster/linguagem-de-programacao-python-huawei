{
 "cells": [
  {
   "cell_type": "markdown",
   "metadata": {},
   "source": [
    "### Comando If Inline - Else Obrigatório"
   ]
  },
  {
   "cell_type": "code",
   "execution_count": 3,
   "metadata": {},
   "outputs": [
    {
     "name": "stdout",
     "output_type": "stream",
     "text": [
      "Alternativa com IF clássico\n",
      "[121, 135, 161, 189, 200]\n"
     ]
    }
   ],
   "source": [
    "Codigos = [103, 117, 121, 135, 161, 189, 200, 204, 216]\n",
    "lista = []\n",
    "\n",
    "print(\"Alternativa com IF clássico\")\n",
    "\n",
    "for codigo in Codigos:\n",
    "    if 120 <= codigo and codigo <= 200:\n",
    "        lista.append(codigo)\n",
    "\n",
    "print(lista)"
   ]
  },
  {
   "cell_type": "code",
   "execution_count": 5,
   "metadata": {},
   "outputs": [
    {
     "name": "stdout",
     "output_type": "stream",
     "text": [
      "Alternativa com IF Inline\n",
      "[121, 135, 161, 189, 200]\n"
     ]
    }
   ],
   "source": [
    "Codigos_02 = [103, 117, 121, 135, 161, 189, 200, 204, 216]\n",
    "lista_02 = []\n",
    "\n",
    "print(\"Alternativa com IF Inline\")\n",
    "\n",
    "for codigo in Codigos:\n",
    "    lista_02.append(codigo) if 120 <= codigo and codigo <= 200 else None\n",
    "\n",
    "print(lista_02)"
   ]
  }
 ],
 "metadata": {
  "kernelspec": {
   "display_name": "Python 3",
   "language": "python",
   "name": "python3"
  },
  "language_info": {
   "codemirror_mode": {
    "name": "ipython",
    "version": 3
   },
   "file_extension": ".py",
   "mimetype": "text/x-python",
   "name": "python",
   "nbconvert_exporter": "python",
   "pygments_lexer": "ipython3",
   "version": "3.12.2"
  }
 },
 "nbformat": 4,
 "nbformat_minor": 2
}
