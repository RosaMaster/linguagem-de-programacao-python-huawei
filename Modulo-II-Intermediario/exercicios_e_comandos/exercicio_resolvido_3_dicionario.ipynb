{
 "cells": [
  {
   "cell_type": "markdown",
   "metadata": {},
   "source": [
    "##### exercício 03 - escreva um programa que leia do teclado o código de um produto e seu preço unitario. O código é uma string e o preço é real. Acrescente o par código:preço em um dicionário. O programa deve verificar se o código já está no dicionário e neste caso deve emitir uma mensagem de erro. O laço termina quando for fornecido um string vazio para o código. Ao final, exibir o código e o preço, um produto em cada linha."
   ]
  },
  {
   "cell_type": "code",
   "execution_count": 9,
   "metadata": {},
   "outputs": [
    {
     "name": "stdout",
     "output_type": "stream",
     "text": [
      "{'banana': ['000121', 'Banana', 14.2], 'maca': ['000122', 'Maçã', 5.55], 'pera': ['000123', 'Pêra', 7.9], 'abacate': ['000124', 'Abacate', 9.09], 'melancia': ['000125', 'Melância', 18.3], 'uva': ['000126', 'Uva', 10.7]}\n"
     ]
    }
   ],
   "source": [
    "# Create Dictionary\n",
    "produtos = {\n",
    "    'banana':   ['000121', 'Banana',   14.20],\n",
    "    'maca':     ['000122', 'Maçã',      5.55],\n",
    "    'pera':     ['000123', 'Pêra',      7.90],\n",
    "    'abacate':  ['000124', 'Abacate',   9.09],\n",
    "    'melancia': ['000125', 'Melância', 18.30],\n",
    "    'uva':      ['000126', 'Uva',      10.70]\n",
    "}\n",
    "\n",
    "# Print Dictionary\n",
    "print(produtos)"
   ]
  },
  {
   "cell_type": "code",
   "execution_count": 10,
   "metadata": {},
   "outputs": [
    {
     "name": "stdout",
     "output_type": "stream",
     "text": [
      "True\n",
      "True\n"
     ]
    }
   ],
   "source": [
    "validador = 'banana' in produtos\n",
    "\n",
    "print(validador)\n",
    "\n",
    "validador2 = 'bananas' not in produtos\n",
    "\n",
    "print(validador2)"
   ]
  },
  {
   "cell_type": "code",
   "execution_count": 11,
   "metadata": {},
   "outputs": [
    {
     "name": "stdout",
     "output_type": "stream",
     "text": [
      "1 - Banana - R$ 14.20\n",
      "Subtotal ----> R$ 14.20\n",
      "pessego - Produto não cadastrado! *** WARNING ***\n",
      "amora - Produto não cadastrado! *** WARNING ***\n",
      "2 - Melância - R$ 18.30\n",
      "Subtotal ----> R$ 32.50\n",
      "3 - Pêra - R$ 7.90\n",
      "Subtotal ----> R$ 40.40\n",
      "\n",
      "$$$$$  Total: R$ 40.40  $$$$$   ||  3 itens\n",
      "\n",
      "Volte sempre!!!\n"
     ]
    }
   ],
   "source": [
    "sacola = input('Digite o nome do produto: ').lower()\n",
    "\n",
    "total = 0\n",
    "index = 0\n",
    "\n",
    "while sacola != '':\n",
    "    \n",
    "    if sacola in produtos:\n",
    "        try:\n",
    "            produto = produtos.get(sacola)\n",
    "            total += produto[2]\n",
    "            index += 1\n",
    "\n",
    "            print(f\"{index} - {produto[1]} - R$ {produto[2]:.2f}\")\n",
    "            print(f\"Subtotal ----> R$ {total:.2f}\")\n",
    "            sacola = input('Digite o nome do produto: ').lower()\n",
    "        \n",
    "        except:\n",
    "            print('Error')\n",
    "    \n",
    "    else:\n",
    "        print(f'{sacola} - Produto não cadastrado! *** WARNING ***')\n",
    "\n",
    "    sacola = input('Digite o nome do produto: ').lower()\n",
    "\n",
    "print(f'\\n$$$$$  Total: R$ {total:.2f}  $$$$$   ||  {index} itens')\n",
    "\n",
    "print('\\nVolte sempre!!!')"
   ]
  },
  {
   "cell_type": "markdown",
   "metadata": {},
   "source": [
    "#### Resolução proposta"
   ]
  },
  {
   "cell_type": "code",
   "execution_count": 1,
   "metadata": {},
   "outputs": [
    {
     "name": "stdout",
     "output_type": "stream",
     "text": [
      "Leitura dos dados\n",
      "Fim da leitura dos dados\n",
      "\n",
      "Preço dos Produtos\n",
      "  produto 01 custa 2.0\n",
      "  produto 02 custa 3.0\n",
      "\n",
      "Fim do programa\n"
     ]
    }
   ],
   "source": [
    "produtos = {}\n",
    "print('Leitura dos dados')\n",
    "while True:\n",
    "    cod = input('  Digite o código: ')\n",
    "    if cod == '':\n",
    "        break        # interrompe o laço se cod == ''\n",
    "    elif cod in produtos:\n",
    "        print(f'  ...o código {cod} já está no cadastro')\n",
    "        continue     # segue para a próxima iteração\n",
    "    preco = float(input('  Digite o preço: '))\n",
    "    produtos[cod] = preco\t# acrescenta novo item ao dicionário\n",
    "print('Fim da leitura dos dados\\n')\n",
    "print('Preço dos Produtos')\n",
    "for cod in produtos.keys():\n",
    "    print(f'  produto {cod} custa {produtos[cod]}')\n",
    "print(\"\\nFim do programa\")"
   ]
  }
 ],
 "metadata": {
  "kernelspec": {
   "display_name": "Python 3",
   "language": "python",
   "name": "python3"
  },
  "language_info": {
   "codemirror_mode": {
    "name": "ipython",
    "version": 3
   },
   "file_extension": ".py",
   "mimetype": "text/x-python",
   "name": "python",
   "nbconvert_exporter": "python",
   "pygments_lexer": "ipython3",
   "version": "3.12.2"
  }
 },
 "nbformat": 4,
 "nbformat_minor": 2
}
