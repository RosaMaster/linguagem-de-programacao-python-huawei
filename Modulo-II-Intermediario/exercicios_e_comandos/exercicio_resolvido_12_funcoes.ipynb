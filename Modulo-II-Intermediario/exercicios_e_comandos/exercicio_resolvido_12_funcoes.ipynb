{
 "cells": [
  {
   "cell_type": "markdown",
   "metadata": {},
   "source": []
  },
  {
   "cell_type": "code",
   "execution_count": null,
   "metadata": {},
   "outputs": [],
   "source": [
    "def Operacoes(a, b):\n",
    "    soma = a + b\n",
    "    dife = a - b\n",
    "    mult = a * b\n",
    "    divi = a / b\n",
    "    return soma, dife, mult, divi\n",
    "\n",
    "v1 = float(input('Digite o valor 1: '))\n",
    "v2 = float(input('Digite o valor 2: '))\n",
    "resultados = Operacoes(v1, v2)\n",
    "print('Resultados')\n",
    "print(f'  soma = {resultados[0]:.2f}')\n",
    "print(f'  diferença = {resultados[1]:.2f}')\n",
    "print(f'  multiplicação = {resultados[2]:.2f}')\n",
    "print(f'  divisão = {resultados[3]:.2f}')\n"
   ]
  }
 ],
 "metadata": {
  "language_info": {
   "name": "python"
  }
 },
 "nbformat": 4,
 "nbformat_minor": 2
}
