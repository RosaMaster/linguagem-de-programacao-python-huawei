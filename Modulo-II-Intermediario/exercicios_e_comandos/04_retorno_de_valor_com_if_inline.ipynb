{
 "cells": [
  {
   "cell_type": "markdown",
   "metadata": {},
   "source": [
    "### Retorno de valor com IF Inline"
   ]
  },
  {
   "cell_type": "code",
   "execution_count": 1,
   "metadata": {},
   "outputs": [
    {
     "name": "stdout",
     "output_type": "stream",
     "text": [
      "15 é impar\n"
     ]
    }
   ],
   "source": [
    "number1 = int(input(\"Enter the first number: \"))\n",
    "\n",
    "paridade = 'par' if number1 % 2 == 0 else 'impar'\n",
    "\n",
    "print(f'{number1} é {paridade}')"
   ]
  },
  {
   "cell_type": "code",
   "execution_count": 2,
   "metadata": {},
   "outputs": [
    {
     "name": "stdout",
     "output_type": "stream",
     "text": [
      "10 é par\n"
     ]
    }
   ],
   "source": [
    "number1 = int(input(\"Enter the first number: \"))\n",
    "\n",
    "paridade = 'par' if number1 % 2 == 0 else 'impar'\n",
    "\n",
    "print(f'{number1} é {paridade}')"
   ]
  },
  {
   "cell_type": "code",
   "execution_count": 3,
   "metadata": {},
   "outputs": [
    {
     "name": "stdout",
     "output_type": "stream",
     "text": [
      "True\n"
     ]
    }
   ],
   "source": [
    "a, b = 12, 5\n",
    "if a + b:\n",
    "    print('True')\n",
    "else:\n",
    "  print('False')"
   ]
  }
 ],
 "metadata": {
  "kernelspec": {
   "display_name": "Python 3",
   "language": "python",
   "name": "python3"
  },
  "language_info": {
   "codemirror_mode": {
    "name": "ipython",
    "version": 3
   },
   "file_extension": ".py",
   "mimetype": "text/x-python",
   "name": "python",
   "nbconvert_exporter": "python",
   "pygments_lexer": "ipython3",
   "version": "3.12.2"
  }
 },
 "nbformat": 4,
 "nbformat_minor": 2
}
