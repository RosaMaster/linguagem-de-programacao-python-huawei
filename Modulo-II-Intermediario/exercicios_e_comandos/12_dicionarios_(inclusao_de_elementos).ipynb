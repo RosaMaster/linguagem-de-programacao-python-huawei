{
 "cells": [
  {
   "cell_type": "markdown",
   "metadata": {},
   "source": [
    "### Dicionários (Inclusão de elementos)"
   ]
  },
  {
   "cell_type": "code",
   "execution_count": 7,
   "metadata": {},
   "outputs": [
    {
     "name": "stdout",
     "output_type": "stream",
     "text": [
      "{'AC': 'Acre', 'CE': 'Ceará', 'MT': 'Mato Grosso', 'PR': 'Paraná', 'SP': ('São Paulo', 'São Paulo', 46289333)}\n",
      "<class 'dict'>\n",
      "('São Paulo', 'São Paulo', 46289333)\n",
      "População do estado de São Paulo: 46289333 habitantes!\n",
      "Acre\n"
     ]
    }
   ],
   "source": [
    "'''\n",
    "| KEY | ESTADO      | CAPITAL    | POPULAÇÃO |\n",
    "| --- | ----------- | ---------- | --------- |\n",
    "| AC  | Acre        | Rio Branco | 881935    |\n",
    "| CE  | Ceará       | Fortaleza  | 9132078   |\n",
    "| MT  | Mato Grosso | Cuiabá     | 3441998   |\n",
    "| PR  | Paraná      | Curitiba   | 11433957  |\n",
    "| SP  | São Paulo   | São Paulo  | 46289333  |\n",
    "'''\n",
    "\n",
    "uf = {\n",
    "    'AC': 'Acre', \n",
    "    'CE': 'Ceará', \n",
    "    'MT': 'Mato Grosso',\n",
    "    'PR': 'Paraná',\n",
    "    'SP': 'São Paulo'\n",
    "}\n",
    "\n",
    "# Adicionando ESTADO, CAPITAL e a POPULAÇÃO de cada estado\n",
    "uf['SP'] = 'São Paulo', 'São Paulo', 46289333\n",
    "\n",
    "print(uf)\n",
    "print(type(uf))\n",
    "print(uf['SP'])\n",
    "print(f'População do estado de {uf['SP'][0]}: {uf['SP'][2]} habitantes!')\n",
    "print(uf['AC'])"
   ]
  }
 ],
 "metadata": {
  "kernelspec": {
   "display_name": "Python 3",
   "language": "python",
   "name": "python3"
  },
  "language_info": {
   "codemirror_mode": {
    "name": "ipython",
    "version": 3
   },
   "file_extension": ".py",
   "mimetype": "text/x-python",
   "name": "python",
   "nbconvert_exporter": "python",
   "pygments_lexer": "ipython3",
   "version": "3.12.2"
  }
 },
 "nbformat": 4,
 "nbformat_minor": 2
}
