{
 "cells": [
  {
   "cell_type": "markdown",
   "metadata": {},
   "source": []
  },
  {
   "cell_type": "code",
   "execution_count": null,
   "metadata": {},
   "outputs": [],
   "source": [
    "def LeReal(pLMin, pLMax):\n",
    "    a = float(input('Digite um valor real: '))   # lê o valor\n",
    "    while a < pLMin or a > pLMax:  # permanece em laço enquanto o valor for inválido\n",
    "        print(f'O valor {a} está fora dos limites [{pLMin}, {pLMax}]')\n",
    "        a = float(input('Digite um valor real: '))\n",
    "    return a  # quando o valor for válido retorna\n",
    "\n",
    "LMin = float(input('Digite o valor mínimo: '))\n",
    "LMax = float(input('Digite o valor máximo: '))\n",
    "controle = 's'\n",
    "while controle == 's' or controle == 'S':\n",
    "    Valor = LeReal(LMin, LMax)\n",
    "    print(f'O valor lido é {Valor}')\n",
    "    controle = input('\\nQuer digitar outro valor (s/n)? ')\n",
    "print('Fim do Programa')"
   ]
  }
 ],
 "metadata": {
  "language_info": {
   "name": "python"
  }
 },
 "nbformat": 4,
 "nbformat_minor": 2
}
