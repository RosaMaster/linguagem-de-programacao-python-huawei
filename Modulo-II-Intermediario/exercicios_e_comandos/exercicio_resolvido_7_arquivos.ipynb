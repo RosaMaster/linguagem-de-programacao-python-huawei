{
 "cells": [
  {
   "cell_type": "markdown",
   "metadata": {},
   "source": [
    "##### exercício 07 - Escreva um programa que permaneça em laço lendo numeros inteiros até que seja digitado o zero. Todos os numeros devem ser gravados um por linha utilizando método writeline()\n",
    "\n",
    "sintaxe função `open()`\n",
    "~~~Python\n",
    "open(filename, mode)\n",
    "~~~\n",
    "\n",
    "<br>\n",
    "\n",
    "| **modo de abrir** | **descrição**                                              |\n",
    "| ----------------- | ---------------------------------------------------------- |\n",
    "| `r`               | leitura (padrão)                                           |\n",
    "| `w`               | escrita (cria um novo arquivo ou sobrescreve um existente) |\n",
    "| `a`               | anexar (adiciona ao final do arquivo)                      |\n",
    "| `b`               | modo binário                                               |\n",
    "| `t`               | modo texto (padrão)                                        |\n",
    "| `x`               | criação (falha se o arquivo já existir)                    |"
   ]
  },
  {
   "cell_type": "code",
   "execution_count": null,
   "metadata": {},
   "outputs": [
    {
     "name": "stdout",
     "output_type": "stream",
     "text": [
      "Arquivo criado com sucesso no diretório DATA!\n",
      "\n",
      "### Conteúdo: ###\n",
      "\n",
      "10.500\n",
      "13.790\n",
      "21.220\n",
      "33.333\n",
      "44.545\n",
      "\n"
     ]
    }
   ],
   "source": [
    "lista_exemplo = []\n",
    "\n",
    "number = float(input(\"Digite um número decimal: \"))\n",
    "\n",
    "while number != 0:\n",
    "    lista_exemplo.append(f'{number:.3f}\\n')\n",
    "\n",
    "    number = float(input(\"Digite um número decimal: \"))\n",
    "\n",
    "print(\"Arquivo criado com sucesso no diretório DATA!\")\n",
    "\n",
    "arquivo = open('./DATA/saida_exercicio_07.txt', 'w')\n",
    "\n",
    "# Escreve no arquivo usando a lista de strings e o método writelines()\n",
    "arquivo.writelines(lista_exemplo)\n",
    "\n",
    "# Fecha o arquivo\n",
    "arquivo.close()\n",
    "\n",
    "# Abre o arquivo para leitura\n",
    "arquivo = open('./DATA/saida_exercicio_07.txt', 'r')\n",
    "\n",
    "# Lê o conteúdo do arquivo\n",
    "conteudo = arquivo.read()\n",
    "\n",
    "# Imprime o conteúdo do arquivo\n",
    "print(f\"\\n### Conteúdo: ###\\n\\n{conteudo}\")\n",
    "\n",
    "# Fecha o arquivo\n",
    "arquivo.close()"
   ]
  },
  {
   "cell_type": "markdown",
   "metadata": {},
   "source": [
    "#### Resolução proposta"
   ]
  },
  {
   "cell_type": "code",
   "execution_count": 4,
   "metadata": {},
   "outputs": [
    {
     "name": "stdout",
     "output_type": "stream",
     "text": [
      "['2.500\\n', '3.800\\n', '4.750\\n', '8.880\\n', '11.222\\n', '15.885\\n']\n"
     ]
    }
   ],
   "source": [
    "lista_exemplo = []\n",
    "\n",
    "number = float(input(\"Digite um número decimal: \"))\n",
    "\n",
    "while number != 0:\n",
    "    lista_exemplo.append(f'{number:.3f}\\n')\n",
    "\n",
    "    number = float(input(\"Digite um número decimal: \"))\n",
    "\n",
    "print(lista_exemplo)\n",
    "\n",
    "arq_write = open('./DATA/saida_proposta_exercicio_07.txt', 'w')\n",
    "\n",
    "arq_write.writelines(lista_exemplo)\n",
    "\n",
    "arq_write.close()"
   ]
  }
 ],
 "metadata": {
  "kernelspec": {
   "display_name": "Python 3",
   "language": "python",
   "name": "python3"
  },
  "language_info": {
   "codemirror_mode": {
    "name": "ipython",
    "version": 3
   },
   "file_extension": ".py",
   "mimetype": "text/x-python",
   "name": "python",
   "nbconvert_exporter": "python",
   "pygments_lexer": "ipython3",
   "version": "3.12.2"
  }
 },
 "nbformat": 4,
 "nbformat_minor": 2
}
