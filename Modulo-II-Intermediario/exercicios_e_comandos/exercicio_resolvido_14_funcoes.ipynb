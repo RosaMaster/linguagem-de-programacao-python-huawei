{
 "cells": [
  {
   "cell_type": "markdown",
   "metadata": {},
   "source": []
  },
  {
   "cell_type": "code",
   "execution_count": null,
   "metadata": {},
   "outputs": [],
   "source": [
    "def Divisivel(A, B):\n",
    "    return True if A % B == 0 else False\n",
    "\n",
    "valorA = int(input('Digite A: '))\n",
    "valorB = int(input('Digite B: '))\n",
    "if Divisivel(valorA, valorB):\n",
    "    print(f'{valorA} é divisível por {valorB}')\n",
    "else:\n",
    "    print(f'{valorA} não é divisível por {valorB}')\n"
   ]
  }
 ],
 "metadata": {
  "language_info": {
   "name": "python"
  }
 },
 "nbformat": 4,
 "nbformat_minor": 2
}
