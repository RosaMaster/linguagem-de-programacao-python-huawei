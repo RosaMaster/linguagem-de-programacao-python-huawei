{
 "cells": [
  {
   "cell_type": "markdown",
   "metadata": {},
   "source": [
    "### Exceções (Aprofundamento) - Levantamento de exceções"
   ]
  },
  {
   "cell_type": "code",
   "execution_count": 7,
   "metadata": {},
   "outputs": [
    {
     "name": "stdout",
     "output_type": "stream",
     "text": [
      "Digite um valor inteiro válido.\n",
      "O valor 15 é Ímpar\n"
     ]
    }
   ],
   "source": [
    "def Paridade(pValor):\n",
    "    if pValor % 2 == 0:\n",
    "        return \"Par\"\n",
    "    else:\n",
    "        return \"Ímpar\"\n",
    "    \n",
    "def main():\n",
    "    try:\n",
    "        valor = int(input(\"Digite um valor: \"))\n",
    "        resultado = Paridade(valor)\n",
    "\n",
    "        print(f\"O valor {valor} é {resultado}\")\n",
    "\n",
    "    except ValueError:\n",
    "        print(f\"Digite um valor inteiro válido.\")\n",
    "\n",
    "        valor = int(input(\"Digite um valor: \"))\n",
    "        resultado = Paridade(valor)\n",
    "\n",
    "        print(f\"O valor {valor} é {resultado}\")\n",
    "\n",
    "if __name__ == \"__main__\":\n",
    "    main()\n",
    "\n"
   ]
  }
 ],
 "metadata": {
  "kernelspec": {
   "display_name": "Python 3",
   "language": "python",
   "name": "python3"
  },
  "language_info": {
   "codemirror_mode": {
    "name": "ipython",
    "version": 3
   },
   "file_extension": ".py",
   "mimetype": "text/x-python",
   "name": "python",
   "nbconvert_exporter": "python",
   "pygments_lexer": "ipython3",
   "version": "3.12.2"
  }
 },
 "nbformat": 4,
 "nbformat_minor": 2
}
